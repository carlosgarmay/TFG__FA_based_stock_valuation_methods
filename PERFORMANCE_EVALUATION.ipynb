{
 "cells": [
  {
   "cell_type": "markdown",
   "id": "81ca47c6",
   "metadata": {},
   "source": [
    "**Imports**"
   ]
  },
  {
   "cell_type": "code",
   "execution_count": 2,
   "id": "684fa3ff",
   "metadata": {},
   "outputs": [
    {
     "name": "stdout",
     "output_type": "stream",
     "text": [
      "importing Jupyter notebook from UTILS.ipynb\n"
     ]
    }
   ],
   "source": [
    "import pandas as pd\n",
    "import numpy as np\n",
    "import seaborn as sns\n",
    "import matplotlib.pyplot as plt\n",
    "import pickle\n",
    "import time\n",
    "import import_ipynb\n",
    "import UTILS as utils\n",
    "import os\n",
    "from itertools import repeat\n",
    "import re\n",
    "import plotly.express as px\n",
    "from statistics import mean\n",
    "\n",
    "import FundamentalAnalysis as fa"
   ]
  },
  {
   "cell_type": "code",
   "execution_count": 8,
   "id": "ca25b6bc",
   "metadata": {},
   "outputs": [],
   "source": [
    "api_key = \"Here would go my personal API key\""
   ]
  },
  {
   "cell_type": "markdown",
   "id": "49f0565f",
   "metadata": {},
   "source": [
    "###BEGINNING###"
   ]
  },
  {
   "cell_type": "markdown",
   "id": "8cf288ce",
   "metadata": {},
   "source": [
    "**Generic functions**"
   ]
  },
  {
   "cell_type": "code",
   "execution_count": 9,
   "id": "d459233a",
   "metadata": {},
   "outputs": [],
   "source": [
    "def natural_key(string_):\n",
    "    return [int(s) if s.isdigit() else s for s in re.split(r'(\\d+)', string_) if s]"
   ]
  },
  {
   "cell_type": "code",
   "execution_count": 10,
   "id": "2b011edb",
   "metadata": {},
   "outputs": [],
   "source": [
    "def read_pickle_file(file_name):\n",
    "    with open(file_name,'rb') as file:\n",
    "        raw_data = file.read()\n",
    "        return pickle.loads(raw_data)"
   ]
  },
  {
   "cell_type": "code",
   "execution_count": 11,
   "id": "187f81c2",
   "metadata": {},
   "outputs": [],
   "source": [
    "def get_method_files(method, string_distinction):\n",
    "    outputs_folders = [folder for folder in list(os.listdir(f'models_outputs/{method}_output')) if folder[0].isdigit()]\n",
    "    rev_sorted_folders = sorted(outputs_folders, key=natural_key, reverse=True)\n",
    "    outputs_sorted_by_years = dict()\n",
    "    for folder in rev_sorted_folders:\n",
    "        folder_output=os.listdir(f'models_outputs/{method}_output/{folder}')\n",
    "        if len(folder_output):\n",
    "            pickle_files = list(filter(lambda x: string_distinction in x, folder_output))\n",
    "            if len(pickle_files):\n",
    "                outputs_sorted_by_years[natural_key(folder)[0]]=read_pickle_file(f'models_outputs/{method}_output/{folder}/{pickle_files[0]}')\n",
    "    return outputs_sorted_by_years"
   ]
  },
  {
   "cell_type": "code",
   "execution_count": 12,
   "id": "044e0a5a",
   "metadata": {},
   "outputs": [],
   "source": [
    "def to_csv(sector, sector_df, method):\n",
    "    sector_df.to_csv(f'models_outputs/{method}_output/sectors/{method}_{sector}')"
   ]
  },
  {
   "cell_type": "code",
   "execution_count": 13,
   "id": "5972aa56",
   "metadata": {},
   "outputs": [],
   "source": [
    "def get_evolution_per_sector_sorted(years_output, method):\n",
    "    evolution_per_sector_sorted = dict()\n",
    "    for sector in years_output[0].keys():\n",
    "        evolution_per_sector_sorted[sector] = dict()\n",
    "        for year_disp in years_output.keys():\n",
    "            evolution_per_sector_sorted[sector][year_disp] = dict()\n",
    "            if method in ['DCF', 'EPS', 'NCAVPS', 'GGM']:\n",
    "                nulls_removed_dict = {key:value for key, value in years_output[year_disp][sector].items() if not np.isnan(years_output[year_disp][sector][key][0])}\n",
    "                for key, value in sorted(nulls_removed_dict.items(), key=lambda e: e[1][1], reverse=True):\n",
    "                    evolution_per_sector_sorted[sector][year_disp][key] = value\n",
    "            elif method == 'piotroskiFscore':\n",
    "                nulls_removed_dict = {key:value for key, value in years_output[year_disp][sector].items() if not np.isnan(years_output[year_disp][sector][key])}\n",
    "                for key, value in sorted(nulls_removed_dict.items(), key=lambda e: e[1], reverse=True):\n",
    "                    evolution_per_sector_sorted[sector][year_disp][key] = value\n",
    "            else:\n",
    "                nulls_removed_dict = {key:value for key, value in years_output[year_disp][sector].items() if not np.isnan(years_output[year_disp][sector][key])}\n",
    "                for key, value in sorted(nulls_removed_dict.items(), key=lambda e: e[1], reverse=False):\n",
    "                    evolution_per_sector_sorted[sector][year_disp][key] = value\n",
    "            \n",
    "    return evolution_per_sector_sorted"
   ]
  },
  {
   "cell_type": "code",
   "execution_count": 14,
   "id": "db65d27c",
   "metadata": {},
   "outputs": [],
   "source": [
    "def get_evolution_per_year_sorted(years_output, method):\n",
    "    evolution_per_year_sorted = dict()\n",
    "    for year_disp in years_output.keys():\n",
    "        evolution_per_year_sorted[year_disp] = dict()\n",
    "        for sector in years_output[year_disp].keys():\n",
    "            evolution_per_year_sorted[year_disp][sector] = dict()\n",
    "            \n",
    "            if method in ['DCF', 'EPS', 'NCAVPS', 'GGM']:\n",
    "                nulls_removed_dict = {key:value for key, value in years_output[year_disp][sector].items() if not np.isnan(years_output[year_disp][sector][key][0])}\n",
    "                for key, value in sorted(nulls_removed_dict.items(), key=lambda e: e[1][1], reverse=True):\n",
    "                    evolution_per_year_sorted[year_disp][sector][key] = value\n",
    "            elif method == 'piotroskiFscore':\n",
    "                nulls_removed_dict = {key:value for key, value in years_output[year_disp][sector].items() if not np.isnan(years_output[year_disp][sector][key])}\n",
    "                for key, value in sorted(nulls_removed_dict.items(), key=lambda e: e[1], reverse=True):\n",
    "                    evolution_per_year_sorted[year_disp][sector][key] = value\n",
    "            else:\n",
    "                nulls_removed_dict = {key:value for key, value in years_output[year_disp][sector].items() if not np.isnan(years_output[year_disp][sector][key])}\n",
    "                for key, value in sorted(nulls_removed_dict.items(), key=lambda e: e[1], reverse=False):\n",
    "                    evolution_per_year_sorted[year_disp][sector][key] = value\n",
    "            \n",
    "    return evolution_per_year_sorted"
   ]
  },
  {
   "cell_type": "code",
   "execution_count": 15,
   "id": "c07a4217",
   "metadata": {},
   "outputs": [],
   "source": [
    "def compute_and_store_sectors_dfs(years_output, method):\n",
    "    dfs_dict = dict()\n",
    "    for sector in years_output[0].keys():\n",
    "        sector_df = pd.DataFrame(columns = ['years', 'values', 'tickers'])\n",
    "        for ticker in years_output[0][sector]:\n",
    "            \n",
    "            if method in ['DCF', 'EPS', 'NCAVPS', 'GGM']:\n",
    "                ticker_values_dict = {year:years_output[year][sector][ticker][1] for year in years_output.keys() if ticker in years_output[year][sector].keys()}\n",
    "            elif method in ['piotroskiFscore', 'ranking']:\n",
    "                ticker_values_dict = {year:years_output[year][sector][ticker] for year in years_output.keys() if ticker in years_output[year][sector].keys()}\n",
    "            ticker_df = pd.DataFrame({'years': [-i for i in ticker_values_dict.keys()], 'values': list(ticker_values_dict.values()), 'tickers': list(repeat(ticker, len(ticker_values_dict)))}) \n",
    "            sector_df = pd.concat([sector_df, ticker_df])\n",
    "        dfs_dict[sector]=sector_df\n",
    "        #to_csv(sector, sector_df, method)\n",
    "    return dfs_dict"
   ]
  },
  {
   "cell_type": "code",
   "execution_count": 16,
   "id": "cad5b47e",
   "metadata": {},
   "outputs": [],
   "source": [
    "def get_sector(ticker):\n",
    "    sector = fa.profile(ticker, api_key).loc['sector', 0]\n",
    "    return sector"
   ]
  },
  {
   "cell_type": "code",
   "execution_count": 17,
   "id": "5944c162",
   "metadata": {},
   "outputs": [],
   "source": [
    "def get_ticker_evolution_plot(ticker, method):\n",
    "    years_output = get_method_files(method, 'year.pickle')\n",
    "    dfs_dict = compute_and_store_sectors_dfs(years_output, method)\n",
    "    ticker_to_plot = dfs_dict[get_sector(ticker)].loc[dfs_dict[get_sector(ticker)].tickers == ticker]\n",
    "    if method == 'piotroskiFscore' and ticker == 'NVDA':\n",
    "        data = []\n",
    "        data.insert(0, {'years': -7, 'values': 7, 'tickers': 'NVDA'})\n",
    "        ticker_to_plot = pd.concat([pd.DataFrame(data), ticker_to_plot], ignore_index=True)\n",
    "    fig = px.line(ticker_to_plot, \n",
    "                  x=\"years\", \n",
    "                  y=\"values\",\n",
    "                  title=f'Line chart of the evolution of the {method} for ticker: {ticker}')\n",
    "    fig.show()"
   ]
  },
  {
   "cell_type": "code",
   "execution_count": 18,
   "id": "a061be17",
   "metadata": {},
   "outputs": [],
   "source": [
    "def get_sector_evolution_plot(sector, method):\n",
    "    years_output = get_method_files(method, 'year.pickle')\n",
    "    dfs_dict = compute_and_store_sectors_dfs(years_output, method)\n",
    "    fig = px.line(dfs_dict[sector], \n",
    "                  x=\"years\", \n",
    "                  y=\"values\", \n",
    "                  color='tickers',\n",
    "                  title=f'Line chart of the evolution of the {method} values across companies for sector: {sector}')\n",
    "    fig.show()"
   ]
  },
  {
   "cell_type": "markdown",
   "id": "583dce1f",
   "metadata": {},
   "source": [
    "--------------\n",
    "---------------\n",
    "------------\n",
    "-------------"
   ]
  },
  {
   "cell_type": "markdown",
   "id": "1762c453",
   "metadata": {},
   "source": [
    "#######**ABSOLUTE VALUATION**"
   ]
  },
  {
   "cell_type": "markdown",
   "id": "4d2433de",
   "metadata": {},
   "source": [
    "**Absolute value specific functions**"
   ]
  },
  {
   "cell_type": "code",
   "execution_count": 19,
   "id": "2c4dfd52",
   "metadata": {},
   "outputs": [],
   "source": [
    "def ABS_compute_percentage_winners_per_sector(method):\n",
    "    years_output = get_method_files(method, 'year.pickle')\n",
    "    evolution_per_sector_sorted = get_evolution_per_sector_sorted(years_output, method)\n",
    "    winners_per_sector = dict()\n",
    "    for sector in evolution_per_sector_sorted.keys():\n",
    "        winners_per_sector[sector] = dict()\n",
    "        for year_disp in evolution_per_sector_sorted[sector].keys():\n",
    "            number_of_winners = sum([1 for stock in evolution_per_sector_sorted[sector][year_disp].values() if stock[1] > 1])\n",
    "            winners_per_sector[sector][year_disp] = (number_of_winners/len(evolution_per_sector_sorted[sector][year_disp]))*100\n",
    "    return winners_per_sector"
   ]
  },
  {
   "cell_type": "code",
   "execution_count": 20,
   "id": "ea32f844",
   "metadata": {},
   "outputs": [],
   "source": [
    "def ABS_compute_average_percentage_winners_per_sector(method):\n",
    "    percentage_winners_per_sector = ABS_compute_percentage_winners_per_sector(method)\n",
    "    avg_winners_per_sector = dict()\n",
    "    for sector in percentage_winners_per_sector.keys():\n",
    "        avg_winners_per_sector[sector] = mean(list(percentage_winners_per_sector[sector].values()))\n",
    "    return avg_winners_per_sector"
   ]
  },
  {
   "cell_type": "code",
   "execution_count": 21,
   "id": "4a6b87c6",
   "metadata": {},
   "outputs": [],
   "source": [
    "def ABS_compute_average_percentage_winners_per_year(method):\n",
    "    percentage_winners_per_sector = ABS_compute_percentage_winners_per_sector(method)\n",
    "    avg_winners_per_year = dict()\n",
    "    for year_disp in percentage_winners_per_sector['Industrials'].keys():\n",
    "        sectors_values = []\n",
    "        for sector in percentage_winners_per_sector.keys():\n",
    "            sectors_values.append(percentage_winners_per_sector[sector][year_disp])\n",
    "        avg_winners_per_year[year_disp] = mean(sectors_values)\n",
    "    return avg_winners_per_year"
   ]
  },
  {
   "cell_type": "markdown",
   "id": "0efbf267",
   "metadata": {},
   "source": [
    "-------------------------------------------------------#####**DCF**---------------------------------------------------"
   ]
  },
  {
   "cell_type": "code",
   "execution_count": 22,
   "id": "eec77817",
   "metadata": {},
   "outputs": [],
   "source": [
    "method = 'DCF'\n",
    "years_output = get_method_files(method, 'year.pickle')"
   ]
  },
  {
   "cell_type": "markdown",
   "id": "71299590",
   "metadata": {},
   "source": [
    "*Get a (number of sectors) dataframes with columns=['years', 'values', 'tickers'] (where 'values' are the intrinsic values)*"
   ]
  },
  {
   "cell_type": "code",
   "execution_count": null,
   "id": "2e88ba35",
   "metadata": {},
   "outputs": [],
   "source": [
    "#Get dfs for each sector (considering all the years)\n",
    "sectors_dfs = compute_and_store_sectors_dfs(years_output, method)\n",
    "sectors_dfs['Industrials'].head()"
   ]
  },
  {
   "cell_type": "markdown",
   "id": "03ecfb5f",
   "metadata": {},
   "source": [
    "*Get evolution by sector and year sorted decreasingly by the instrinsic values*"
   ]
  },
  {
   "cell_type": "code",
   "execution_count": 27,
   "id": "5998067f",
   "metadata": {},
   "outputs": [],
   "source": [
    "evolution_per_sector_sorted = get_evolution_per_sector_sorted(years_output, method)\n",
    "evolution_per_year_sorted = get_evolution_per_year_sorted(years_output, method)"
   ]
  },
  {
   "cell_type": "code",
   "execution_count": null,
   "id": "aba65c8f",
   "metadata": {},
   "outputs": [],
   "source": [
    "evolution_per_sector_sorted"
   ]
  },
  {
   "cell_type": "markdown",
   "id": "d0c907e9",
   "metadata": {},
   "source": [
    "*Get percentage of winners for sector and year*"
   ]
  },
  {
   "cell_type": "code",
   "execution_count": null,
   "id": "95ba3ec0",
   "metadata": {},
   "outputs": [],
   "source": [
    "percentage_winners_per_sector = ABS_compute_percentage_winners_per_sector(method)\n",
    "percentage_winners_per_sector"
   ]
  },
  {
   "cell_type": "raw",
   "id": "661ca585",
   "metadata": {},
   "source": [
    "ABS_compute_average_percentage_winners_per_sector(method)"
   ]
  },
  {
   "cell_type": "raw",
   "id": "537545f4",
   "metadata": {},
   "source": [
    "ABS_compute_average_percentage_winners_per_year(method)"
   ]
  },
  {
   "cell_type": "markdown",
   "id": "f8e910fc",
   "metadata": {},
   "source": [
    "*Stock evolution*"
   ]
  },
  {
   "cell_type": "markdown",
   "id": "eb8bc5e4",
   "metadata": {},
   "source": [
    "*Visualize evolution for any S&P 500 ticker*"
   ]
  },
  {
   "cell_type": "code",
   "execution_count": null,
   "id": "67d6b9f7",
   "metadata": {},
   "outputs": [],
   "source": [
    "ticker='NVDA'"
   ]
  },
  {
   "cell_type": "code",
   "execution_count": null,
   "id": "fb5c11e4",
   "metadata": {},
   "outputs": [],
   "source": [
    "get_ticker_evolution_plot(ticker, method)"
   ]
  },
  {
   "cell_type": "markdown",
   "id": "f7a0a79c",
   "metadata": {},
   "source": [
    "**Sector evolution**"
   ]
  },
  {
   "cell_type": "markdown",
   "id": "c2e676f5",
   "metadata": {},
   "source": [
    "Visualize evolution for any sector"
   ]
  },
  {
   "cell_type": "code",
   "execution_count": null,
   "id": "f9a3831f",
   "metadata": {},
   "outputs": [],
   "source": [
    "sector = 'Technology'\n",
    "get_sector_evolution_plot(sector, method)"
   ]
  },
  {
   "cell_type": "markdown",
   "id": "febe2ff9",
   "metadata": {},
   "source": [
    "---------------------------------------------#####**EPS**------------------------------------------------------------"
   ]
  },
  {
   "cell_type": "code",
   "execution_count": null,
   "id": "906f8a50",
   "metadata": {},
   "outputs": [],
   "source": [
    "method = 'EPS'\n",
    "years_output = get_method_files(method, 'year.pickle')"
   ]
  },
  {
   "cell_type": "code",
   "execution_count": null,
   "id": "49878a85",
   "metadata": {},
   "outputs": [],
   "source": [
    "years_output.keys()"
   ]
  },
  {
   "cell_type": "code",
   "execution_count": null,
   "id": "03ec00a3",
   "metadata": {},
   "outputs": [],
   "source": [
    "evolution_per_sector_sorted = get_evolution_per_sector_sorted(years_output, method)\n",
    "evolution_per_year_sorted = get_evolution_per_year_sorted(years_output, method)"
   ]
  },
  {
   "cell_type": "code",
   "execution_count": null,
   "id": "8f9abb45",
   "metadata": {},
   "outputs": [],
   "source": [
    "ABS_compute_average_percentage_winners_per_sector(method)"
   ]
  },
  {
   "cell_type": "code",
   "execution_count": null,
   "id": "9189d515",
   "metadata": {},
   "outputs": [],
   "source": [
    "ABS_compute_average_percentage_winners_per_year(method)"
   ]
  },
  {
   "cell_type": "code",
   "execution_count": null,
   "id": "053a418e",
   "metadata": {},
   "outputs": [],
   "source": [
    "evolution_per_sector_sorted = get_evolution_per_sector_sorted(years_output, method)\n",
    "for year_disp in evolution_per_sector_sorted['Technology'].keys():\n",
    "    print(evolution_per_sector_sorted['Technology'][year_disp][ticker])"
   ]
  },
  {
   "cell_type": "code",
   "execution_count": null,
   "id": "da9a477b",
   "metadata": {},
   "outputs": [],
   "source": [
    "get_ticker_evolution_plot(ticker, method)"
   ]
  },
  {
   "cell_type": "code",
   "execution_count": null,
   "id": "50c91414",
   "metadata": {},
   "outputs": [],
   "source": [
    "sector = 'Technology'\n",
    "get_sector_evolution_plot(sector, method)"
   ]
  },
  {
   "cell_type": "markdown",
   "id": "8e66c9b3",
   "metadata": {},
   "source": [
    "-----------------------------------------------------#####**NCAVPS**--------------------------------------------------"
   ]
  },
  {
   "cell_type": "markdown",
   "id": "5dfbbde0",
   "metadata": {},
   "source": [
    "This method results are the most tightly related with the price itself. Maybe it is because the complexity of the method is low and therefore it is probably the case that it is used to identify good opportunities"
   ]
  },
  {
   "cell_type": "code",
   "execution_count": null,
   "id": "4523f211",
   "metadata": {},
   "outputs": [],
   "source": [
    "method = 'NCAVPS'\n",
    "years_output = get_method_files(method, 'year.pickle')"
   ]
  },
  {
   "cell_type": "code",
   "execution_count": null,
   "id": "80e28358",
   "metadata": {},
   "outputs": [],
   "source": [
    "years_output.keys()"
   ]
  },
  {
   "cell_type": "code",
   "execution_count": null,
   "id": "0c7d1196",
   "metadata": {},
   "outputs": [],
   "source": [
    "evolution_per_sector_sorted = get_evolution_per_sector_sorted(years_output, method)\n",
    "evolution_per_year_sorted = get_evolution_per_year_sorted(years_output, method)"
   ]
  },
  {
   "cell_type": "code",
   "execution_count": null,
   "id": "b517a2a1",
   "metadata": {},
   "outputs": [],
   "source": [
    "evolution_per_sector_sorted['Technology']"
   ]
  },
  {
   "cell_type": "code",
   "execution_count": null,
   "id": "f60459e1",
   "metadata": {},
   "outputs": [],
   "source": [
    "ABS_compute_average_percentage_winners_per_sector(method)"
   ]
  },
  {
   "cell_type": "code",
   "execution_count": null,
   "id": "79adda8f",
   "metadata": {},
   "outputs": [],
   "source": [
    "ABS_compute_average_percentage_winners_per_year(method)"
   ]
  },
  {
   "cell_type": "code",
   "execution_count": null,
   "id": "82ecb805",
   "metadata": {},
   "outputs": [],
   "source": [
    "evolution_per_sector_sorted = get_evolution_per_sector_sorted(years_output, method)\n",
    "for year_disp in evolution_per_sector_sorted['Technology'].keys():\n",
    "    print(evolution_per_sector_sorted['Technology'][year_disp][ticker])"
   ]
  },
  {
   "cell_type": "code",
   "execution_count": null,
   "id": "c2e8b603",
   "metadata": {},
   "outputs": [],
   "source": [
    "get_ticker_evolution_plot(ticker, method)"
   ]
  },
  {
   "cell_type": "code",
   "execution_count": null,
   "id": "fe278c30",
   "metadata": {},
   "outputs": [],
   "source": [
    "sector = 'Technology'\n",
    "get_sector_evolution_plot(sector, method)"
   ]
  },
  {
   "cell_type": "markdown",
   "id": "ee15c37b",
   "metadata": {},
   "source": [
    "------------------------------------------------------------#####**GGM**-------------------------------------------"
   ]
  },
  {
   "cell_type": "code",
   "execution_count": null,
   "id": "a86ace99",
   "metadata": {},
   "outputs": [],
   "source": [
    "method = 'GGM'\n",
    "years_output = get_method_files(method, 'year.pickle')"
   ]
  },
  {
   "cell_type": "code",
   "execution_count": null,
   "id": "8a812a0e",
   "metadata": {},
   "outputs": [],
   "source": [
    "years_output.keys()"
   ]
  },
  {
   "cell_type": "code",
   "execution_count": null,
   "id": "f716877c",
   "metadata": {},
   "outputs": [],
   "source": [
    "evolution_per_sector_sorted = get_evolution_per_sector_sorted(years_output, method)\n",
    "evolution_per_year_sorted = get_evolution_per_year_sorted(years_output, method)"
   ]
  },
  {
   "cell_type": "code",
   "execution_count": null,
   "id": "40cd271f",
   "metadata": {},
   "outputs": [],
   "source": [
    "evolution_per_sector_sorted['Technology']"
   ]
  },
  {
   "cell_type": "code",
   "execution_count": null,
   "id": "4d373d1a",
   "metadata": {},
   "outputs": [],
   "source": [
    "ABS_compute_average_percentage_winners_per_sector(method)"
   ]
  },
  {
   "cell_type": "code",
   "execution_count": null,
   "id": "877e052b",
   "metadata": {},
   "outputs": [],
   "source": [
    "ABS_compute_average_percentage_winners_per_year(method)"
   ]
  },
  {
   "cell_type": "code",
   "execution_count": null,
   "id": "6abc7a7b",
   "metadata": {},
   "outputs": [],
   "source": [
    "get_ticker_evolution_plot(ticker, method)"
   ]
  },
  {
   "cell_type": "raw",
   "id": "6a9748a6",
   "metadata": {},
   "source": [
    "sector = 'Industrials'\n",
    "get_sector_evolution_plot(sector, method)"
   ]
  },
  {
   "cell_type": "markdown",
   "id": "0da87ac0",
   "metadata": {},
   "source": [
    "-----------------\n",
    "--------------------\n",
    "---------------\n",
    "-------------------"
   ]
  },
  {
   "cell_type": "markdown",
   "id": "7d8c171a",
   "metadata": {},
   "source": [
    "#######**RELATIVE VALUATION**"
   ]
  },
  {
   "cell_type": "code",
   "execution_count": null,
   "id": "4dead35c",
   "metadata": {},
   "outputs": [],
   "source": [
    "def REL_compute_percentage_winners_per_sector(method):\n",
    "    years_output = get_method_files(method, 'year.pickle')\n",
    "    evolution_per_sector_sorted = get_evolution_per_sector_sorted(years_output, method)\n",
    "    winners_per_sector = dict()\n",
    "    if method == 'piotroskiFscore':\n",
    "        for sector in evolution_per_sector_sorted.keys():\n",
    "            winners_per_sector[sector] = dict()\n",
    "            for year_disp in evolution_per_sector_sorted[sector].keys():\n",
    "                number_of_winners = sum([1 for stock in evolution_per_sector_sorted[sector][year_disp].values() if stock>=8])\n",
    "                winners_per_sector[sector][year_disp] = (number_of_winners/len(evolution_per_sector_sorted[sector][year_disp]))*100\n",
    "    else:\n",
    "        for sector in evolution_per_sector_sorted.keys():\n",
    "            winners_per_sector[sector] = dict()\n",
    "            for year_disp in evolution_per_sector_sorted[sector].keys():\n",
    "                quartile1 = np.quantile(list(evolution_per_sector_sorted[sector][year_disp].values()), [0.25])[0]\n",
    "                number_of_winners = sum([1 for stock in evolution_per_sector_sorted[sector][year_disp].values() if stock>0 and stock<quartile1])\n",
    "                winners_per_sector[sector][year_disp] = (number_of_winners/len(evolution_per_sector_sorted[sector][year_disp]))*100\n",
    "        pass\n",
    "    return winners_per_sector"
   ]
  },
  {
   "cell_type": "code",
   "execution_count": null,
   "id": "2df9e729",
   "metadata": {},
   "outputs": [],
   "source": [
    "def REL_compute_average_percentage_winners_per_sector(method):\n",
    "    percentage_winners_per_sector = REL_compute_percentage_winners_per_sector(method)\n",
    "    avg_winners_per_sector = dict()\n",
    "    for sector in percentage_winners_per_sector.keys():\n",
    "        avg_winners_per_sector[sector] = mean(list(percentage_winners_per_sector[sector].values()))\n",
    "    return avg_winners_per_sector"
   ]
  },
  {
   "cell_type": "code",
   "execution_count": null,
   "id": "7c8860df",
   "metadata": {},
   "outputs": [],
   "source": [
    "def REL_compute_average_percentage_winners_per_year(method):\n",
    "    percentage_winners_per_sector = REL_compute_percentage_winners_per_sector(method)\n",
    "    avg_winners_per_year = dict()\n",
    "    for year_disp in percentage_winners_per_sector['Industrials'].keys():\n",
    "        sectors_values = []\n",
    "        for sector in percentage_winners_per_sector.keys():\n",
    "            sectors_values.append(percentage_winners_per_sector[sector][year_disp])\n",
    "        avg_winners_per_year[year_disp] = mean(sectors_values)\n",
    "    return avg_winners_per_year"
   ]
  },
  {
   "cell_type": "markdown",
   "id": "16d14c87",
   "metadata": {},
   "source": [
    "-------------------------------------------------#####**Piotroski F score**------------------------------------------"
   ]
  },
  {
   "cell_type": "code",
   "execution_count": null,
   "id": "5e92c105",
   "metadata": {},
   "outputs": [],
   "source": [
    "method = 'piotroskiFscore'\n",
    "years_output = get_method_files(method, 'year.pickle')"
   ]
  },
  {
   "cell_type": "code",
   "execution_count": null,
   "id": "cf57795f",
   "metadata": {},
   "outputs": [],
   "source": [
    "years_output.keys()"
   ]
  },
  {
   "cell_type": "code",
   "execution_count": null,
   "id": "b7c9d0b3",
   "metadata": {},
   "outputs": [],
   "source": [
    "evolution_per_sector_sorted = get_evolution_per_sector_sorted(years_output, method)\n",
    "evolution_per_year_sorted = get_evolution_per_year_sorted(years_output, method)"
   ]
  },
  {
   "cell_type": "code",
   "execution_count": null,
   "id": "2182eef8",
   "metadata": {},
   "outputs": [],
   "source": [
    "evolution_per_sector_sorted['Technology']"
   ]
  },
  {
   "cell_type": "code",
   "execution_count": null,
   "id": "5f27810f",
   "metadata": {},
   "outputs": [],
   "source": [
    "percentage_winners_per_sector = REL_compute_percentage_winners_per_sector(method)\n",
    "percentage_winners_per_sector"
   ]
  },
  {
   "cell_type": "code",
   "execution_count": null,
   "id": "9b83b88e",
   "metadata": {},
   "outputs": [],
   "source": [
    "REL_compute_average_percentage_winners_per_sector(method)"
   ]
  },
  {
   "cell_type": "code",
   "execution_count": null,
   "id": "ebf050bd",
   "metadata": {},
   "outputs": [],
   "source": [
    "REL_compute_average_percentage_winners_per_year(method)"
   ]
  },
  {
   "cell_type": "code",
   "execution_count": null,
   "id": "a2933ee6",
   "metadata": {},
   "outputs": [],
   "source": [
    "get_ticker_evolution_plot(ticker, method)"
   ]
  },
  {
   "cell_type": "code",
   "execution_count": null,
   "id": "b958eb45",
   "metadata": {},
   "outputs": [],
   "source": [
    "sector = 'Industrials'\n",
    "get_sector_evolution_plot(sector, method)"
   ]
  },
  {
   "cell_type": "markdown",
   "id": "a754bade",
   "metadata": {},
   "source": [
    "---------"
   ]
  },
  {
   "cell_type": "markdown",
   "id": "e82ee30d",
   "metadata": {},
   "source": [
    "------------------------------------------------#####**Naive ranking**---------------------------------------------"
   ]
  },
  {
   "cell_type": "code",
   "execution_count": null,
   "id": "b6a1f4d0",
   "metadata": {},
   "outputs": [],
   "source": [
    "method = 'ranking'\n",
    "years_output = get_method_files(method, 'year.pickle')"
   ]
  },
  {
   "cell_type": "code",
   "execution_count": null,
   "id": "3d1a0cb8",
   "metadata": {},
   "outputs": [],
   "source": [
    "years_output.keys()"
   ]
  },
  {
   "cell_type": "code",
   "execution_count": null,
   "id": "79ad3301",
   "metadata": {},
   "outputs": [],
   "source": [
    "evolution_per_sector_sorted = get_evolution_per_sector_sorted(years_output, method)\n",
    "evolution_per_year_sorted = get_evolution_per_year_sorted(years_output, method)"
   ]
  },
  {
   "cell_type": "raw",
   "id": "41ff008d",
   "metadata": {},
   "source": [
    "evolution_per_sector_sorted['Technology']"
   ]
  },
  {
   "cell_type": "raw",
   "id": "1533167a",
   "metadata": {},
   "source": [
    "REL_compute_percentage_winners_per_sector(method)"
   ]
  },
  {
   "cell_type": "code",
   "execution_count": null,
   "id": "5899bfbd",
   "metadata": {},
   "outputs": [],
   "source": [
    "REL_compute_average_percentage_winners_per_sector(method)"
   ]
  },
  {
   "cell_type": "code",
   "execution_count": null,
   "id": "81915d3f",
   "metadata": {},
   "outputs": [],
   "source": [
    "REL_compute_average_percentage_winners_per_year(method)"
   ]
  },
  {
   "cell_type": "code",
   "execution_count": null,
   "id": "bd80685e",
   "metadata": {},
   "outputs": [],
   "source": [
    "get_ticker_evolution_plot(ticker, method)"
   ]
  },
  {
   "cell_type": "code",
   "execution_count": null,
   "id": "c304972d",
   "metadata": {},
   "outputs": [],
   "source": [
    "sector = 'Industrials'\n",
    "get_sector_evolution_plot(sector, method)"
   ]
  }
 ],
 "metadata": {
  "kernelspec": {
   "display_name": "Python 3 (ipykernel)",
   "language": "python",
   "name": "python3"
  },
  "language_info": {
   "codemirror_mode": {
    "name": "ipython",
    "version": 3
   },
   "file_extension": ".py",
   "mimetype": "text/x-python",
   "name": "python",
   "nbconvert_exporter": "python",
   "pygments_lexer": "ipython3",
   "version": "3.9.7"
  }
 },
 "nbformat": 4,
 "nbformat_minor": 5
}
