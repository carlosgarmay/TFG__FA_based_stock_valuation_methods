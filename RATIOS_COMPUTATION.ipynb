{
 "cells": [
  {
   "cell_type": "markdown",
   "metadata": {},
   "source": [
    "<font color='cadetblue'><font size=\"5\">**IMPORT LIBRARIES**</font>"
   ]
  },
  {
   "cell_type": "code",
   "execution_count": 1,
   "metadata": {},
   "outputs": [],
   "source": [
    "#FINANCIAL LIBRARIES\n",
    "import FundamentalAnalysis as fa\n",
    "\n",
    "#OTHERS\n",
    "import pandas as pd\n",
    "import numpy as np\n",
    "from datetime import date\n",
    "import plotly.graph_objects as go\n",
    "import matplotlib.pyplot as plt\n",
    "import datetime\n",
    "\n",
    "%matplotlib inline"
   ]
  },
  {
   "cell_type": "code",
   "execution_count": 2,
   "metadata": {},
   "outputs": [],
   "source": [
    "api_key = \"Here would go my personal API key\""
   ]
  },
  {
   "cell_type": "markdown",
   "metadata": {},
   "source": [
    "<font color='cadetblue'><font size=\"5\">**DEFINE FINANCIAL FUNCTIONS**</font>"
   ]
  },
  {
   "cell_type": "markdown",
   "metadata": {},
   "source": [
    "**Table definitions of FundamentalAnalysis**"
   ]
  },
  {
   "cell_type": "code",
   "execution_count": 3,
   "metadata": {},
   "outputs": [],
   "source": [
    "financial_ratios = fa.financial_ratios(ticker, api_key, period=\"quarter\")\n",
    "\n",
    "income_statement = fa.income_statement(ticker, api_key, period=\"quarter\")\n",
    "\n",
    "balance_sheet = fa.balance_sheet_statement(ticker, api_key, period=\"quarter\")\n",
    "\n",
    "cash_flow_statement = fa.cash_flow_statement(ticker, api_key, period=\"quarter\")\n",
    "\n",
    "key_metrics = fa.key_metrics(ticker, api_key, period=\"quarter\")\n",
    "\n",
    "enterprise_value = fa.enterprise(ticker, api_key, period=\"quarter\")\n",
    "\n",
    "growth = fa.financial_statement_growth(ticker, api_key, period=\"quarter\")"
   ]
  },
  {
   "cell_type": "markdown",
   "metadata": {},
   "source": [
    "<font color='cadetblue'><font size=\"5\">**DEFINE A FUNCTION TO HANDLE EXCEPTIONS**</font>"
   ]
  },
  {
   "cell_type": "code",
   "execution_count": 4,
   "metadata": {},
   "outputs": [],
   "source": [
    "def exception_handler(method, *args):\n",
    "    try:\n",
    "        return method(*args)\n",
    "    except ZeroDivisionError:\n",
    "        return 0\n",
    "    except TypeError:\n",
    "        return None\n",
    "    except KeyError:\n",
    "        return None\n",
    "    except IndexError:\n",
    "        return None"
   ]
  },
  {
   "cell_type": "markdown",
   "metadata": {},
   "source": [
    "<font color='cadetblue'><font size=\"5\">**DEFINE THE FUNCTIONS WITH THE RATIOS COMPUTATIONS**</font>"
   ]
  },
  {
   "cell_type": "markdown",
   "metadata": {},
   "source": [
    "<font color='blue'><font size=\"3\">**PROFITABILITY RATIOS**</font>"
   ]
  },
  {
   "cell_type": "markdown",
   "metadata": {},
   "source": [
    "**Net Profit Margin (also known as Profit After Tax Margin)** <br>\n",
    " Net Income / Total Revenue (or Total Sales)"
   ]
  },
  {
   "cell_type": "code",
   "execution_count": 5,
   "metadata": {},
   "outputs": [],
   "source": [
    "def compute_net_profit_margin(financial_ratios, ttm=False, disp=0):    \n",
    "    \n",
    "    if ttm:\n",
    "        net_profit_margin = financial_ratios[list(financial_ratios.columns[4*disp:4+(4*disp)])].loc['netProfitMargin'].mean()\n",
    "    else:\n",
    "        net_profit_margin = financial_ratios.loc['netProfitMargin', financial_ratios.columns[disp]]\n",
    "    \n",
    "    return net_profit_margin"
   ]
  },
  {
   "cell_type": "code",
   "execution_count": 6,
   "metadata": {},
   "outputs": [
    {
     "data": {
      "text/plain": [
       "0.23742454728370221"
      ]
     },
     "execution_count": 6,
     "metadata": {},
     "output_type": "execute_result"
    }
   ],
   "source": [
    "exception_handler(compute_net_profit_margin, financial_ratios, False, 1)"
   ]
  },
  {
   "cell_type": "markdown",
   "metadata": {},
   "source": [
    "**EBITDA Margin (or EBITDA ratio)** <br>\n",
    " EBITDA / Total Revenue (or Total Sales)"
   ]
  },
  {
   "cell_type": "code",
   "execution_count": 7,
   "metadata": {},
   "outputs": [],
   "source": [
    "def compute_EBITDA_margin(income_statement, ttm=False, disp=0):\n",
    "    \n",
    "    if ttm:\n",
    "        EBITDA_margin = income_statement[list(income_statement.columns[4*disp:4+(4*disp)])].loc['ebitdaratio'].mean()\n",
    "    else:\n",
    "        EBITDA_margin = income_statement.loc['ebitdaratio', income_statement.columns[disp]]\n",
    "        \n",
    "    return EBITDA_margin"
   ]
  },
  {
   "cell_type": "code",
   "execution_count": 8,
   "metadata": {},
   "outputs": [
    {
     "data": {
      "text/plain": [
       "0.35390549662487947"
      ]
     },
     "execution_count": 8,
     "metadata": {},
     "output_type": "execute_result"
    }
   ],
   "source": [
    "exception_handler(compute_EBITDA_margin, income_statement)"
   ]
  },
  {
   "cell_type": "markdown",
   "metadata": {},
   "source": [
    "**Return on Equity ratio (ROE)** <br>\n",
    " Net Income / Average Shareholders' Equity"
   ]
  },
  {
   "cell_type": "code",
   "execution_count": 9,
   "metadata": {},
   "outputs": [],
   "source": [
    "def compute_ROE(financial_ratios, ttm=False, disp=0):\n",
    "    \n",
    "    if ttm:\n",
    "        ROE = financial_ratios[list(financial_ratios.columns[4*disp:4+(4*disp)])].loc['returnOnEquity'].sum()\n",
    "    else:\n",
    "        ROE = financial_ratios.loc['returnOnEquity', financial_ratios.columns[disp]]\n",
    "    \n",
    "    return ROE"
   ]
  },
  {
   "cell_type": "code",
   "execution_count": 10,
   "metadata": {},
   "outputs": [
    {
     "data": {
      "text/plain": [
       "0.10281857880111155"
      ]
     },
     "execution_count": 10,
     "metadata": {},
     "output_type": "execute_result"
    }
   ],
   "source": [
    "exception_handler(compute_ROE, financial_ratios)"
   ]
  },
  {
   "cell_type": "markdown",
   "metadata": {},
   "source": [
    "**Return on Assets ratio (ROA)** <br>\n",
    " Net Income / Total Assets"
   ]
  },
  {
   "cell_type": "code",
   "execution_count": 11,
   "metadata": {},
   "outputs": [],
   "source": [
    "def compute_ROA(financial_ratios, ttm=False, disp=0):\n",
    "    \n",
    "    if ttm:\n",
    "        ROA = financial_ratios[list(financial_ratios.columns[4*disp:4+(4*disp)])].loc['returnOnAssets'].mean()\n",
    "    else:\n",
    "        ROA = financial_ratios.loc['returnOnAssets', financial_ratios.columns[disp]]\n",
    "        \n",
    "    return ROA"
   ]
  },
  {
   "cell_type": "code",
   "execution_count": 12,
   "metadata": {
    "scrolled": true
   },
   "outputs": [
    {
     "data": {
      "text/plain": [
       "0.04159974301317058"
      ]
     },
     "execution_count": 12,
     "metadata": {},
     "output_type": "execute_result"
    }
   ],
   "source": [
    "exception_handler(compute_ROA, financial_ratios)"
   ]
  },
  {
   "cell_type": "markdown",
   "metadata": {},
   "source": [
    "**Return on Capital Employed ratio (ROCE)** <br>\n",
    "EBIT / Capital Employed"
   ]
  },
  {
   "cell_type": "code",
   "execution_count": 13,
   "metadata": {},
   "outputs": [],
   "source": [
    "def compute_ROCE(financial_ratios, ttm=False, disp=0):  \n",
    "    \n",
    "    if ttm:\n",
    "        ROCE = financial_ratios[list(financial_ratios.columns[4*disp:4+(4*disp)])].loc['returnOnCapitalEmployed'].mean()\n",
    "    else:\n",
    "        ROCE = financial_ratios.loc['returnOnCapitalEmployed', financial_ratios.columns[disp]]\n",
    "        \n",
    "    return ROCE"
   ]
  },
  {
   "cell_type": "code",
   "execution_count": 14,
   "metadata": {},
   "outputs": [
    {
     "data": {
      "text/plain": [
       "0.06702723585087889"
      ]
     },
     "execution_count": 14,
     "metadata": {},
     "output_type": "execute_result"
    }
   ],
   "source": [
    "exception_handler(compute_ROCE, financial_ratios)"
   ]
  },
  {
   "cell_type": "markdown",
   "metadata": {},
   "source": [
    "**Gross Margin ratio (also known as Gross Profit Margin ratio)** <br>\n",
    "(Total Revenue - Cost of Goods Sold) / Total Revenue"
   ]
  },
  {
   "cell_type": "code",
   "execution_count": 15,
   "metadata": {},
   "outputs": [],
   "source": [
    "def compute_gross_margin(financial_ratios, ttm=False, disp=0):\n",
    "\n",
    "    if ttm:\n",
    "        gross_margin = financial_ratios[list(financial_ratios.columns[4*disp:4+(4*disp)])].loc['grossProfitMargin'].mean()\n",
    "    else:\n",
    "        gross_margin = financial_ratios.loc['grossProfitMargin', financial_ratios.columns[disp]]\n",
    "        \n",
    "    return gross_margin"
   ]
  },
  {
   "cell_type": "code",
   "execution_count": 16,
   "metadata": {},
   "outputs": [
    {
     "data": {
      "text/plain": [
       "0.5998071359691417"
      ]
     },
     "execution_count": 16,
     "metadata": {},
     "output_type": "execute_result"
    }
   ],
   "source": [
    "exception_handler(compute_gross_margin, financial_ratios)"
   ]
  },
  {
   "cell_type": "markdown",
   "metadata": {},
   "source": [
    "**Operating Margin ratio (also known as Operating Profit Margin ratio)** <br>\n",
    "Operating Earnings (also considered as EBIT) / Total Revenue"
   ]
  },
  {
   "cell_type": "code",
   "execution_count": 17,
   "metadata": {},
   "outputs": [],
   "source": [
    "def compute_operating_margin(financial_ratios, ttm=False, disp=0):\n",
    "    \n",
    "    if ttm:\n",
    "        operating_margin_ratio = financial_ratios[list(financial_ratios.columns[4*disp:4+(4*disp)])].loc['operatingProfitMargin'].mean()\n",
    "    else:\n",
    "        operating_margin_ratio = financial_ratios.loc['operatingProfitMargin', financial_ratios.columns[disp]]\n",
    "        \n",
    "    return operating_margin_ratio"
   ]
  },
  {
   "cell_type": "code",
   "execution_count": 18,
   "metadata": {},
   "outputs": [
    {
     "data": {
      "text/plain": [
       "0.33461909353905495"
      ]
     },
     "execution_count": 18,
     "metadata": {},
     "output_type": "execute_result"
    }
   ],
   "source": [
    "exception_handler(compute_operating_margin, financial_ratios)"
   ]
  },
  {
   "cell_type": "markdown",
   "metadata": {},
   "source": [
    "**Operating Cash Flow ratio** <br>\n",
    "Operating Cash Flow / Current Liabilities"
   ]
  },
  {
   "cell_type": "code",
   "execution_count": 19,
   "metadata": {},
   "outputs": [],
   "source": [
    "def compute_operating_cash_flow_ratio(balance_sheet, income_statement, ttm=False, disp=0):\n",
    "    \n",
    "    if ttm:\n",
    "        operating_cash_flow_ratio = cash_flow_statement[list(cash_flow_statement.columns[4*disp:4+(4*disp)])].loc['operatingCashFlow'].mean()/\\\n",
    "                                    balance_sheet[list(balance_sheet.columns[4*disp:4+(4*disp)])].loc['totalCurrentLiabilities'].mean()\n",
    "    else:\n",
    "        operating_cash_flow_ratio = cash_flow_statement.loc['operatingCashFlow', cash_flow_statement.columns[disp]]/\\\n",
    "                                    balance_sheet.loc['totalCurrentLiabilities', balance_sheet.columns[disp]]\n",
    "    \n",
    "    return operating_cash_flow_ratio"
   ]
  },
  {
   "cell_type": "code",
   "execution_count": 20,
   "metadata": {},
   "outputs": [
    {
     "data": {
      "text/plain": [
       "0.3317445185891325"
      ]
     },
     "execution_count": 20,
     "metadata": {},
     "output_type": "execute_result"
    }
   ],
   "source": [
    "exception_handler(compute_operating_cash_flow_ratio, balance_sheet, income_statement)"
   ]
  },
  {
   "cell_type": "markdown",
   "metadata": {},
   "source": [
    "**Return on Invested Capital ratio (ROIC)** <br>\n",
    "Net Operating Profit After Tax / Invested Capital<br>\n",
    "or<br>\n",
    "(Net Income - Dividends) / (Debt + Equity)"
   ]
  },
  {
   "cell_type": "code",
   "execution_count": 21,
   "metadata": {},
   "outputs": [],
   "source": [
    "def compute_return_on_invested_capital(key_metrics, ttm=False, disp=0):  \n",
    "    \n",
    "    if ttm:\n",
    "        ROIC = key_metrics[list(key_metrics.columns[4*disp:4+(4*disp)])].loc['roic'].mean()\n",
    "    else:\n",
    "        ROIC = key_metrics.loc['roic', key_metrics.columns[disp]]\n",
    "    \n",
    "    return ROIC"
   ]
  },
  {
   "cell_type": "code",
   "execution_count": 22,
   "metadata": {},
   "outputs": [
    {
     "data": {
      "text/plain": [
       "0.06702723585087889"
      ]
     },
     "execution_count": 22,
     "metadata": {},
     "output_type": "execute_result"
    }
   ],
   "source": [
    "exception_handler(compute_return_on_invested_capital, key_metrics)"
   ]
  },
  {
   "cell_type": "markdown",
   "metadata": {},
   "source": [
    "**Return on Sales ratio (ROS)** <br>\n",
    "Operating profit (or also EBIT) / Net Sales (or Revenue)<br>"
   ]
  },
  {
   "cell_type": "code",
   "execution_count": 23,
   "metadata": {},
   "outputs": [],
   "source": [
    "def compute_return_on_sales(financial_ratios, ttm=False, disp=0):\n",
    "\n",
    "    if ttm:\n",
    "        return_on_sales = financial_ratios[list(financial_ratios.columns[4*disp:4+(4*disp)])].loc['ebitPerRevenue'].mean()\n",
    "    else:\n",
    "        return_on_sales = financial_ratios.loc['ebitPerRevenue', financial_ratios.columns[disp]]\n",
    "    \n",
    "    return return_on_sales"
   ]
  },
  {
   "cell_type": "code",
   "execution_count": 24,
   "metadata": {},
   "outputs": [
    {
     "data": {
      "text/plain": [
       "0.33461909353905495"
      ]
     },
     "execution_count": 24,
     "metadata": {},
     "output_type": "execute_result"
    }
   ],
   "source": [
    "exception_handler(compute_return_on_sales, financial_ratios)"
   ]
  },
  {
   "cell_type": "markdown",
   "metadata": {},
   "source": [
    "<font color='blue'><font size=\"3\">**OPERATING RATIOS (or EFFICIENCY RATIOS)**</font>"
   ]
  },
  {
   "cell_type": "markdown",
   "metadata": {},
   "source": [
    "**Fixed Asset Turnover ratio** <br>\n",
    "Net Annual Sales (or Revenue) / Average Fixed Assets"
   ]
  },
  {
   "cell_type": "code",
   "execution_count": 25,
   "metadata": {},
   "outputs": [],
   "source": [
    "def compute_fixed_asset_turnover(financial_ratios, ttm=False, disp=0):\n",
    "    \n",
    "    if ttm:\n",
    "        fixed_asset_turnover = financial_ratios[list(financial_ratios.columns[4*disp:4+(4*disp)])].loc['fixedAssetTurnover'].mean()\n",
    "    else:\n",
    "        fixed_asset_turnover = financial_ratios.loc['fixedAssetTurnover', financial_ratios.columns[disp]]\n",
    "    \n",
    "    return fixed_asset_turnover"
   ]
  },
  {
   "cell_type": "code",
   "execution_count": 26,
   "metadata": {},
   "outputs": [
    {
     "data": {
      "text/plain": [
       "1.2677261613691932"
      ]
     },
     "execution_count": 26,
     "metadata": {},
     "output_type": "execute_result"
    }
   ],
   "source": [
    "exception_handler(compute_fixed_asset_turnover, financial_ratios)"
   ]
  },
  {
   "cell_type": "markdown",
   "metadata": {},
   "source": [
    "**Working Capital Turnover ratio** <br>\n",
    "Net Annual Sales (or Revenue) / Average Working Capital"
   ]
  },
  {
   "cell_type": "raw",
   "metadata": {
    "collapsed": true
   },
   "source": [
    "'''\n",
    "NOTE: The 'average' ratios can be computed in distinct ways. In some cases it is taken the value of the ratio at the \n",
    "end of the year and at the beginning of the year and they are substracted and divided by 2. In this case, I'm taking the average of all the values given by the 4 quarterly reports\n",
    "'''"
   ]
  },
  {
   "cell_type": "code",
   "execution_count": 27,
   "metadata": {},
   "outputs": [],
   "source": [
    "def compute_working_capital_turnover(income_statement, key_metrics, ttm=False, disp=0):\n",
    "\n",
    "    if ttm:\n",
    "        working_capital_turnover = income_statement[list(income_statement.columns[4*disp:4+(4*disp)])].loc['revenue'].sum()/\\\n",
    "                                   key_metrics[list(key_metrics.columns[4*disp:4+(4*disp)])].loc['workingCapital'].mean()\n",
    "    else:\n",
    "        working_capital_turnover = income_statement[list(income_statement.columns[disp:4+disp])].loc['revenue'].sum()/\\\n",
    "                                   key_metrics.loc['workingCapital', key_metrics.columns[disp]]\n",
    "    \n",
    "    return working_capital_turnover"
   ]
  },
  {
   "cell_type": "code",
   "execution_count": 28,
   "metadata": {},
   "outputs": [
    {
     "data": {
      "text/plain": [
       "1.4397081413210446"
      ]
     },
     "execution_count": 28,
     "metadata": {},
     "output_type": "execute_result"
    }
   ],
   "source": [
    "exception_handler(compute_working_capital_turnover, income_statement, key_metrics)"
   ]
  },
  {
   "cell_type": "markdown",
   "metadata": {},
   "source": [
    "**Total Asset Turnover ratio** <br>\n",
    "Net Annual Sales (or Revenue) / Average Total Assets"
   ]
  },
  {
   "cell_type": "code",
   "execution_count": 29,
   "metadata": {},
   "outputs": [],
   "source": [
    "def compute_total_asset_turnover(financial_ratios, ttm=False, disp=0):\n",
    "    \n",
    "    if ttm:\n",
    "        total_asset_turnover = financial_ratios[list(financial_ratios.columns[4*disp:4+(4*disp)])].loc['assetTurnover'].mean()\n",
    "    else:\n",
    "        total_asset_turnover = financial_ratios.loc['assetTurnover', financial_ratios.columns[disp]]\n",
    "        \n",
    "    return total_asset_turnover"
   ]
  },
  {
   "cell_type": "code",
   "execution_count": 30,
   "metadata": {},
   "outputs": [
    {
     "data": {
      "text/plain": [
       "0.1665595888210729"
      ]
     },
     "execution_count": 30,
     "metadata": {},
     "output_type": "execute_result"
    }
   ],
   "source": [
    "exception_handler(compute_total_asset_turnover, financial_ratios)"
   ]
  },
  {
   "cell_type": "markdown",
   "metadata": {},
   "source": [
    "**Inventory Turnover ratio** <br>\n",
    "Net Annual Sales (or Revenue) / Average Inventory<br>\n",
    "(more than one way of computing it)"
   ]
  },
  {
   "cell_type": "code",
   "execution_count": 31,
   "metadata": {},
   "outputs": [],
   "source": [
    "def compute_inventory_turnover(financial_ratios, ttm=False, disp=0):\n",
    "    \n",
    "    if ttm:\n",
    "        inventory_turnover = financial_ratios[list(financial_ratios.columns[4*disp:4+(4*disp)])].loc['inventoryTurnover'].mean()\n",
    "    else:\n",
    "        inventory_turnover = financial_ratios.loc['inventoryTurnover', financial_ratios.columns[disp]]\n",
    "    \n",
    "    return inventory_turnover"
   ]
  },
  {
   "cell_type": "code",
   "execution_count": 32,
   "metadata": {},
   "outputs": [
    {
     "data": {
      "text/plain": [
       "0.23459581684567551"
      ]
     },
     "execution_count": 32,
     "metadata": {},
     "output_type": "execute_result"
    }
   ],
   "source": [
    "exception_handler(compute_inventory_turnover, financial_ratios)"
   ]
  },
  {
   "cell_type": "markdown",
   "metadata": {},
   "source": [
    "**Days of inventory on hand ratio**<br>\n",
    "Average Inventory / (Cost of Sales / Number of Days)<br>\n",
    "where:<br>\n",
    "Number of days = 365 for complete accounting year or 90 for a quarter"
   ]
  },
  {
   "cell_type": "code",
   "execution_count": 33,
   "metadata": {},
   "outputs": [],
   "source": [
    "def compute_days_of_inventory_on_hand(key_metrics, ttm=False, disp=0):\n",
    "\n",
    "    if ttm:\n",
    "        days_of_inventory_on_hand = key_metrics[list(key_metrics.columns[4*disp:4+(4*disp)])].loc['daysOfInventoryOnHand'].mean()\n",
    "    else:\n",
    "        days_of_inventory_on_hand = key_metrics.loc['daysOfInventoryOnHand', key_metrics.columns[disp]]\n",
    "    \n",
    "    return days_of_inventory_on_hand\n",
    "    "
   ]
  },
  {
   "cell_type": "code",
   "execution_count": 34,
   "metadata": {},
   "outputs": [
    {
     "data": {
      "text/plain": [
       "383.6385542168675"
      ]
     },
     "execution_count": 34,
     "metadata": {},
     "output_type": "execute_result"
    }
   ],
   "source": [
    "exception_handler(compute_days_of_inventory_on_hand, key_metrics)"
   ]
  },
  {
   "cell_type": "markdown",
   "metadata": {},
   "source": [
    "**Accounts Receivables Turnover ratio**<br>\n",
    "Net Credit Sales / Average Accounts Receivables"
   ]
  },
  {
   "cell_type": "code",
   "execution_count": 35,
   "metadata": {},
   "outputs": [],
   "source": [
    "def compute_accounts_receivables_turnover(financial_ratios, ttm=False, disp=0):\n",
    "   \n",
    "    if ttm:\n",
    "        accounts_receivables_turnover = financial_ratios[list(financial_ratios.columns[4*disp:4+(4*disp)])].loc['receivablesTurnover'].mean()\n",
    "    else:\n",
    "        accounts_receivables_turnover = financial_ratios.loc['receivablesTurnover', financial_ratios.columns[disp]]\n",
    "        \n",
    "    return accounts_receivables_turnover"
   ]
  },
  {
   "cell_type": "code",
   "execution_count": 36,
   "metadata": {},
   "outputs": [
    {
     "data": {
      "text/plain": [
       "1.3027638190954773"
      ]
     },
     "execution_count": 36,
     "metadata": {},
     "output_type": "execute_result"
    }
   ],
   "source": [
    "exception_handler(compute_accounts_receivables_turnover, financial_ratios)"
   ]
  },
  {
   "cell_type": "markdown",
   "metadata": {},
   "source": [
    "**Payables Turnover ratio**<br>  \n",
    "Net Credit Purchases / Average Accounts Payables"
   ]
  },
  {
   "cell_type": "markdown",
   "metadata": {},
   "source": [
    "*CAN ALSO BE CONSIDERED AS A LIQUIDITY RATIO (make sure)*"
   ]
  },
  {
   "cell_type": "code",
   "execution_count": 37,
   "metadata": {},
   "outputs": [],
   "source": [
    "def compute_payables_turnover(key_metrics, ttm=False, disp=0):\n",
    "    \n",
    "    if ttm:\n",
    "        payables_turnover = key_metrics[list(key_metrics.columns[4*disp:4+(4*disp)])].loc['payablesTurnover'].mean()\n",
    "    else:\n",
    "        payables_turnover = key_metrics.loc['payablesTurnover', key_metrics.columns[disp]]\n",
    "    \n",
    "    \n",
    "    return payables_turnover"
   ]
  },
  {
   "cell_type": "code",
   "execution_count": 38,
   "metadata": {},
   "outputs": [],
   "source": [
    "exception_handler(compute_payables_turnover, key_metrics)"
   ]
  },
  {
   "cell_type": "markdown",
   "metadata": {},
   "source": [
    "<font color='blue'><font size=\"3\">**LEVERAGE RATIOS**</font>"
   ]
  },
  {
   "cell_type": "markdown",
   "metadata": {},
   "source": [
    "**Debt-to-Assets ratio** <br>\n",
    "Total Debt / Total Assets<br>\n",
    "or<br>\n",
    "Total Liabilities / Total Assets"
   ]
  },
  {
   "cell_type": "code",
   "execution_count": 39,
   "metadata": {},
   "outputs": [],
   "source": [
    "def compute_debt_ratio(financial_ratios, ttm=False, disp=0): \n",
    "    \n",
    "    if ttm:\n",
    "        debt_ratio = financial_ratios[list(financial_ratios.columns[4*disp:4+(4*disp)])].loc['debtRatio'].mean()\n",
    "    else:\n",
    "        debt_ratio = financial_ratios.loc['debtRatio', financial_ratios.columns[disp]]\n",
    "    \n",
    "    return debt_ratio"
   ]
  },
  {
   "cell_type": "code",
   "execution_count": 40,
   "metadata": {},
   "outputs": [
    {
     "data": {
      "text/plain": [
       "0.5954063604240283"
      ]
     },
     "execution_count": 40,
     "metadata": {},
     "output_type": "execute_result"
    }
   ],
   "source": [
    "exception_handler(compute_debt_ratio, financial_ratios)"
   ]
  },
  {
   "cell_type": "markdown",
   "metadata": {},
   "source": [
    "**Interest Coverage** <br>\n",
    "EBIT / Interest Expense"
   ]
  },
  {
   "cell_type": "code",
   "execution_count": 41,
   "metadata": {},
   "outputs": [],
   "source": [
    "def compute_interest_coverage(key_metrics, ttm=False, disp=0):\n",
    "    \n",
    "    if ttm:\n",
    "        interest_coverage = key_metrics[list(key_metrics.columns[4*disp:4+(4*disp)])].loc['interestCoverage'].mean()\n",
    "    else:\n",
    "        interest_coverage = key_metrics.loc['interestCoverage', key_metrics.columns[disp]]\n",
    "    \n",
    "    return interest_coverage"
   ]
  },
  {
   "cell_type": "code",
   "execution_count": 42,
   "metadata": {},
   "outputs": [
    {
     "data": {
      "text/plain": [
       "18.263157894736842"
      ]
     },
     "execution_count": 42,
     "metadata": {},
     "output_type": "execute_result"
    }
   ],
   "source": [
    "exception_handler(compute_interest_coverage, key_metrics)"
   ]
  },
  {
   "cell_type": "markdown",
   "metadata": {},
   "source": [
    "**Asset-to-Equity ratio** <br>\n",
    "Total Assets / Total Equity"
   ]
  },
  {
   "cell_type": "code",
   "execution_count": 43,
   "metadata": {},
   "outputs": [],
   "source": [
    "def compute_asset_to_equity(balance_sheet, ttm=False, disp=0):\n",
    "        \n",
    "    if ttm:\n",
    "        asset_to_equity_list = []\n",
    "        for qrt in range(4*disp, (4*disp)+4):\n",
    "            if balance_sheet.loc['totalEquity', balance_sheet.columns[qrt]] == 0:\n",
    "                asset_to_equity_list.append(0)\n",
    "            else:\n",
    "                asset_to_equity_list.append(balance_sheet.loc['totalAssets', balance_sheet.columns[qrt]]/\\\n",
    "                                            balance_sheet.loc['totalEquity', balance_sheet.columns[qrt]])\n",
    "                                 \n",
    "        asset_to_equity = np.mean(asset_to_equity_list)\n",
    "    else:\n",
    "        asset_to_equity = balance_sheet.loc['totalAssets', balance_sheet.columns[disp]]/\\\n",
    "                          balance_sheet.loc['totalEquity', balance_sheet.columns[disp]]\n",
    "        \n",
    "    return asset_to_equity\n",
    "    "
   ]
  },
  {
   "cell_type": "code",
   "execution_count": 44,
   "metadata": {},
   "outputs": [
    {
     "data": {
      "text/plain": [
       "2.4716157205240177"
      ]
     },
     "execution_count": 44,
     "metadata": {},
     "output_type": "execute_result"
    }
   ],
   "source": [
    "exception_handler(compute_asset_to_equity, balance_sheet)"
   ]
  },
  {
   "cell_type": "markdown",
   "metadata": {},
   "source": [
    "**Debt-to-equity ratio** <br>\n",
    "Total Liabilities / Shareholders' Equity"
   ]
  },
  {
   "cell_type": "code",
   "execution_count": 45,
   "metadata": {},
   "outputs": [],
   "source": [
    "def compute_debt_to_equity(key_metrics, ttm=False, disp=0):\n",
    "    \n",
    "    if ttm:\n",
    "        debt_to_equity = key_metrics[list(key_metrics.columns[4*disp:4+(4*disp)])].loc['debtToEquity'].mean()\n",
    "    else:\n",
    "        debt_to_equity = key_metrics.loc['debtToEquity', key_metrics.columns[disp]]\n",
    "    \n",
    "    return debt_to_equity"
   ]
  },
  {
   "cell_type": "code",
   "execution_count": 46,
   "metadata": {},
   "outputs": [
    {
     "data": {
      "text/plain": [
       "0.8181818181818182"
      ]
     },
     "execution_count": 46,
     "metadata": {},
     "output_type": "execute_result"
    }
   ],
   "source": [
    "exception_handler(compute_debt_to_equity, key_metrics)"
   ]
  },
  {
   "cell_type": "markdown",
   "metadata": {},
   "source": [
    "**Equity multiplier** <br>\n",
    "Total Assets / Shareholders' Equity"
   ]
  },
  {
   "cell_type": "code",
   "execution_count": 47,
   "metadata": {},
   "outputs": [],
   "source": [
    "def compute_equity_multiplier(financial_ratios, ttm=False, disp=0):\n",
    "    \n",
    "    if ttm:\n",
    "        equity_multiplier = financial_ratios[list(financial_ratios.columns[4*disp:4+(4*disp)])].loc['companyEquityMultiplier'].mean()\n",
    "    else:\n",
    "        equity_multiplier = financial_ratios.loc['companyEquityMultiplier', financial_ratios.columns[disp]]\n",
    "        \n",
    "    return equity_multiplier"
   ]
  },
  {
   "cell_type": "code",
   "execution_count": 48,
   "metadata": {},
   "outputs": [
    {
     "data": {
      "text/plain": [
       "2.4716157205240177"
      ]
     },
     "execution_count": 48,
     "metadata": {},
     "output_type": "execute_result"
    }
   ],
   "source": [
    "exception_handler(compute_equity_multiplier, financial_ratios)"
   ]
  },
  {
   "cell_type": "markdown",
   "metadata": {},
   "source": [
    "**Total Debt-to-Capitalization ratio** <br>\n",
    "(Short-Term Debt + Long-Term Debt) / (Short-Term Debt + Long-Term Debt + Shareholders' Equity)"
   ]
  },
  {
   "cell_type": "code",
   "execution_count": 49,
   "metadata": {},
   "outputs": [],
   "source": [
    "def compute_total_debt_to_capitalization(financial_ratios, ttm=False, disp=0):\n",
    "    \n",
    "    if ttm:\n",
    "        total_debt_to_capitalization = financial_ratios[list(financial_ratios.columns[4*disp:4+(4*disp)])].loc['totalDebtToCapitalization'].mean()\n",
    "    else:\n",
    "        total_debt_to_capitalization = financial_ratios.loc['totalDebtToCapitalization', financial_ratios.columns[disp]]\n",
    "        \n",
    "    return total_debt_to_capitalization"
   ]
  },
  {
   "cell_type": "code",
   "execution_count": 50,
   "metadata": {
    "scrolled": true
   },
   "outputs": [
    {
     "data": {
      "text/plain": [
       "0.45191470844212356"
      ]
     },
     "execution_count": 50,
     "metadata": {},
     "output_type": "execute_result"
    }
   ],
   "source": [
    "exception_handler(compute_total_debt_to_capitalization, financial_ratios)"
   ]
  },
  {
   "cell_type": "markdown",
   "metadata": {},
   "source": [
    "**Total Debt-to-Capital ratio** <br>\n",
    "Total Debt / (Total Debt + Shareholders' Equity)"
   ]
  },
  {
   "cell_type": "code",
   "execution_count": 51,
   "metadata": {},
   "outputs": [],
   "source": [
    "def compute_total_debt_to_capital(balance_sheet, ttm=False, disp=0):\n",
    "        \n",
    "    if ttm:\n",
    "        total_debt_to_capital_list = []\n",
    "        for qrt in range(4*disp, (4*disp)+4):\n",
    "            if (balance_sheet.loc['totalDebt', balance_sheet.columns[qrt]] +\\\n",
    "                balance_sheet.loc['totalStockholdersEquity', balance_sheet.columns[qrt]]) == 0:\n",
    "                total_debt_to_capital_list.append(0)\n",
    "            else:\n",
    "                total_debt_to_capital_list.append(balance_sheet.loc['totalDebt', balance_sheet.columns[qrt]]/\\\n",
    "                                    (balance_sheet.loc['totalDebt', balance_sheet.columns[qrt]] + \\\n",
    "                                     balance_sheet.loc['totalStockholdersEquity', balance_sheet.columns[qrt]]))\n",
    "        total_debt_to_capital = np.mean(total_debt_to_capital_list)\n",
    "    else:\n",
    "        total_debt_to_capital = balance_sheet.loc['totalDebt', balance_sheet.columns[disp]]/\\\n",
    "                                (balance_sheet.loc['totalDebt', balance_sheet.columns[disp]] + \\\n",
    "                                 balance_sheet.loc['totalStockholdersEquity', balance_sheet.columns[disp]])\n",
    "        \n",
    "    return total_debt_to_capital"
   ]
  },
  {
   "cell_type": "code",
   "execution_count": 52,
   "metadata": {},
   "outputs": [
    {
     "data": {
      "text/plain": [
       "0.45191470844212356"
      ]
     },
     "execution_count": 52,
     "metadata": {},
     "output_type": "execute_result"
    }
   ],
   "source": [
    "exception_handler(compute_total_debt_to_capital, balance_sheet)"
   ]
  },
  {
   "cell_type": "markdown",
   "metadata": {},
   "source": [
    "**Net Debt-to-EBITDA** <br>\n",
    "Total Debt - Cash & Cash Equivalents / EBITDA"
   ]
  },
  {
   "cell_type": "code",
   "execution_count": 53,
   "metadata": {},
   "outputs": [],
   "source": [
    "def compute_net_debt_to_ebitda(key_metrics, ttm=False, disp=0):\n",
    "    \n",
    "    if ttm:\n",
    "        net_debt_to_ebitda = key_metrics[list(key_metrics.columns[4*disp:4+(4*disp)])].loc['netDebtToEBITDA'].mean()\n",
    "    else:\n",
    "        net_debt_to_ebitda = key_metrics.loc['netDebtToEBITDA', key_metrics.columns[disp]]\n",
    "    \n",
    "    return net_debt_to_ebitda"
   ]
  },
  {
   "cell_type": "code",
   "execution_count": 54,
   "metadata": {},
   "outputs": [
    {
     "data": {
      "text/plain": [
       "3.446866485013624"
      ]
     },
     "execution_count": 54,
     "metadata": {},
     "output_type": "execute_result"
    }
   ],
   "source": [
    "exception_handler(compute_net_debt_to_ebitda, key_metrics)"
   ]
  },
  {
   "cell_type": "markdown",
   "metadata": {},
   "source": [
    "**Degree of Financial Leverage ratio** <br>\n",
    "% change in EPS / % change in EBIT"
   ]
  },
  {
   "cell_type": "code",
   "execution_count": 55,
   "metadata": {},
   "outputs": [],
   "source": [
    "#I'm 99% sure it is computed correctly, but it would be nice to check it sometimec"
   ]
  },
  {
   "cell_type": "code",
   "execution_count": 56,
   "metadata": {},
   "outputs": [],
   "source": [
    "def compute_degree_financial_leverage(growth, ttm=False, disp=0):\n",
    "        \n",
    "    if ttm:\n",
    "        degree_financial_leverage_list=[]\n",
    "        for qrt in range(4*disp, (4*disp)+4):\n",
    "            if growth.loc['ebitgrowth', growth.columns[qrt]] == 0:\n",
    "                degree_financial_leverage_list.append(0)\n",
    "            else:\n",
    "                degree_financial_leverage_list.append(growth.loc['epsgrowth', growth.columns[qrt]]/\\\n",
    "                                                      growth.loc['ebitgrowth', growth.columns[qrt]])\n",
    "        \n",
    "        degree_financial_leverage = np.mean(degree_financial_leverage_list)\n",
    "\n",
    "    else:\n",
    "        try:\n",
    "            degree_financial_leverage = growth.loc['epsgrowth', growth.columns[disp]]/\\\n",
    "                                        growth.loc['ebitgrowth', growth.columns[disp]]\n",
    "        except ZeroDivisionError:\n",
    "            degree_financial_leverage = 0\n",
    "        \n",
    "    return degree_financial_leverage\n",
    "    "
   ]
  },
  {
   "cell_type": "code",
   "execution_count": 57,
   "metadata": {},
   "outputs": [
    {
     "data": {
      "text/plain": [
       "1.3132606089300536"
      ]
     },
     "execution_count": 57,
     "metadata": {},
     "output_type": "execute_result"
    }
   ],
   "source": [
    "exception_handler(compute_degree_financial_leverage, growth, True)"
   ]
  },
  {
   "cell_type": "markdown",
   "metadata": {},
   "source": [
    "<font color='blue'><font size=\"3\">**VALUATION RATIOS (or MARKET VALUE RATIOS)**</font>"
   ]
  },
  {
   "cell_type": "markdown",
   "metadata": {},
   "source": [
    "**Earnings per Share ratio (EPS)** <br>\n",
    "(Market Price per Share - Preferred Dividends) / Earnings per Share"
   ]
  },
  {
   "cell_type": "code",
   "execution_count": 58,
   "metadata": {},
   "outputs": [],
   "source": [
    "def compute_earnings_per_share(income_statement, ttm=False, disp=0):\n",
    "\n",
    "    if ttm:\n",
    "        EPS = income_statement[list(income_statement.columns[4*disp:4+(4*disp)])].loc['eps'].mean()\n",
    "    else:\n",
    "        EPS = income_statement.loc['eps', income_statement.columns[disp]]\n",
    "    \n",
    "    return EPS"
   ]
  },
  {
   "cell_type": "code",
   "execution_count": 59,
   "metadata": {},
   "outputs": [
    {
     "data": {
      "text/plain": [
       "0.54"
      ]
     },
     "execution_count": 59,
     "metadata": {},
     "output_type": "execute_result"
    }
   ],
   "source": [
    "exception_handler(compute_earnings_per_share, income_statement)"
   ]
  },
  {
   "cell_type": "markdown",
   "metadata": {},
   "source": [
    "**Book Value per Share ratio (BVPS)** <br>\n",
    "(Total Equity - Preferred Equity) / Total Shares Outstanding"
   ]
  },
  {
   "cell_type": "code",
   "execution_count": 60,
   "metadata": {},
   "outputs": [],
   "source": [
    "def compute_book_value_per_share(key_metrics, ttm=False, disp=0):\n",
    "    \n",
    "    if ttm:\n",
    "        book_value_per_share = key_metrics[list(key_metrics.columns[4*disp:4+(4*disp)])].loc['bookValuePerShare'].mean()\n",
    "    else:\n",
    "        book_value_per_share = key_metrics.loc['bookValuePerShare', key_metrics.columns[disp]]\n",
    "    \n",
    "    return book_value_per_share"
   ]
  },
  {
   "cell_type": "code",
   "execution_count": 61,
   "metadata": {},
   "outputs": [
    {
     "data": {
      "text/plain": [
       "5.260113554972259"
      ]
     },
     "execution_count": 61,
     "metadata": {},
     "output_type": "execute_result"
    }
   ],
   "source": [
    "exception_handler(compute_book_value_per_share, key_metrics)"
   ]
  },
  {
   "cell_type": "markdown",
   "metadata": {},
   "source": [
    "**Cash Earnings per Share ratio (or Operating Cash Flow per Share ratio)**<br>\n",
    "Operating Cash Flow / Total Shares Outstanding"
   ]
  },
  {
   "cell_type": "code",
   "execution_count": 62,
   "metadata": {},
   "outputs": [],
   "source": [
    "def compute_cash_earnings_per_share(key_metrics, ttm=False, disp=0):\n",
    "       \n",
    "    if ttm:\n",
    "        cash_earnings_per_share = key_metrics[list(key_metrics.columns[4*disp:4+(4*disp)])].loc['operatingCashFlowPerShare'].mean()\n",
    "    else:\n",
    "        cash_earnings_per_share = key_metrics.loc['operatingCashFlowPerShare', key_metrics.columns[disp]]\n",
    "        \n",
    "    return cash_earnings_per_share"
   ]
  },
  {
   "cell_type": "code",
   "execution_count": 63,
   "metadata": {},
   "outputs": [
    {
     "data": {
      "text/plain": [
       "0.726685000845711"
      ]
     },
     "execution_count": 63,
     "metadata": {},
     "output_type": "execute_result"
    }
   ],
   "source": [
    "exception_handler(compute_cash_earnings_per_share, key_metrics)"
   ]
  },
  {
   "cell_type": "markdown",
   "metadata": {},
   "source": [
    "**Price to Earnings ratio (P/E)** <br>\n",
    "Market Price per Share / Earnings per Share"
   ]
  },
  {
   "cell_type": "markdown",
   "metadata": {},
   "source": [
    "LOOK AT THE QUOTES, NOT THE KEY METRICS (however, i think that the pe of the quotes is the current one, not the 'last mrq' one)"
   ]
  },
  {
   "cell_type": "code",
   "execution_count": 64,
   "metadata": {},
   "outputs": [],
   "source": [
    "def compute_price_to_earnings(key_metrics, ttm=False, disp=0):\n",
    " \n",
    "    if ttm:\n",
    "        price_to_earnings = key_metrics[list(key_metrics.columns[4*disp:4+(4*disp)])].loc['peRatio'].mean()\n",
    "    else:\n",
    "        price_to_earnings = key_metrics.loc['peRatio', key_metrics.columns[disp]]\n",
    "        \n",
    "    return price_to_earnings"
   ]
  },
  {
   "cell_type": "code",
   "execution_count": 65,
   "metadata": {},
   "outputs": [
    {
     "data": {
      "text/plain": [
       "31.16925715250966"
      ]
     },
     "execution_count": 65,
     "metadata": {},
     "output_type": "execute_result"
    }
   ],
   "source": [
    "exception_handler(compute_price_to_earnings, key_metrics)"
   ]
  },
  {
   "cell_type": "markdown",
   "metadata": {},
   "source": [
    "**Price to Book Value ratio (P/B)** <br>\n",
    "Market Price per Share / Book Value per Share"
   ]
  },
  {
   "cell_type": "code",
   "execution_count": 66,
   "metadata": {},
   "outputs": [],
   "source": [
    "def compute_price_to_book_value(financial_ratios, ttm=False, disp=0):\n",
    "    \n",
    "    if ttm:\n",
    "        price_to_book_value = financial_ratios[list(financial_ratios.columns[4*disp:4+(4*disp)])].loc['priceToBookRatio'].mean()\n",
    "    else:\n",
    "        price_to_book_value = financial_ratios.loc['priceToBookRatio', financial_ratios.columns[disp]]\n",
    "        \n",
    "    return price_to_book_value"
   ]
  },
  {
   "cell_type": "code",
   "execution_count": 67,
   "metadata": {},
   "outputs": [
    {
     "data": {
      "text/plain": [
       "12.819114890829695"
      ]
     },
     "execution_count": 67,
     "metadata": {},
     "output_type": "execute_result"
    }
   ],
   "source": [
    "exception_handler(compute_price_to_book_value, financial_ratios)"
   ]
  },
  {
   "cell_type": "markdown",
   "metadata": {},
   "source": [
    "**Price to Sales ratio (P/S)** <br>\n",
    "Market Price per Share / Sales per Share"
   ]
  },
  {
   "cell_type": "code",
   "execution_count": 68,
   "metadata": {},
   "outputs": [],
   "source": [
    "def compute_price_to_sales(financial_ratios, ttm=False, disp=0):\n",
    "    \n",
    "    if ttm:\n",
    "        price_to_sales = financial_ratios[list(financial_ratios.columns[4*disp:4+(4*disp)])].loc['priceToSalesRatio'].mean()\n",
    "    else:\n",
    "        price_to_sales = financial_ratios.loc['priceToSalesRatio', financial_ratios.columns[disp]]\n",
    "        \n",
    "    return price_to_sales"
   ]
  },
  {
   "cell_type": "code",
   "execution_count": 69,
   "metadata": {},
   "outputs": [
    {
     "data": {
      "text/plain": [
       "31.139200009643204"
      ]
     },
     "execution_count": 69,
     "metadata": {},
     "output_type": "execute_result"
    }
   ],
   "source": [
    "exception_handler(compute_price_to_sales, financial_ratios)"
   ]
  },
  {
   "cell_type": "markdown",
   "metadata": {},
   "source": [
    "**Price to Free Cash Flow ratio (P/FCF)** <br>\n",
    "Market Capitalization / Free Cash Flow"
   ]
  },
  {
   "cell_type": "code",
   "execution_count": 70,
   "metadata": {},
   "outputs": [],
   "source": [
    "def compute_price_to_free_cash_flow(financial_ratios, ttm=False, disp=0):  \n",
    "    \n",
    "    if ttm:\n",
    "        price_to_free_cash_flow = financial_ratios[list(financial_ratios.columns[4*disp:4+(4*disp)])].loc['priceToFreeCashFlowsRatio'].mean()\n",
    "    else:\n",
    "        price_to_free_cash_flow = financial_ratios.loc['priceToFreeCashFlowsRatio', financial_ratios.columns[disp]]\n",
    "        \n",
    "    return price_to_free_cash_flow"
   ]
  },
  {
   "cell_type": "code",
   "execution_count": 71,
   "metadata": {},
   "outputs": [
    {
     "data": {
      "text/plain": [
       "83.87363742857144"
      ]
     },
     "execution_count": 71,
     "metadata": {},
     "output_type": "execute_result"
    }
   ],
   "source": [
    "exception_handler(compute_price_to_free_cash_flow, financial_ratios)"
   ]
  },
  {
   "cell_type": "markdown",
   "metadata": {},
   "source": [
    "**Price/Earnings-to-Growth ratio** <br>\n",
    "(Price per share / Earnings per Share) / Earnings per Share Growth"
   ]
  },
  {
   "cell_type": "code",
   "execution_count": 72,
   "metadata": {},
   "outputs": [],
   "source": [
    "def compute_price_earnings_to_growth(financial_ratios, ttm=False, disp=0): \n",
    "    \n",
    "    if ttm:\n",
    "        price_earnings_to_growth = financial_ratios[list(financial_ratios.columns[4*disp:4+(4*disp)])].loc['priceEarningsToGrowthRatio'].mean()\n",
    "    else:\n",
    "        price_earnings_to_growth = financial_ratios.loc['priceEarningsToGrowthRatio', financial_ratios.columns[disp]]\n",
    "        \n",
    "    return price_earnings_to_growth"
   ]
  },
  {
   "cell_type": "code",
   "execution_count": 73,
   "metadata": {},
   "outputs": [
    {
     "data": {
      "text/plain": [
       "3.0545872009459436"
      ]
     },
     "execution_count": 73,
     "metadata": {},
     "output_type": "execute_result"
    }
   ],
   "source": [
    "exception_handler(compute_price_earnings_to_growth, financial_ratios)"
   ]
  },
  {
   "cell_type": "markdown",
   "metadata": {},
   "source": [
    "**Dividend Yield ratio** <br>\n",
    "(Annual Dividend per Share / Share Price) * 100"
   ]
  },
  {
   "cell_type": "code",
   "execution_count": 74,
   "metadata": {},
   "outputs": [],
   "source": [
    "def compute_dividend_yield(financial_ratios, ttm=False, disp=0):\n",
    "    \n",
    "    if ttm:\n",
    "        dividend_yield = financial_ratios[list(financial_ratios.columns[4*disp:4+(4*disp)])].loc['dividendYield'].mean()\n",
    "    else:\n",
    "        dividend_yield = financial_ratios.loc['dividendYield', financial_ratios.columns[disp]]\n",
    "    \n",
    "    return dividend_yield"
   ]
  },
  {
   "cell_type": "code",
   "execution_count": 75,
   "metadata": {},
   "outputs": [
    {
     "data": {
      "text/plain": [
       "0.017620817735259277"
      ]
     },
     "execution_count": 75,
     "metadata": {},
     "output_type": "execute_result"
    }
   ],
   "source": [
    "exception_handler(compute_dividend_yield, financial_ratios)"
   ]
  },
  {
   "cell_type": "markdown",
   "metadata": {},
   "source": [
    "**Dividend Payout ratio** <br>\n",
    "(Dividends Paid / Net Income) * 100<br>\n",
    "or<br>\n",
    "(1 - Retention ratio) * 100"
   ]
  },
  {
   "cell_type": "code",
   "execution_count": 76,
   "metadata": {},
   "outputs": [],
   "source": [
    "def compute_dividend_payout(financial_ratios, ttm=False, disp=0):\n",
    "    \n",
    "    if ttm:\n",
    "        dividend_payout = financial_ratios[list(financial_ratios.columns[4*disp:4+(4*disp)])].loc['dividendPayoutRatio'].mean()\n",
    "    else:\n",
    "        dividend_payout = financial_ratios.loc['dividendPayoutRatio', financial_ratios.columns[disp]]\n",
    "        \n",
    "    return dividend_payout"
   ]
  },
  {
   "cell_type": "code",
   "execution_count": 77,
   "metadata": {},
   "outputs": [
    {
     "data": {
      "text/plain": [
       "2.196911196911197"
      ]
     },
     "execution_count": 77,
     "metadata": {},
     "output_type": "execute_result"
    }
   ],
   "source": [
    "exception_handler(compute_dividend_payout, financial_ratios)"
   ]
  },
  {
   "cell_type": "markdown",
   "metadata": {},
   "source": [
    "**Enterprise Value-to-EBITDA ratio (or Entreprise Multiple ratio)=** <br>\n",
    "Enterprise Value / EBITDA"
   ]
  },
  {
   "cell_type": "code",
   "execution_count": 78,
   "metadata": {},
   "outputs": [],
   "source": [
    "def compute_enterprise_value_to_ebitda(key_metrics, ttm=False, disp=0):\n",
    "       \n",
    "    if ttm:\n",
    "        enterprise_value_to_ebitda = key_metrics[list(key_metrics.columns[4*disp:4+(4*disp)])].loc['enterpriseValueOverEBITDA'].mean()\n",
    "    else:\n",
    "        enterprise_value_to_ebitda = key_metrics.loc['enterpriseValueOverEBITDA', key_metrics.columns[disp]]\n",
    "    \n",
    "    return enterprise_value_to_ebitda"
   ]
  },
  {
   "cell_type": "code",
   "execution_count": 79,
   "metadata": {},
   "outputs": [
    {
     "data": {
      "text/plain": [
       "91.43419730245233"
      ]
     },
     "execution_count": 79,
     "metadata": {},
     "output_type": "execute_result"
    }
   ],
   "source": [
    "exception_handler(compute_enterprise_value_to_ebitda, key_metrics)"
   ]
  },
  {
   "cell_type": "markdown",
   "metadata": {},
   "source": [
    "**Enterprise Value-to-Sales (or Revenue) ratio**\n",
    "\n",
    "(Market Capitalization + Debt - Cash and Cash Equivalents) / Annual Sales (or Revenue)"
   ]
  },
  {
   "cell_type": "code",
   "execution_count": 80,
   "metadata": {},
   "outputs": [],
   "source": [
    "def compute_enterprise_value_to_sales(enterprise_value, balance_sheet, income_statement, ttm=False, disp=0):\n",
    "    \n",
    "    \n",
    "    if ttm:\n",
    "        enterprise_value_to_sales_numerator=[]\n",
    "        for qrt in range(4*disp, (4*disp)+4):\n",
    "            enterprise_value_to_sales_numerator.append(\n",
    "            (enterprise_value.loc['marketCapitalization', enterprise_value.columns[qrt]] +\\\n",
    "            balance_sheet.loc['totalDebt', balance_sheet.columns[qrt]] -\\\n",
    "            balance_sheet.loc['cashAndCashEquivalents', balance_sheet.columns[qrt]]))\n",
    "            \n",
    "        enterprise_value_to_sales = np.mean(enterprise_value_to_sales_numerator)/\\\n",
    "                                    income_statement[list(income_statement.columns[:4])].loc['revenue'].sum()\n",
    "    else:\n",
    "        enterprise_value_to_sales = (enterprise_value.loc['marketCapitalization', enterprise_value.columns[disp]] +\\\n",
    "                                    balance_sheet.loc['totalDebt', balance_sheet.columns[disp]] -\\\n",
    "                                    balance_sheet.loc['cashAndCashEquivalents', balance_sheet.columns[disp]])/\\\n",
    "                                    income_statement[list(income_statement.columns[disp:4+disp])].loc['revenue'].sum()\n",
    "            \n",
    "    \n",
    "    return enterprise_value_to_sales"
   ]
  },
  {
   "cell_type": "code",
   "execution_count": 81,
   "metadata": {},
   "outputs": [
    {
     "data": {
      "text/plain": [
       "8.950746975193384"
      ]
     },
     "execution_count": 81,
     "metadata": {},
     "output_type": "execute_result"
    }
   ],
   "source": [
    "exception_handler(compute_enterprise_value_to_sales, enterprise_value, balance_sheet, income_statement)"
   ]
  },
  {
   "cell_type": "markdown",
   "metadata": {},
   "source": [
    "<font color='blue'><font size=\"3\">**LIQUIDITY RATIOS**</font>"
   ]
  },
  {
   "cell_type": "markdown",
   "metadata": {},
   "source": [
    "**Current ratio** <br>\n",
    "Current Assets / Current Liabilities"
   ]
  },
  {
   "cell_type": "code",
   "execution_count": 82,
   "metadata": {},
   "outputs": [],
   "source": [
    "def compute_current_ratio(key_metrics, ttm=False, disp=0):\n",
    "     \n",
    "    if ttm:\n",
    "        current_ratio = key_metrics[list(key_metrics.columns[4*disp:4+(4*disp)])].loc['currentRatio'].mean()\n",
    "    else:\n",
    "        current_ratio = key_metrics.loc['currentRatio', key_metrics.columns[disp]]\n",
    "    \n",
    "    return current_ratio"
   ]
  },
  {
   "cell_type": "code",
   "execution_count": 83,
   "metadata": {},
   "outputs": [
    {
     "data": {
      "text/plain": [
       "3.482364156339371"
      ]
     },
     "execution_count": 83,
     "metadata": {},
     "output_type": "execute_result"
    }
   ],
   "source": [
    "exception_handler(compute_current_ratio, key_metrics)"
   ]
  },
  {
   "cell_type": "markdown",
   "metadata": {},
   "source": [
    "**Quick ratio** <br>\n",
    "(CE + MS + AR) / CL <br>\n",
    "where:<br>\n",
    "CE = Cash & Equivalents<br>\n",
    "MS = Marketable Securities<br>\n",
    "AR = Accounts Receivable<br>\n",
    "CL = Current Liabilities<br>"
   ]
  },
  {
   "cell_type": "code",
   "execution_count": 84,
   "metadata": {},
   "outputs": [],
   "source": [
    "def compute_quick_ratio(financial_ratios, ttm=False, disp=0):\n",
    "    \n",
    "    if ttm:\n",
    "        quick_ratio = financial_ratios[list(financial_ratios.columns[4*disp:4+(4*disp)])].loc['quickRatio'].mean()\n",
    "    else:\n",
    "        quick_ratio = financial_ratios.loc['quickRatio', financial_ratios.columns[disp]]\n",
    "    \n",
    "    return quick_ratio"
   ]
  },
  {
   "cell_type": "code",
   "execution_count": 85,
   "metadata": {
    "scrolled": true
   },
   "outputs": [
    {
     "data": {
      "text/plain": [
       "1.532888465204957"
      ]
     },
     "execution_count": 85,
     "metadata": {},
     "output_type": "execute_result"
    }
   ],
   "source": [
    "exception_handler(compute_quick_ratio, financial_ratios)"
   ]
  },
  {
   "cell_type": "markdown",
   "metadata": {},
   "source": [
    "**Cash ratio** <br>\n",
    "Cash & Cash Equivalents / Current Liabilities"
   ]
  },
  {
   "cell_type": "code",
   "execution_count": 86,
   "metadata": {},
   "outputs": [],
   "source": [
    "def compute_cash_ratio(financial_ratios, ttm=False, disp=0):\n",
    "    \n",
    "    if ttm:\n",
    "        cash_ratio = financial_ratios[list(financial_ratios.columns[4*disp:4+(4*disp)])].loc['cashRatio'].mean()\n",
    "    else:\n",
    "        cash_ratio = financial_ratios.loc['cashRatio', financial_ratios.columns[disp]]\n",
    "        \n",
    "    return cash_ratio"
   ]
  },
  {
   "cell_type": "code",
   "execution_count": 87,
   "metadata": {},
   "outputs": [
    {
     "data": {
      "text/plain": [
       "0.7740705433746425"
      ]
     },
     "execution_count": 87,
     "metadata": {},
     "output_type": "execute_result"
    }
   ],
   "source": [
    "exception_handler(compute_cash_ratio, financial_ratios)"
   ]
  },
  {
   "cell_type": "markdown",
   "metadata": {},
   "source": [
    "**Days of Sales Outstanding** <br>\n",
    "Average Accounts Receivable / Revenue per Day"
   ]
  },
  {
   "cell_type": "code",
   "execution_count": 88,
   "metadata": {},
   "outputs": [],
   "source": [
    "def compute_days_of_sales_outstanding(key_metrics, ttm=False, disp=0):\n",
    "    \n",
    "    if ttm:\n",
    "        days_of_sales_outstanding = key_metrics[list(key_metrics.columns[4*disp:4+(4*disp)])].loc['daysSalesOutstanding'].mean()\n",
    "    else:\n",
    "        days_of_sales_outstanding = key_metrics.loc['daysSalesOutstanding', key_metrics.columns[disp]]\n",
    "    \n",
    "    return days_of_sales_outstanding"
   ]
  },
  {
   "cell_type": "code",
   "execution_count": 89,
   "metadata": {},
   "outputs": [
    {
     "data": {
      "text/plain": [
       "69.08389585342334"
      ]
     },
     "execution_count": 89,
     "metadata": {},
     "output_type": "execute_result"
    }
   ],
   "source": [
    "exception_handler(compute_days_of_sales_outstanding, key_metrics)"
   ]
  },
  {
   "cell_type": "markdown",
   "metadata": {},
   "source": [
    "**Days of Sales in Inventory ratio (also known as Days Inventory Outstanding)** <br>\n",
    "365 days / Inventory Turnover"
   ]
  },
  {
   "cell_type": "markdown",
   "metadata": {},
   "source": [
    "*CAN ALSO BE CONSIDERED AN EFFICIENCY RATIO*"
   ]
  },
  {
   "cell_type": "code",
   "execution_count": 90,
   "metadata": {},
   "outputs": [],
   "source": [
    "def compute_days_of_sales_in_inventory(financial_ratios, ttm=False, disp=0):\n",
    "\n",
    "    if ttm:\n",
    "        days_of_sales_in_inventory = financial_ratios[list(financial_ratios.columns[4*disp:4+(4*disp)])].loc['daysOfSalesOutstanding'].mean()\n",
    "    else:\n",
    "        days_of_sales_in_inventory = financial_ratios.loc['daysOfSalesOutstanding', financial_ratios.columns[disp]]\n",
    "        \n",
    "    return days_of_sales_in_inventory"
   ]
  },
  {
   "cell_type": "code",
   "execution_count": 91,
   "metadata": {},
   "outputs": [
    {
     "data": {
      "text/plain": [
       "280.17357762777243"
      ]
     },
     "execution_count": 91,
     "metadata": {},
     "output_type": "execute_result"
    }
   ],
   "source": [
    "exception_handler(compute_days_of_sales_in_inventory, financial_ratios)"
   ]
  },
  {
   "cell_type": "markdown",
   "metadata": {},
   "source": [
    "**Days of Payables Outstanding** <br>\n",
    "Average Accounts Payable / (Cost of Sales / Number of Days in Accounting Period)"
   ]
  },
  {
   "cell_type": "code",
   "execution_count": 92,
   "metadata": {},
   "outputs": [],
   "source": [
    "def compute_days_of_payables_outstanding(key_metrics, ttm=False, disp=0):\n",
    "\n",
    "    if ttm:\n",
    "        days_of_payables_outstanding = key_metrics[list(key_metrics.columns[4*disp:4+(4*disp)])].loc['daysPayablesOutstanding'].mean()\n",
    "    else:\n",
    "        days_of_payables_outstanding = key_metrics.loc['daysPayablesOutstanding', key_metrics.columns[disp]]\n",
    "        \n",
    "    return days_of_payables_outstanding"
   ]
  },
  {
   "cell_type": "code",
   "execution_count": 93,
   "metadata": {},
   "outputs": [
    {
     "data": {
      "text/plain": [
       "0.0"
      ]
     },
     "execution_count": 93,
     "metadata": {},
     "output_type": "execute_result"
    }
   ],
   "source": [
    "exception_handler(compute_days_of_payables_outstanding, key_metrics)"
   ]
  },
  {
   "cell_type": "markdown",
   "metadata": {},
   "source": [
    "**Operating Cycle** <br>\n",
    "Inventory Period + Accounts Receivable Period"
   ]
  },
  {
   "cell_type": "code",
   "execution_count": 94,
   "metadata": {},
   "outputs": [],
   "source": [
    "def compute_operating_cycle(financial_ratios, ttm=False, disp=0):\n",
    "    \n",
    "    if ttm:\n",
    "        operating_cycle = financial_ratios[list(financial_ratios.columns[4*disp:4+(4*disp)])].loc['operatingCycle'].mean()\n",
    "    else:\n",
    "        operating_cycle = financial_ratios.loc['operatingCycle', financial_ratios.columns[disp]]\n",
    "        \n",
    "        \n",
    "    return operating_cycle"
   ]
  },
  {
   "cell_type": "code",
   "execution_count": 95,
   "metadata": {},
   "outputs": [
    {
     "data": {
      "text/plain": [
       "452.72245007029085"
      ]
     },
     "execution_count": 95,
     "metadata": {},
     "output_type": "execute_result"
    }
   ],
   "source": [
    "exception_handler(compute_operating_cycle, financial_ratios)"
   ]
  },
  {
   "cell_type": "markdown",
   "metadata": {},
   "source": [
    "**Cash Conversion Cycle** <br>\n",
    "Days Inventory Outstanding + Days Sales Outstanding - Days Payable Outstanding"
   ]
  },
  {
   "cell_type": "code",
   "execution_count": 96,
   "metadata": {},
   "outputs": [],
   "source": [
    "def compute_cash_conversion_cycle(financial_ratios, ttm=False, disp=0):\n",
    "    \n",
    "    if ttm:\n",
    "        cash_conversion_cycle = financial_ratios[list(financial_ratios.columns[4*disp:4+(4*disp)])].loc['cashConversionCycle'].mean()\n",
    "    else:\n",
    "        cash_conversion_cycle = financial_ratios.loc['cashConversionCycle', financial_ratios.columns[disp]]\n",
    "    \n",
    "    return cash_conversion_cycle"
   ]
  },
  {
   "cell_type": "code",
   "execution_count": 97,
   "metadata": {},
   "outputs": [
    {
     "data": {
      "text/plain": [
       "452.72245007029085"
      ]
     },
     "execution_count": 97,
     "metadata": {},
     "output_type": "execute_result"
    }
   ],
   "source": [
    "exception_handler(compute_cash_conversion_cycle, financial_ratios)"
   ]
  }
 ],
 "metadata": {
  "kernelspec": {
   "display_name": "Python 3 (ipykernel)",
   "language": "python",
   "name": "python3"
  },
  "language_info": {
   "codemirror_mode": {
    "name": "ipython",
    "version": 3
   },
   "file_extension": ".py",
   "mimetype": "text/x-python",
   "name": "python",
   "nbconvert_exporter": "python",
   "pygments_lexer": "ipython3",
   "version": "3.9.7"
  }
 },
 "nbformat": 4,
 "nbformat_minor": 4
}
