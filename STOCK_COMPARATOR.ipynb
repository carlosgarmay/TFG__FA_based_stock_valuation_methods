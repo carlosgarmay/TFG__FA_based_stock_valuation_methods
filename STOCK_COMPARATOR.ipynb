{
 "cells": [
  {
   "cell_type": "markdown",
   "id": "19202738",
   "metadata": {},
   "source": [
    "**Imports**"
   ]
  },
  {
   "cell_type": "code",
   "execution_count": null,
   "id": "840afdcc",
   "metadata": {},
   "outputs": [],
   "source": [
    "#FINANCIAL LIBRARIES\n",
    "import FundamentalAnalysis as fa\n",
    "import talib as ta\n",
    "\n",
    "#OTHER LIBRARIES\n",
    "import import_ipynb\n",
    "import pandas as pd\n",
    "import numpy as np\n",
    "from datetime import date\n",
    "import plotly.graph_objects as go\n",
    "import plotly.express as px\n",
    "from plotly.subplots import make_subplots\n",
    "import matplotlib.pyplot as plt\n",
    "import datetime\n",
    "import UTILS as utils"
   ]
  },
  {
   "cell_type": "code",
   "execution_count": null,
   "id": "45f44807",
   "metadata": {},
   "outputs": [],
   "source": [
    "api_key = \"Here would go my personal API key\""
   ]
  },
  {
   "cell_type": "markdown",
   "id": "632e93d5",
   "metadata": {},
   "source": [
    "----------"
   ]
  },
  {
   "cell_type": "markdown",
   "id": "422d93aa",
   "metadata": {},
   "source": [
    "**Define tickers**"
   ]
  },
  {
   "cell_type": "code",
   "execution_count": null,
   "id": "07d4b1ce",
   "metadata": {},
   "outputs": [],
   "source": [
    "#We'll reserve the variables name containing '_ticker_...' for the tickers inputed by the user\n",
    "\n",
    "#EXAMPLES\n",
    "_ticker_1 = 'AMZN'\n",
    "_ticker_2 = 'MCD'"
   ]
  },
  {
   "cell_type": "code",
   "execution_count": null,
   "id": "4b43517d",
   "metadata": {},
   "outputs": [],
   "source": [
    "tickers = [globals()[ticker] for ticker in list(globals().keys()) if \"_ticker_\" in ticker]"
   ]
  },
  {
   "cell_type": "code",
   "execution_count": null,
   "id": "35126fd3",
   "metadata": {},
   "outputs": [],
   "source": [
    "tickers"
   ]
  },
  {
   "cell_type": "markdown",
   "id": "b3bdefc7",
   "metadata": {},
   "source": [
    "--------"
   ]
  },
  {
   "cell_type": "markdown",
   "id": "d42d37b8",
   "metadata": {},
   "source": [
    "**Load the needed data for each ticker**"
   ]
  },
  {
   "cell_type": "code",
   "execution_count": null,
   "id": "fbecb14f",
   "metadata": {},
   "outputs": [],
   "source": [
    "#Today date\n",
    "today = date.today()"
   ]
  },
  {
   "cell_type": "code",
   "execution_count": null,
   "id": "1ffee5af",
   "metadata": {},
   "outputs": [],
   "source": [
    "def load_stock_data(ticker, dict_companies):\n",
    "    \n",
    "    profile = dict_companies[ticker]['_Company__profile']\n",
    "\n",
    "    stock_data = fa.stock_data(ticker, period=\"ytd\", interval=\"1d\")\n",
    "\n",
    "    ipo_year = int(profile.loc['ipoDate', 0][:4])\n",
    "    stock_data_detailed = fa.stock_data_detailed(ticker, api_key, begin=f\"{str(ipo_year+1)}-01-01\", end=str(today.strftime(\"%Y-%m-%d\"))).iloc[::-1]\n",
    "    \n",
    "    return stock_data, stock_data_detailed"
   ]
  },
  {
   "cell_type": "code",
   "execution_count": null,
   "id": "c8b47dc9",
   "metadata": {},
   "outputs": [],
   "source": [
    "tickers_stock_data = dict()\n",
    "for _ticker in tickers:\n",
    "    tickers_stock_data[_ticker] = load_stock_data(_ticker, dict_companies)"
   ]
  },
  {
   "cell_type": "markdown",
   "id": "1fcea6a1",
   "metadata": {},
   "source": [
    "-----------------"
   ]
  },
  {
   "cell_type": "markdown",
   "id": "84bcbe01",
   "metadata": {},
   "source": [
    "**Evolution function definition for price, volume and daily returns plots**"
   ]
  },
  {
   "cell_type": "code",
   "execution_count": null,
   "id": "c2c6ae65",
   "metadata": {},
   "outputs": [],
   "source": [
    "def plot_evolution(ticker, stock_data_detailed, evolution_var='price', line_chart=False):\n",
    "    \n",
    "    contempled_evolution_vars = ['price', 'daily returns', 'volume']\n",
    "    if evolution_var not in contempled_evolution_vars: raise Exception(f'You can not visualize {evolution_var}')\n",
    "    \n",
    "    \n",
    "    if isinstance(ticker, list) and isinstance(stock_data_detailed, list) and (len(ticker)==len(stock_data_detailed)):\n",
    "        last_ipo = max([pd.to_datetime(sd.index[0], format='%Y-%m-%d') for sd in stock_data_detailed])\n",
    "        for sd in range(len(stock_data_detailed)):\n",
    "            stock_data_detailed[sd].index = pd.to_datetime(stock_data_detailed[sd].index)\n",
    "            stock_data_detailed[sd] = stock_data_detailed[sd].loc[stock_data_detailed[sd].index > last_ipo] \n",
    "            stock_data_detailed[sd] = stock_data_detailed[sd].reset_index().rename(columns={'index':'date'})\n",
    "            stock_data_detailed[sd]['ticker'] = ticker[sd]\n",
    "            if evolution_var == 'daily returns': stock_data_detailed[sd]['daily_returns'] = stock_data_detailed[sd]['adjClose'].pct_change()\n",
    "            if sd == 0: concat_df = stock_data_detailed[sd]\n",
    "            else: concat_df = pd.concat([concat_df, stock_data_detailed[sd]], axis=0)\n",
    "                \n",
    "        if evolution_var == 'price':\n",
    "            fig = px.line(concat_df, \n",
    "                          x='date', \n",
    "                          y='adjClose',\n",
    "                          color='ticker',\n",
    "                          title=f'Line chart of the stock price evolution for {\", \".join(ticker)}',\n",
    "                          labels=dict(date=\"date\", adjClose=\"price($)\"))\n",
    "            \n",
    "        elif evolution_var == 'daily returns':\n",
    "            fig = px.line(concat_df, \n",
    "                          x='date', \n",
    "                          y='daily_returns',\n",
    "                          color='ticker',\n",
    "                          title=f'Line chart of the daily returns evolution for {\", \".join(ticker)}',\n",
    "                          labels=dict(date=\"date\", daily_returns=\"daily returns($)\"))            \n",
    "            \n",
    "        else:\n",
    "            fig = px.line(concat_df, \n",
    "                          x='date', \n",
    "                          y='volume',\n",
    "                          color='ticker',\n",
    "                          title=f'Line chart of the volume of trade evolution for {\", \".join(ticker)}',\n",
    "                          labels=dict(date=\"date\", volume=\"volume($)\"))\n",
    "        fig.show()\n",
    "        \n",
    "    else:\n",
    "        if not line_chart and evolution_var=='price':\n",
    "            candlestick = go.Candlestick(x=stock_data_detailed.index,\n",
    "                                    open=stock_data_detailed['open'],\n",
    "                                    high=stock_data_detailed['high'],\n",
    "                                    low=stock_data_detailed['low'],\n",
    "                                    close=stock_data_detailed['adjClose'])\n",
    "            fig = go.Figure(data=[candlestick])\n",
    "            fig.update_layout(title_text=f'Candlestick chart of the stock price evolution for {ticker}',\n",
    "                              xaxis_rangeslider_visible=False,\n",
    "                              yaxis_title='price($)')\n",
    "        else:\n",
    "            stock_data_detailed = stock_data_detailed.reset_index().rename(columns={'index':'date'})\n",
    "            if evolution_var == 'price':\n",
    "                fig = px.line(stock_data_detailed, \n",
    "                              x='date', \n",
    "                              y='adjClose', \n",
    "                              title=f'Line chart of the stock price evolution for {ticker}',\n",
    "                              labels=dict(date=\"date\", adjClose=\"price($)\"))\n",
    "            elif evolution_var == 'daily returns':\n",
    "                stock_data_detailed['daily_returns'] = stock_data_detailed['adjClose'].pct_change()\n",
    "                fig = px.line(stock_data_detailed, \n",
    "                              x='date', \n",
    "                              y='daily_returns', \n",
    "                              title=f'Line chart of the daily returns evolution for {ticker}',\n",
    "                              labels=dict(date=\"date\", daily_returns=\"daily returns($)\"))\n",
    "            else:\n",
    "                fig = px.line(stock_data_detailed, \n",
    "                              x='date', \n",
    "                              y='volume', \n",
    "                              title=f'Line chart of the volume of trade evolution for {ticker}',\n",
    "                              labels=dict(date=\"date\", volume=\"volume($)\"))\n",
    "        fig.show()"
   ]
  },
  {
   "cell_type": "markdown",
   "id": "9c10fc4e",
   "metadata": {},
   "source": [
    "--------"
   ]
  },
  {
   "cell_type": "markdown",
   "id": "a3defad1",
   "metadata": {},
   "source": [
    "**Stock price**"
   ]
  },
  {
   "cell_type": "markdown",
   "id": "bb86c9e0",
   "metadata": {},
   "source": [
    "Consider to take a look at *adjclose* while analysing the stock price because is mostly used for historical returns. \n",
    "Also, the adjclose changes where the company has had dividend distributions and splits. \n",
    "On the other hand, close price does not take into account dividend distributions and splits."
   ]
  },
  {
   "cell_type": "markdown",
   "id": "21d95d0d",
   "metadata": {},
   "source": [
    "*Visualization*"
   ]
  },
  {
   "cell_type": "code",
   "execution_count": null,
   "id": "ba715e58",
   "metadata": {},
   "outputs": [],
   "source": [
    "for _ticker in tickers:\n",
    "    plot_evolution(_ticker, tickers_stock_data[_ticker][1], 'price', True)"
   ]
  },
  {
   "cell_type": "code",
   "execution_count": null,
   "id": "2fe0d340",
   "metadata": {},
   "outputs": [],
   "source": [
    "plot_evolution(tickers, [tickers_stock_data[_ticker][1] for _ticker in tickers], 'price', True)"
   ]
  },
  {
   "cell_type": "markdown",
   "id": "a3256f8a",
   "metadata": {},
   "source": [
    "*Statistics*"
   ]
  },
  {
   "cell_type": "code",
   "execution_count": null,
   "id": "790592bb",
   "metadata": {},
   "outputs": [],
   "source": [
    "for _ticker in tickers:\n",
    "    print(f'\\n\\nStatistics for {_ticker} stock data')\n",
    "    display(tickers_stock_data[_ticker][0].describe())"
   ]
  },
  {
   "cell_type": "markdown",
   "id": "f095bc2b",
   "metadata": {},
   "source": [
    "----"
   ]
  },
  {
   "cell_type": "markdown",
   "id": "eaecb897",
   "metadata": {},
   "source": [
    "**Daily returns**"
   ]
  },
  {
   "cell_type": "markdown",
   "id": "25397dd5",
   "metadata": {},
   "source": [
    "*Line chart*"
   ]
  },
  {
   "cell_type": "code",
   "execution_count": null,
   "id": "22da4265",
   "metadata": {},
   "outputs": [],
   "source": [
    "for _ticker in tickers:\n",
    "    plot_evolution(_ticker, tickers_stock_data[_ticker][1], 'daily returns', True)"
   ]
  },
  {
   "cell_type": "code",
   "execution_count": null,
   "id": "f01ee284",
   "metadata": {},
   "outputs": [],
   "source": [
    "plot_evolution(tickers, [tickers_stock_data[_ticker][1] for _ticker in tickers], 'daily returns', True)"
   ]
  },
  {
   "cell_type": "markdown",
   "id": "a6225ed6",
   "metadata": {},
   "source": [
    "*Histogram*"
   ]
  },
  {
   "cell_type": "code",
   "execution_count": null,
   "id": "de5cc846",
   "metadata": {},
   "outputs": [],
   "source": [
    "daily_returns = dict()\n",
    "for _ticker in tickers:\n",
    "    daily_returns[_ticker] = tickers_stock_data[_ticker][1]['adjClose'].pct_change()\n",
    "    plt.figure(figsize=(14,7))\n",
    "    plt.hist(daily_returns[_ticker].dropna(), bins=100, alpha=0.6, color='b') # Drop NaN\n",
    "    plt.title(f\"Histogram of daily returns for {_ticker}\", fontsize=16)\n",
    "    plt.axvline(daily_returns[_ticker].mean(), color='r', linestyle='dashed', linewidth=2) # Shows the average line\n",
    "    plt.xlabel(\"Daily returns\", fontsize=12)\n",
    "    plt.ylabel(\"Freq of daily return\", fontsize=12)\n",
    "    plt.show()\n",
    "    print()"
   ]
  },
  {
   "cell_type": "markdown",
   "id": "ec29db1b",
   "metadata": {},
   "source": [
    "---------"
   ]
  },
  {
   "cell_type": "markdown",
   "id": "fc3ac8b1",
   "metadata": {},
   "source": [
    "**Volume traded**"
   ]
  },
  {
   "cell_type": "markdown",
   "id": "b9623a53",
   "metadata": {},
   "source": [
    "*Line chart*"
   ]
  },
  {
   "cell_type": "code",
   "execution_count": null,
   "id": "bc7001c3",
   "metadata": {},
   "outputs": [],
   "source": [
    "for _ticker in tickers:\n",
    "    plot_evolution(_ticker, tickers_stock_data[_ticker][1], 'volume', True)"
   ]
  },
  {
   "cell_type": "code",
   "execution_count": null,
   "id": "5883c88e",
   "metadata": {},
   "outputs": [],
   "source": [
    "plot_evolution(tickers, [tickers_stock_data[_ticker][1] for _ticker in tickers], 'volume', True)"
   ]
  },
  {
   "cell_type": "markdown",
   "id": "8ba1dd02",
   "metadata": {},
   "source": [
    "-------"
   ]
  },
  {
   "cell_type": "markdown",
   "id": "7795e411",
   "metadata": {},
   "source": [
    "**Log returns and volatility**"
   ]
  },
  {
   "cell_type": "code",
   "execution_count": null,
   "id": "8cc43d67",
   "metadata": {},
   "outputs": [],
   "source": [
    "def returns_volatility_evolution(ticker, stock_data_detailed):\n",
    "    log_returns_volatility = dict()\n",
    "    daily_log_returns = np.log((stock_data_detailed['adjClose']/stock_data_detailed['adjClose'].shift()).astype('float64'))\n",
    "    volatility = daily_log_returns.std()*252**.5\n",
    "\n",
    "\n",
    "    plt.figure(figsize=(14,7))\n",
    "    plt.hist(daily_log_returns.dropna(), bins=50, alpha=0.6, color='b')\n",
    "    plt.title(f\"{_ticker} volatility: {str(round(volatility, 4)*100)}%\", fontsize=16)\n",
    "    plt.axvline(daily_log_returns.mean(), color='r', linestyle='dashed', linewidth=2) # Shows the average line\n",
    "    plt.xlabel(\"Daily log return\", fontsize=12)\n",
    "    plt.ylabel(\"Freq of daily log return\", fontsize=12)\n",
    "    plt.show()\n",
    "    \n",
    "    return daily_log_returns, volatility"
   ]
  },
  {
   "cell_type": "code",
   "execution_count": null,
   "id": "3bade8d7",
   "metadata": {},
   "outputs": [],
   "source": [
    "log_returns_volatility = dict()\n",
    "for _ticker in tickers:\n",
    "    log_returns_volatility[_ticker] = list(returns_volatility_evolution(_ticker, tickers_stock_data[_ticker][1]))"
   ]
  },
  {
   "cell_type": "markdown",
   "id": "d49c90c0",
   "metadata": {},
   "source": [
    "---------"
   ]
  },
  {
   "cell_type": "markdown",
   "id": "f439d354",
   "metadata": {},
   "source": [
    "**Dividends evolution visualization**"
   ]
  },
  {
   "cell_type": "code",
   "execution_count": null,
   "id": "fe115514",
   "metadata": {},
   "outputs": [],
   "source": [
    "def dividend_evolution(ticker, dividends):\n",
    "    if isinstance(dividends, pd.DataFrame):\n",
    "        dividends.index = pd.to_datetime(dividends.index)\n",
    "        dividends = dividends.reset_index().rename(columns={'index':'date'})\n",
    "        fig = px.line(dividends, \n",
    "                      x='date', \n",
    "                      y='adjDividend', \n",
    "                      title=f'Line chart of the dividends evolution for {ticker}',\n",
    "                      labels=dict(date=\"date\", adjDividend=\"amount($)\"))\n",
    "        fig.show()\n",
    "    else:\n",
    "        print(f'{ticker} DOES NOT DISTRIBUTE DIVIDENDS')"
   ]
  },
  {
   "cell_type": "code",
   "execution_count": null,
   "id": "93095280",
   "metadata": {},
   "outputs": [],
   "source": [
    "for _ticker in tickers:\n",
    "    dividend_evolution(_ticker, dict_companies[_ticker]['_Company__dividends'])"
   ]
  },
  {
   "cell_type": "markdown",
   "id": "5ced02db",
   "metadata": {},
   "source": [
    "--------"
   ]
  },
  {
   "cell_type": "markdown",
   "id": "30168e40",
   "metadata": {},
   "source": [
    "**Additional technical indicators**"
   ]
  },
  {
   "cell_type": "code",
   "execution_count": null,
   "id": "cf89fd9e",
   "metadata": {},
   "outputs": [],
   "source": [
    "#SIMPLE AND EXPONENTIAL MOVING AVERAGES\n",
    "\n",
    "def moving_average(ticker, stock_data_detailed, type_ma='simple', period=30):\n",
    "\n",
    "    if type_ma == 'simple':\n",
    "        ma_df = pd.DataFrame(ta.MA(stock_data_detailed['adjClose'], timeperiod=period), columns=['value']).reset_index().rename(columns={'index':'date'})\n",
    "    elif type_ma == 'exponential':\n",
    "        ma_df = pd.DataFrame(ta.EMA(stock_data_detailed['adjClose'], timeperiod=period), columns=['value']).reset_index().rename(columns={'index':'date'})\n",
    "        \n",
    "    ma_df['line'] = 'ma'\n",
    "    price_df = pd.DataFrame(stock_data_detailed['adjClose']).reset_index().rename(columns={'index':'date', 'adjClose':'value'})\n",
    "    price_df['line'] = 'price'\n",
    "    concat_df = pd.concat([ma_df, price_df])\n",
    "    fig = px.line(concat_df, \n",
    "                  x='date', \n",
    "                  y='value',\n",
    "                  color='line',\n",
    "                  title=f'{type_ma.capitalize()} Moving Average for {ticker}',\n",
    "                  labels=dict(date=\"date\", value=\"amount($)\"))\n",
    "\n",
    "    fig.show()"
   ]
  },
  {
   "cell_type": "code",
   "execution_count": null,
   "id": "67565b5e",
   "metadata": {},
   "outputs": [],
   "source": [
    "for _ticker in tickers:\n",
    "    moving_average(_ticker, tickers_stock_data[_ticker][1], 'simple', 30)"
   ]
  },
  {
   "cell_type": "markdown",
   "id": "1db552e2",
   "metadata": {},
   "source": [
    "--------"
   ]
  },
  {
   "cell_type": "code",
   "execution_count": null,
   "id": "972fe73a",
   "metadata": {},
   "outputs": [],
   "source": [
    "#RELATIVE STRENGHT INDEX\n",
    "\n",
    "def relative_strenght_index(ticker, stock_data_detailed, period=5):\n",
    "    \n",
    "    rsi_df = pd.DataFrame(ta.RSI(stock_data_detailed['adjClose'], timeperiod=period), columns=['rsi'])\n",
    "    fig = make_subplots(rows=2, cols=1, shared_xaxes=True, row_width=[0.25, 0.75])\n",
    "    fig.add_trace(go.Candlestick(x=stock_data_detailed.index,\n",
    "                                   open=stock_data_detailed['open'],\n",
    "                                   high=stock_data_detailed['high'],\n",
    "                                   low=stock_data_detailed['low'],\n",
    "                                   close=stock_data_detailed['adjClose']), row=1, col=1)\n",
    "\n",
    "    fig.add_trace(go.Scatter(x=rsi_df.index,\n",
    "                             y=rsi_df['rsi'],\n",
    "                             line=dict(color='#ff9900', width=0.5),\n",
    "                             showlegend=False), row=2, col=1)\n",
    "\n",
    "    fig.update_yaxes(range=[-10, 110], row=2, col=1)\n",
    "    fig.add_hline(y=0, col=1, row=2, line_color=\"#666\", line_width=1)\n",
    "    fig.add_hline(y=100, col=1, row=2, line_color=\"#666\", line_width=1)\n",
    "\n",
    "    fig.add_hline(y=30, col=1, row=2, line_color='#336699', line_width=1, line_dash='dash')\n",
    "    fig.add_hline(y=70, col=1, row=2, line_color='#336699', line_width=1, line_dash='dash')\n",
    "\n",
    "    layout = go.Layout(\n",
    "        title=f'Relative Strenght Index for {ticker}',\n",
    "        plot_bgcolor='#efefef',\n",
    "        xaxis=dict(\n",
    "            rangeslider=dict(\n",
    "            visible=False\n",
    "            )\n",
    "        )\n",
    "    )\n",
    "    fig.update_layout(layout)\n",
    "    fig.show()"
   ]
  },
  {
   "cell_type": "code",
   "execution_count": null,
   "id": "f2b05f47",
   "metadata": {},
   "outputs": [],
   "source": [
    "for _ticker in tickers:\n",
    "    relative_strenght_index(_ticker, tickers_stock_data[_ticker][1], period=5)"
   ]
  },
  {
   "cell_type": "markdown",
   "id": "86b1db3a",
   "metadata": {},
   "source": [
    "-------------"
   ]
  },
  {
   "cell_type": "code",
   "execution_count": null,
   "id": "5dd2d7c0",
   "metadata": {},
   "outputs": [],
   "source": [
    "#BOLLINGER BANDS\n",
    "\n",
    "def bollinger_bands(ticker, stock_data_detailed, timeperiod=20, nbdevup=2, nbdevdn=2): #nbdev = non-biased standard deviations from the mean\n",
    "    \n",
    "    adjclose_df = pd.DataFrame(stock_data_detailed[['adjClose']].copy().rename(columns={'adjClose': 'price'}))\n",
    "    ub_df = pd.DataFrame(index=adjclose_df.index)\n",
    "    mb_df = pd.DataFrame(index=adjclose_df.index)\n",
    "    lb_df = pd.DataFrame(index=adjclose_df.index)\n",
    "    ub_df['price'], mb_df['price'], lb_df['price'] = ta.BBANDS(stock_data_detailed['adjClose'], timeperiod=timeperiod, nbdevup=nbdevup, nbdevdn=nbdevdn, matype=0)\n",
    "    adjclose_df['line'] = 'adjclose'\n",
    "    ub_df['line'] = 'upper band'\n",
    "    mb_df['line'] = 'middle band'\n",
    "    lb_df['line'] = 'lower band'\n",
    "    bollinger_dfs = [adjclose_df, ub_df, mb_df, lb_df]\n",
    "    concat_bollinger_df = pd.concat(bollinger_dfs).reset_index().rename(columns={'index':'date'})\n",
    "    fig = px.line(concat_bollinger_df, \n",
    "                  x='date', \n",
    "                  y='price',\n",
    "                  color='line',\n",
    "                  title=f'Bollingers Bands for {_ticker}',\n",
    "                  labels=dict(date=\"date\", price=\"price($)\"))\n",
    "    fig.show()\n",
    "    "
   ]
  },
  {
   "cell_type": "code",
   "execution_count": null,
   "id": "71c26a5b",
   "metadata": {},
   "outputs": [],
   "source": [
    "for _ticker in tickers:\n",
    "    bollinger_bands(_ticker, tickers_stock_data[_ticker][1], 20, 2, 2)"
   ]
  },
  {
   "cell_type": "markdown",
   "id": "49010c98",
   "metadata": {},
   "source": [
    "----------------------"
   ]
  },
  {
   "cell_type": "code",
   "execution_count": null,
   "id": "f19538f4",
   "metadata": {},
   "outputs": [],
   "source": [
    "#ON BALANCE VOLUME \n",
    "\n",
    "def on_balance_volume(ticker, stock_data_detailed):\n",
    "    obv_df = pd.DataFrame(ta.OBV(stock_data_detailed['adjClose'], stock_data_detailed['volume']), columns=['obv'])\n",
    "    fig = make_subplots(rows=2, cols=1, shared_xaxes=True, row_width=[0.25, 0.75])\n",
    "    fig.add_trace(go.Candlestick(x=stock_data_detailed.index,\n",
    "                                       open=stock_data_detailed['open'],\n",
    "                                       high=stock_data_detailed['high'],\n",
    "                                       low=stock_data_detailed['low'],\n",
    "                                       close=stock_data_detailed['adjClose']), row=1, col=1)\n",
    "\n",
    "    fig.add_trace(go.Scatter(x=obv_df.index,\n",
    "                                 y=obv_df['obv'],\n",
    "                                 line=dict(color='#ff9900', width=0.5),\n",
    "                                 showlegend=False), row=2, col=1)\n",
    "\n",
    "    fig.update_yaxes(range=[obv_df.min()-(0.05*abs(obv_df.min())), obv_df.max()+(0.05*abs(obv_df.min()))], row=2, col=1)\n",
    "\n",
    "    layout = go.Layout(\n",
    "            title=f'On Balance Volume for {ticker}',\n",
    "            plot_bgcolor='#efefef',\n",
    "            xaxis=dict(\n",
    "                rangeslider=dict(\n",
    "                visible=False\n",
    "                )\n",
    "            )\n",
    "        )\n",
    "    fig.update_layout(layout)\n",
    "    fig.show()"
   ]
  },
  {
   "cell_type": "code",
   "execution_count": null,
   "id": "411d0941",
   "metadata": {},
   "outputs": [],
   "source": [
    "for _ticker in tickers:\n",
    "    on_balance_volume(_ticker, tickers_stock_data[_ticker][1])"
   ]
  },
  {
   "cell_type": "markdown",
   "id": "8120e0ff",
   "metadata": {},
   "source": [
    "--------------"
   ]
  },
  {
   "cell_type": "code",
   "execution_count": null,
   "id": "73bba1ca",
   "metadata": {},
   "outputs": [],
   "source": [
    "#CHAIKIN A/D OSCILLATOR \n",
    "\n",
    "def chaikin_ad_oscillator(ticker, stock_data_detailed, fast_period=3, slow_period=10):\n",
    "   \n",
    "    ad_df = pd.DataFrame(ta.ADOSC(stock_data_detailed['high'], stock_data_detailed['low'], stock_data_detailed['adjClose'], stock_data_detailed['volume'], fastperiod=fast_period, slowperiod=slow_period), columns=['ad'])\n",
    "    fig = make_subplots(rows=2, cols=1, shared_xaxes=True, row_width=[0.25, 0.75])\n",
    "    fig.add_trace(go.Candlestick(x=stock_data_detailed.index,\n",
    "                                   open=stock_data_detailed['open'],\n",
    "                                   high=stock_data_detailed['high'],\n",
    "                                   low=stock_data_detailed['low'],\n",
    "                                   close=stock_data_detailed['adjClose']), row=1, col=1)\n",
    "\n",
    "    fig.add_trace(go.Scatter(x=ad_df.index,\n",
    "                             y=ad_df['ad'],\n",
    "                             line=dict(color='#ff9900', width=0.5),\n",
    "                             showlegend=False), row=2, col=1)\n",
    "\n",
    "    fig.update_yaxes(range=[ad_df.min()-(0.05*abs(ad_df.min())), ad_df.max()+(0.05*abs(ad_df.min()))], row=2, col=1)\n",
    "\n",
    "    fig.add_hline(y=0, col=1, row=2, line_color='#336699', line_width=1, line_dash='dash')\n",
    "\n",
    "    layout = go.Layout(\n",
    "        title=f'Chaikin A/D Oscillator for {ticker}',\n",
    "        plot_bgcolor='#efefef',\n",
    "        xaxis=dict(\n",
    "            rangeslider=dict(\n",
    "            visible=False\n",
    "            )\n",
    "        )\n",
    "    )\n",
    "    fig.update_layout(layout)\n",
    "    fig.show()"
   ]
  },
  {
   "cell_type": "code",
   "execution_count": null,
   "id": "e8cc4a08",
   "metadata": {},
   "outputs": [],
   "source": [
    "for _ticker in tickers:\n",
    "    chaikin_ad_oscillator(_ticker, tickers_stock_data[_ticker][1], fast_period=3, slow_period=10)"
   ]
  },
  {
   "cell_type": "markdown",
   "id": "857716cf",
   "metadata": {},
   "source": [
    "----------"
   ]
  },
  {
   "cell_type": "code",
   "execution_count": null,
   "id": "3aeb3dee",
   "metadata": {},
   "outputs": [],
   "source": [
    "#AVERAGE DIRECTIONAL MOVEMENT INDEX\n",
    "\n",
    "def average_directional_movement_index(ticker, stock_data_detailed, timeperiod=14): #14 periods are typically used\n",
    "    \n",
    "    \n",
    "    adx_df = pd.DataFrame(ta.ADX(stock_data_detailed['high'], stock_data_detailed['low'], stock_data_detailed['adjClose'], timeperiod=timeperiod), columns=['adx'])\n",
    "    posdi_df = pd.DataFrame(ta.PLUS_DI(stock_data_detailed['high'], stock_data_detailed['low'], stock_data_detailed['adjClose'], timeperiod=timeperiod), columns=['positive_di'])\n",
    "    negdi_df = pd.DataFrame(ta.MINUS_DI(stock_data_detailed['high'], stock_data_detailed['low'], stock_data_detailed['adjClose'], timeperiod=timeperiod), columns=['negative_di'])    \n",
    "    fig = make_subplots(rows=4, cols=1, shared_xaxes=True,\n",
    "                        row_heights=[0.75, 0.25, 0.25, 0.25],\n",
    "                        vertical_spacing = 0.06,\n",
    "                        subplot_titles=['', '+DI', '-DI', 'ADX'])\n",
    "    fig.add_trace(go.Candlestick(x=stock_data_detailed.index,\n",
    "                                   open=stock_data_detailed['open'],\n",
    "                                   high=stock_data_detailed['high'],\n",
    "                                   low=stock_data_detailed['low'],\n",
    "                                   close=stock_data_detailed['adjClose']), row=1, col=1)\n",
    "\n",
    "    fig.add_trace(go.Scatter(x=posdi_df.index,\n",
    "                             y=posdi_df['positive_di'],\n",
    "                             line=dict(color='#ff9900', width=0.5),\n",
    "                             showlegend=False), row=2, col=1)\n",
    "    fig.add_trace(go.Scatter(x=negdi_df.index,\n",
    "                             y=negdi_df['negative_di'],\n",
    "                             line=dict(color='#ff9900', width=0.5),\n",
    "                             showlegend=False), row=3, col=1)\n",
    "    fig.add_trace(go.Scatter(x=adx_df.index,\n",
    "                             y=adx_df['adx'],\n",
    "                             line=dict(color='#ff9900', width=0.5),\n",
    "                             showlegend=False), row=4, col=1)\n",
    "\n",
    "    fig.update_yaxes(range=[posdi_df.min()-(0.05*abs(posdi_df.min())), posdi_df.max()+(0.05*abs(posdi_df.min()))], row=2, col=1)\n",
    "    fig.update_yaxes(range=[negdi_df.min()-(0.05*abs(negdi_df.min())), negdi_df.max()+(0.05*abs(negdi_df.min()))], row=3, col=1)\n",
    "    fig.update_yaxes(range=[adx_df.min()-(0.05*abs(adx_df.min())), adx_df.max()+(0.05*abs(adx_df.min()))], row=4, col=1)\n",
    "\n",
    "    layout = go.Layout(\n",
    "        autosize=False,\n",
    "        width=900,\n",
    "        height=1000,\n",
    "        title=f'Average Directional Movement Index for {ticker}',\n",
    "        plot_bgcolor='#efefef',\n",
    "        xaxis=dict(\n",
    "            rangeslider=dict(\n",
    "            visible=False\n",
    "            )\n",
    "        )\n",
    "    )\n",
    "    fig.update_layout(layout)\n",
    "    fig.show()\n"
   ]
  },
  {
   "cell_type": "code",
   "execution_count": null,
   "id": "1392979a",
   "metadata": {},
   "outputs": [],
   "source": [
    "for _ticker in tickers:\n",
    "    average_directional_movement_index(_ticker, tickers_stock_data[_ticker][1], timeperiod=14)"
   ]
  },
  {
   "cell_type": "markdown",
   "id": "88c2ab28",
   "metadata": {},
   "source": [
    "----------"
   ]
  },
  {
   "cell_type": "code",
   "execution_count": null,
   "id": "2dbf792f",
   "metadata": {},
   "outputs": [],
   "source": [
    "#AROON OSCILLATOR\n",
    "\n",
    "def aroon_oscillator(ticker, stock_data_detailed, timeperiod=25):  # Typically uses 25 periods\n",
    "    aronsc_df =  pd.DataFrame(ta.AROONOSC(tickers_stock_data[_ticker][1]['high'], tickers_stock_data[_ticker][1]['low'], timeperiod=25), columns=['aroon_osc'])\n",
    "    fig = make_subplots(rows=2, cols=1, shared_xaxes=True, row_width=[0.25, 0.75])\n",
    "    fig.add_trace(go.Candlestick(x=stock_data_detailed.index,\n",
    "                                   open=stock_data_detailed['open'],\n",
    "                                   high=stock_data_detailed['high'],\n",
    "                                   low=stock_data_detailed['low'],\n",
    "                                   close=stock_data_detailed['adjClose']), row=1, col=1)\n",
    "\n",
    "    fig.add_trace(go.Scatter(x=aronsc_df.index,\n",
    "                             y=aronsc_df['aroon_osc'],\n",
    "                             line=dict(color='#ff9900', width=0.5),\n",
    "                             showlegend=False), row=2, col=1)\n",
    "\n",
    "    fig.update_yaxes(range=[aronsc_df.min()-(0.05*abs(aronsc_df.min())), aronsc_df.max()+(0.05*abs(aronsc_df.min()))], row=2, col=1)\n",
    "\n",
    "    fig.add_hline(y=0, col=1, row=2, line_color='#336699', line_width=1, line_dash='dash')\n",
    "\n",
    "    layout = go.Layout(\n",
    "        title=f'Aroon Oscillator for {ticker}',\n",
    "        plot_bgcolor='#efefef',\n",
    "        xaxis=dict(\n",
    "            rangeslider=dict(\n",
    "            visible=False\n",
    "            )\n",
    "        )\n",
    "    )\n",
    "    fig.update_layout(layout)\n",
    "    fig.show()"
   ]
  },
  {
   "cell_type": "code",
   "execution_count": null,
   "id": "c843b2e6",
   "metadata": {},
   "outputs": [],
   "source": [
    "for _ticker in tickers:\n",
    "    aroon_oscillator(_ticker, tickers_stock_data[_ticker][1], timeperiod=25)"
   ]
  }
 ],
 "metadata": {
  "kernelspec": {
   "display_name": "Python 3 (ipykernel)",
   "language": "python",
   "name": "python3"
  },
  "language_info": {
   "codemirror_mode": {
    "name": "ipython",
    "version": 3
   },
   "file_extension": ".py",
   "mimetype": "text/x-python",
   "name": "python",
   "nbconvert_exporter": "python",
   "pygments_lexer": "ipython3",
   "version": "3.9.7"
  }
 },
 "nbformat": 4,
 "nbformat_minor": 5
}
