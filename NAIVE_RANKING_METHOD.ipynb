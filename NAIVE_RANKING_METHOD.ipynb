{
 "cells": [
  {
   "cell_type": "markdown",
   "id": "8cb9f5ff",
   "metadata": {},
   "source": [
    "**Imports**"
   ]
  },
  {
   "cell_type": "code",
   "execution_count": 1,
   "id": "8f166183",
   "metadata": {},
   "outputs": [
    {
     "name": "stdout",
     "output_type": "stream",
     "text": [
      "importing Jupyter notebook from UTILS.ipynb\n"
     ]
    }
   ],
   "source": [
    "import pandas as pd\n",
    "import numpy as np\n",
    "import seaborn as sns\n",
    "import matplotlib.pyplot as plt\n",
    "import pickle\n",
    "from collections import Counter, OrderedDict\n",
    "import import_ipynb\n",
    "import UTILS as utils\n",
    "\n",
    "import FundamentalAnalysis as fa"
   ]
  },
  {
   "cell_type": "code",
   "execution_count": 2,
   "id": "0e6f7acd",
   "metadata": {},
   "outputs": [],
   "source": [
    "pd.set_option(\"display.max_rows\", None, \"display.max_columns\", None)"
   ]
  },
  {
   "cell_type": "code",
   "execution_count": 3,
   "id": "52eac74f",
   "metadata": {},
   "outputs": [],
   "source": [
    "api_key = \"Here would go my personal API key\""
   ]
  },
  {
   "cell_type": "markdown",
   "id": "169df3ba",
   "metadata": {},
   "source": [
    "------------"
   ]
  },
  {
   "cell_type": "markdown",
   "id": "4adcf8ea",
   "metadata": {},
   "source": [
    "**Load data**"
   ]
  },
  {
   "cell_type": "markdown",
   "id": "1723ee69",
   "metadata": {},
   "source": [
    "*Files with data from year with displacement -X*"
   ]
  },
  {
   "cell_type": "code",
   "execution_count": null,
   "id": "440f43cb",
   "metadata": {},
   "outputs": [],
   "source": [
    "file1 = 'DATA_ttm/S_P500_data_ttm_Xyeardisp/S_P500_dataframe_with_ratios_ttm_Xyeardisp.csv'\n",
    "file2 = 'DATA_ttm/S_P500_data_ttm_Xyeardisp/S_P500_companies_financials_data_ttm_Xyeardisp.pickle'"
   ]
  },
  {
   "cell_type": "code",
   "execution_count": 106,
   "id": "01d2a006",
   "metadata": {},
   "outputs": [],
   "source": [
    "data_loaded = utils.data_loading(file1, file2)"
   ]
  },
  {
   "cell_type": "code",
   "execution_count": 107,
   "id": "9592d85c",
   "metadata": {},
   "outputs": [],
   "source": [
    "df = data_loaded[0]\n",
    "dict_companies = data_loaded[1]\n",
    "\n",
    "#Delete two of the ratios that were computed due to its very close similarity to other ones (and consequently giving\n",
    "#false relevance). Asset to equity to equity multiplier, and total debt to capitalization to total debt to capital.\n",
    "df.drop([\"_asset_to_equity\",\"_total_debt_to_capitalization\"], axis=1, inplace=True)"
   ]
  },
  {
   "cell_type": "code",
   "execution_count": 108,
   "id": "18e3ff5e",
   "metadata": {},
   "outputs": [
    {
     "data": {
      "text/html": [
       "<div>\n",
       "<style scoped>\n",
       "    .dataframe tbody tr th:only-of-type {\n",
       "        vertical-align: middle;\n",
       "    }\n",
       "\n",
       "    .dataframe tbody tr th {\n",
       "        vertical-align: top;\n",
       "    }\n",
       "\n",
       "    .dataframe thead th {\n",
       "        text-align: right;\n",
       "    }\n",
       "</style>\n",
       "<table border=\"1\" class=\"dataframe\">\n",
       "  <thead>\n",
       "    <tr style=\"text-align: right;\">\n",
       "      <th></th>\n",
       "      <th>_disp</th>\n",
       "      <th>_PAT_margin</th>\n",
       "      <th>_EBITDA_margin</th>\n",
       "      <th>_return_on_equity</th>\n",
       "      <th>_return_on_assets</th>\n",
       "      <th>_return_on_capital_employed</th>\n",
       "      <th>_gross_margin</th>\n",
       "      <th>_operating_margin</th>\n",
       "      <th>_operating_cash_flow_ratio</th>\n",
       "      <th>_return_on_invested_capital</th>\n",
       "      <th>_return_on_sales</th>\n",
       "      <th>_fixed_asset_turnover</th>\n",
       "      <th>_working_capital_turnover</th>\n",
       "      <th>_total_asset_turnover</th>\n",
       "      <th>_inventory_turnover</th>\n",
       "      <th>_days_of_inventory_on_hand</th>\n",
       "      <th>_accounts_receivables_turnover</th>\n",
       "      <th>_payables_turnover</th>\n",
       "      <th>_debt_to_assets</th>\n",
       "      <th>_interest_coverage</th>\n",
       "      <th>_debt_to_equity</th>\n",
       "      <th>_equity_multiplier</th>\n",
       "      <th>_total_debt_to_capital</th>\n",
       "      <th>_net_debt_to_EBITDA</th>\n",
       "      <th>_degree_financial_leverage</th>\n",
       "      <th>_earnings_per_share</th>\n",
       "      <th>_book_value_per_share</th>\n",
       "      <th>_cash_earnings_per_share</th>\n",
       "      <th>_price_to_earnings</th>\n",
       "      <th>_price_to_book_value</th>\n",
       "      <th>_price_to_sales</th>\n",
       "      <th>_price_to_free_cash_flow</th>\n",
       "      <th>_price_earnings_to_growth</th>\n",
       "      <th>_dividend_yield</th>\n",
       "      <th>_dividend_payout</th>\n",
       "      <th>_enterprise_value_to_ebitda</th>\n",
       "      <th>_enterprise_value_to_sales</th>\n",
       "      <th>_current_ratio</th>\n",
       "      <th>_quick_ratio</th>\n",
       "      <th>_cash_ratio</th>\n",
       "      <th>_days_of_sales_outstanding</th>\n",
       "      <th>_days_of_sales_in_inventory</th>\n",
       "      <th>_days_of_payables_outstanding</th>\n",
       "      <th>_operating_cycle</th>\n",
       "      <th>_cash_conversion_cycle</th>\n",
       "    </tr>\n",
       "    <tr>\n",
       "      <th>ticker</th>\n",
       "      <th></th>\n",
       "      <th></th>\n",
       "      <th></th>\n",
       "      <th></th>\n",
       "      <th></th>\n",
       "      <th></th>\n",
       "      <th></th>\n",
       "      <th></th>\n",
       "      <th></th>\n",
       "      <th></th>\n",
       "      <th></th>\n",
       "      <th></th>\n",
       "      <th></th>\n",
       "      <th></th>\n",
       "      <th></th>\n",
       "      <th></th>\n",
       "      <th></th>\n",
       "      <th></th>\n",
       "      <th></th>\n",
       "      <th></th>\n",
       "      <th></th>\n",
       "      <th></th>\n",
       "      <th></th>\n",
       "      <th></th>\n",
       "      <th></th>\n",
       "      <th></th>\n",
       "      <th></th>\n",
       "      <th></th>\n",
       "      <th></th>\n",
       "      <th></th>\n",
       "      <th></th>\n",
       "      <th></th>\n",
       "      <th></th>\n",
       "      <th></th>\n",
       "      <th></th>\n",
       "      <th></th>\n",
       "      <th></th>\n",
       "      <th></th>\n",
       "      <th></th>\n",
       "      <th></th>\n",
       "      <th></th>\n",
       "      <th></th>\n",
       "      <th></th>\n",
       "      <th></th>\n",
       "      <th></th>\n",
       "    </tr>\n",
       "  </thead>\n",
       "  <tbody>\n",
       "    <tr>\n",
       "      <th>MMM</th>\n",
       "      <td>2</td>\n",
       "      <td>0.153873</td>\n",
       "      <td>0.256938</td>\n",
       "      <td>0.120828</td>\n",
       "      <td>0.028945</td>\n",
       "      <td>0.048458</td>\n",
       "      <td>0.476497</td>\n",
       "      <td>0.207315</td>\n",
       "      <td>0.021889</td>\n",
       "      <td>0.048458</td>\n",
       "      <td>0.207315</td>\n",
       "      <td>0.812810</td>\n",
       "      <td>4.847958</td>\n",
       "      <td>0.188460</td>\n",
       "      <td>1.017196</td>\n",
       "      <td>88.557504</td>\n",
       "      <td>1.605390</td>\n",
       "      <td>1.96058</td>\n",
       "      <td>0.759778</td>\n",
       "      <td>14.497171</td>\n",
       "      <td>1.687505</td>\n",
       "      <td>4.208227</td>\n",
       "      <td>0.656201</td>\n",
       "      <td>7.634353</td>\n",
       "      <td>1.310350</td>\n",
       "      <td>2.155000</td>\n",
       "      <td>17.767680</td>\n",
       "      <td>3.136049</td>\n",
       "      <td>19.699515</td>\n",
       "      <td>9.179421</td>\n",
       "      <td>11.621096</td>\n",
       "      <td>70.936366</td>\n",
       "      <td>0.246938</td>\n",
       "      <td>0.008968</td>\n",
       "      <td>0.692397</td>\n",
       "      <td>53.762023</td>\n",
       "      <td>3.098002</td>\n",
       "      <td>1.824179</td>\n",
       "      <td>1.151772</td>\n",
       "      <td>0.525355</td>\n",
       "      <td>56.133259</td>\n",
       "      <td>227.651552</td>\n",
       "      <td>45.956976</td>\n",
       "      <td>144.690763</td>\n",
       "      <td>98.733787</td>\n",
       "    </tr>\n",
       "    <tr>\n",
       "      <th>AOS</th>\n",
       "      <td>2</td>\n",
       "      <td>0.123555</td>\n",
       "      <td>0.187507</td>\n",
       "      <td>0.054431</td>\n",
       "      <td>0.029718</td>\n",
       "      <td>0.049049</td>\n",
       "      <td>0.394449</td>\n",
       "      <td>0.155319</td>\n",
       "      <td>0.246905</td>\n",
       "      <td>0.049049</td>\n",
       "      <td>0.155319</td>\n",
       "      <td>1.254168</td>\n",
       "      <td>3.633240</td>\n",
       "      <td>0.240488</td>\n",
       "      <td>1.443708</td>\n",
       "      <td>62.376850</td>\n",
       "      <td>1.200257</td>\n",
       "      <td>0.91841</td>\n",
       "      <td>0.453851</td>\n",
       "      <td>43.605517</td>\n",
       "      <td>0.179391</td>\n",
       "      <td>1.831239</td>\n",
       "      <td>0.154779</td>\n",
       "      <td>0.046576</td>\n",
       "      <td>1.137364</td>\n",
       "      <td>0.562114</td>\n",
       "      <td>10.325532</td>\n",
       "      <td>0.696915</td>\n",
       "      <td>21.941320</td>\n",
       "      <td>4.751008</td>\n",
       "      <td>10.801056</td>\n",
       "      <td>3270.928668</td>\n",
       "      <td>0.698811</td>\n",
       "      <td>0.004638</td>\n",
       "      <td>0.404647</td>\n",
       "      <td>57.884529</td>\n",
       "      <td>2.285111</td>\n",
       "      <td>2.112919</td>\n",
       "      <td>1.611280</td>\n",
       "      <td>0.407993</td>\n",
       "      <td>75.110708</td>\n",
       "      <td>304.615650</td>\n",
       "      <td>98.021482</td>\n",
       "      <td>137.487558</td>\n",
       "      <td>39.466077</td>\n",
       "    </tr>\n",
       "  </tbody>\n",
       "</table>\n",
       "</div>"
      ],
      "text/plain": [
       "        _disp  _PAT_margin  _EBITDA_margin  _return_on_equity  \\\n",
       "ticker                                                          \n",
       "MMM         2     0.153873        0.256938           0.120828   \n",
       "AOS         2     0.123555        0.187507           0.054431   \n",
       "\n",
       "        _return_on_assets  _return_on_capital_employed  _gross_margin  \\\n",
       "ticker                                                                  \n",
       "MMM              0.028945                     0.048458       0.476497   \n",
       "AOS              0.029718                     0.049049       0.394449   \n",
       "\n",
       "        _operating_margin  _operating_cash_flow_ratio  \\\n",
       "ticker                                                  \n",
       "MMM              0.207315                    0.021889   \n",
       "AOS              0.155319                    0.246905   \n",
       "\n",
       "        _return_on_invested_capital  _return_on_sales  _fixed_asset_turnover  \\\n",
       "ticker                                                                         \n",
       "MMM                        0.048458          0.207315               0.812810   \n",
       "AOS                        0.049049          0.155319               1.254168   \n",
       "\n",
       "        _working_capital_turnover  _total_asset_turnover  _inventory_turnover  \\\n",
       "ticker                                                                          \n",
       "MMM                      4.847958               0.188460             1.017196   \n",
       "AOS                      3.633240               0.240488             1.443708   \n",
       "\n",
       "        _days_of_inventory_on_hand  _accounts_receivables_turnover  \\\n",
       "ticker                                                               \n",
       "MMM                      88.557504                        1.605390   \n",
       "AOS                      62.376850                        1.200257   \n",
       "\n",
       "        _payables_turnover  _debt_to_assets  _interest_coverage  \\\n",
       "ticker                                                            \n",
       "MMM                1.96058         0.759778           14.497171   \n",
       "AOS                0.91841         0.453851           43.605517   \n",
       "\n",
       "        _debt_to_equity  _equity_multiplier  _total_debt_to_capital  \\\n",
       "ticker                                                                \n",
       "MMM            1.687505            4.208227                0.656201   \n",
       "AOS            0.179391            1.831239                0.154779   \n",
       "\n",
       "        _net_debt_to_EBITDA  _degree_financial_leverage  _earnings_per_share  \\\n",
       "ticker                                                                         \n",
       "MMM                7.634353                    1.310350             2.155000   \n",
       "AOS                0.046576                    1.137364             0.562114   \n",
       "\n",
       "        _book_value_per_share  _cash_earnings_per_share  _price_to_earnings  \\\n",
       "ticker                                                                        \n",
       "MMM                 17.767680                  3.136049           19.699515   \n",
       "AOS                 10.325532                  0.696915           21.941320   \n",
       "\n",
       "        _price_to_book_value  _price_to_sales  _price_to_free_cash_flow  \\\n",
       "ticker                                                                    \n",
       "MMM                 9.179421        11.621096                 70.936366   \n",
       "AOS                 4.751008        10.801056               3270.928668   \n",
       "\n",
       "        _price_earnings_to_growth  _dividend_yield  _dividend_payout  \\\n",
       "ticker                                                                 \n",
       "MMM                      0.246938         0.008968          0.692397   \n",
       "AOS                      0.698811         0.004638          0.404647   \n",
       "\n",
       "        _enterprise_value_to_ebitda  _enterprise_value_to_sales  \\\n",
       "ticker                                                            \n",
       "MMM                       53.762023                    3.098002   \n",
       "AOS                       57.884529                    2.285111   \n",
       "\n",
       "        _current_ratio  _quick_ratio  _cash_ratio  _days_of_sales_outstanding  \\\n",
       "ticker                                                                          \n",
       "MMM           1.824179      1.151772     0.525355                   56.133259   \n",
       "AOS           2.112919      1.611280     0.407993                   75.110708   \n",
       "\n",
       "        _days_of_sales_in_inventory  _days_of_payables_outstanding  \\\n",
       "ticker                                                               \n",
       "MMM                      227.651552                      45.956976   \n",
       "AOS                      304.615650                      98.021482   \n",
       "\n",
       "        _operating_cycle  _cash_conversion_cycle  \n",
       "ticker                                            \n",
       "MMM           144.690763               98.733787  \n",
       "AOS           137.487558               39.466077  "
      ]
     },
     "execution_count": 108,
     "metadata": {},
     "output_type": "execute_result"
    }
   ],
   "source": [
    "df.head(2)"
   ]
  },
  {
   "cell_type": "markdown",
   "id": "997dee22",
   "metadata": {},
   "source": [
    "----------------"
   ]
  },
  {
   "cell_type": "markdown",
   "id": "b2cdd2a4",
   "metadata": {},
   "source": [
    "**Add sectors and industries info to the dataset**"
   ]
  },
  {
   "cell_type": "code",
   "execution_count": 110,
   "id": "62343b95",
   "metadata": {},
   "outputs": [],
   "source": [
    "sectors_df, industries_df = utils.get_company_sectors_and_industries(df, dict_companies)"
   ]
  },
  {
   "cell_type": "code",
   "execution_count": 111,
   "id": "17d38f77",
   "metadata": {},
   "outputs": [],
   "source": [
    "if set(['sector','industry']).issubset(df.columns) == False:\n",
    "    df.insert(0, \"sector\", sectors_df.sector)\n",
    "    df.insert(1, \"industry\", industries_df.industry)"
   ]
  },
  {
   "cell_type": "markdown",
   "id": "4691b436",
   "metadata": {},
   "source": [
    "-------------------"
   ]
  },
  {
   "cell_type": "markdown",
   "id": "9ae90520",
   "metadata": {},
   "source": [
    "**Classify each ratio**"
   ]
  },
  {
   "cell_type": "code",
   "execution_count": 115,
   "id": "1d810052",
   "metadata": {},
   "outputs": [],
   "source": [
    "#Ratios for which 'the higher the value of the ratio, the better'\n",
    "high_ratios = ['_PAT_margin', '_EBITDA_margin', '_return_on_equity', '_return_on_assets', '_return_on_capital_employed',\n",
    "              '_gross_margin', '_operating_margin', '_operating_cash_flow_ratio', '_return_on_invested_capital',\n",
    "              '_return_on_sales', '_fixed_asset_turnover', '_working_capital_turnover', '_total_asset_turnover',\n",
    "              '_inventory_turnover', '_accounts_receivables_turnover', '_payables_turnover', '_interest_coverage',\n",
    "              '_current_ratio', '_quick_ratio', '_cash_ratio']"
   ]
  },
  {
   "cell_type": "code",
   "execution_count": 116,
   "id": "1de0b7e0",
   "metadata": {},
   "outputs": [
    {
     "data": {
      "text/plain": [
       "20"
      ]
     },
     "execution_count": 116,
     "metadata": {},
     "output_type": "execute_result"
    }
   ],
   "source": [
    "len(high_ratios)"
   ]
  },
  {
   "cell_type": "code",
   "execution_count": 117,
   "id": "8fb779e4",
   "metadata": {},
   "outputs": [],
   "source": [
    "#Ratios for which 'the lower the value of the ratio, the better'\n",
    "low_ratios = ['_days_of_inventory_on_hand', '_debt_to_assets', '_debt_to_equity', '_equity_multiplier',\n",
    "             '_total_debt_to_capital', '_net_debt_to_EBITDA', '_degree_financial_leverage',\n",
    "             '_price_to_earnings', '_price_to_book_value', '_price_to_sales', '_price_to_free_cash_flow', \n",
    "             '_price_earnings_to_growth', '_enterprise_value_to_ebitda', '_enterprise_value_to_sales',\n",
    "             '_days_of_sales_outstanding', '_days_of_sales_in_inventory', '_operating_cycle']"
   ]
  },
  {
   "cell_type": "code",
   "execution_count": 118,
   "id": "f429bdb8",
   "metadata": {},
   "outputs": [
    {
     "data": {
      "text/plain": [
       "17"
      ]
     },
     "execution_count": 118,
     "metadata": {},
     "output_type": "execute_result"
    }
   ],
   "source": [
    "len(low_ratios)"
   ]
  },
  {
   "cell_type": "markdown",
   "id": "5437d583",
   "metadata": {},
   "source": [
    "-------------------"
   ]
  },
  {
   "cell_type": "markdown",
   "id": "5b5a3569",
   "metadata": {},
   "source": [
    "**Define ranking functions**"
   ]
  },
  {
   "cell_type": "code",
   "execution_count": 120,
   "id": "6b5c0fa3",
   "metadata": {},
   "outputs": [],
   "source": [
    "def compute_ranking_by_ratio_and_ticker(df, high_ratios, low_ratios):\n",
    "    \n",
    "    ranking_dict_by_ratio = dict()\n",
    "    ranking_dict_by_ticker = {ticker:{} for ticker in df.index.to_list()}\n",
    "    for ratio in df.columns.to_list():\n",
    "        considered_ratio = False\n",
    "        \n",
    "        #rank function ranks from 1 to through n, so we can be sure that if any of the final ranking for any\n",
    "        #company is equal to 0, it will be because they didn't have any ratio\n",
    "        \n",
    "        if ratio in high_ratios:\n",
    "            ranking_dict_by_ratio[ratio]=dict(df[ratio].rank(ascending=False).sort_values())\n",
    "            considered_ratio = True\n",
    "        elif ratio in low_ratios:\n",
    "            ranking_dict_by_ratio[ratio]=dict(df[ratio].rank(ascending=True).sort_values())\n",
    "            considered_ratio = True\n",
    "        if considered_ratio:\n",
    "            for k in ranking_dict_by_ticker.keys():\n",
    "                if not np.isnan(ranking_dict_by_ratio[ratio].get(k, 0)):\n",
    "                    ranking_dict_by_ticker[k][ratio] = ranking_dict_by_ratio[ratio].get(k, 0)\n",
    "                    \n",
    "    return ranking_dict_by_ratio, ranking_dict_by_ticker"
   ]
  },
  {
   "cell_type": "code",
   "execution_count": 121,
   "id": "63f1cc1c",
   "metadata": {},
   "outputs": [],
   "source": [
    "def compute_ranking(df, high_ratios, low_ratios, sort_by_ranking = True, all_dict=False):\n",
    "    \n",
    "    ranking_dict_by_ratio, ranking_dict_by_ticker = compute_ranking_by_ratio_and_ticker(df, high_ratios, low_ratios)\n",
    "        \n",
    "    ranking_dict = dict()\n",
    "    for ticker in ranking_dict_by_ticker.keys():\n",
    "        \n",
    "        #For certain years of disp, some companies may not have any ratio. That is because by that time, these\n",
    "        #companies were not trading in the S&P 500 yet\n",
    "        if len(ranking_dict_by_ticker[ticker]) == 0:\n",
    "            ranking_dict[ticker] = 0\n",
    "        else:\n",
    "            ranking_dict[ticker] = sum(ranking_dict_by_ticker[ticker].values())/len(ranking_dict_by_ticker[ticker])\n",
    "        \n",
    "    '''\n",
    "    ranking = pd.DataFrame(ranking_dict.items(), columns=['ticker', 'ranking']).set_index('ticker')\n",
    "    \n",
    "    if sort_by_ranking:\n",
    "        ranking = ranking.sort_values('ranking', ascending=True)\n",
    "    \n",
    "    if all_dict:\n",
    "        return ranking_dict_by_ratio, ranking_dict_by_ticker, ranking\n",
    "    '''\n",
    "    \n",
    "    return ranking_dict  #if you uncomment the lines above, you would return ranking dataframe"
   ]
  },
  {
   "cell_type": "markdown",
   "id": "7c9ba816",
   "metadata": {},
   "source": [
    "----------"
   ]
  },
  {
   "cell_type": "markdown",
   "id": "458f23eb",
   "metadata": {},
   "source": [
    "**COMPUTE RANKINGS FOR EACH SECTOR**"
   ]
  },
  {
   "cell_type": "code",
   "execution_count": 123,
   "id": "3437c3b5",
   "metadata": {},
   "outputs": [],
   "source": [
    "sector_split_dict = {sector:df[df.sector==sector].drop(['sector', 'industry'], axis = 1) for sector in df.sector.unique()}"
   ]
  },
  {
   "cell_type": "code",
   "execution_count": 124,
   "id": "0f004acf",
   "metadata": {},
   "outputs": [],
   "source": [
    "rankings_by_sector = dict()\n",
    "for sector in sector_split_dict.keys():\n",
    "    rankings_by_sector[sector] = compute_ranking(sector_split_dict[sector], high_ratios, low_ratios, True, False)"
   ]
  },
  {
   "cell_type": "code",
   "execution_count": 127,
   "id": "80c0433e",
   "metadata": {},
   "outputs": [],
   "source": [
    "with open(f'models_outputs/ranking_output/X_year_disp/rankings_by_sector_Xyear.pickle', 'wb') as file:\n",
    "    pickle.dump(rankings_by_sector, file)"
   ]
  },
  {
   "cell_type": "markdown",
   "id": "d119014c",
   "metadata": {},
   "source": [
    "**Retrieve the saved dictionary**"
   ]
  },
  {
   "cell_type": "code",
   "execution_count": null,
   "id": "82915b4e",
   "metadata": {},
   "outputs": [],
   "source": [
    "rankings_by_sector_dict = dict()\n",
    "with open('models_outputs/ranking_output/X_year_disp/rankings_by_sector_Xyear.pickle','rb') as file:\n",
    "    raw_data = file.read()\n",
    "    rankings_by_sector_dict.update(pickle.loads(raw_data))"
   ]
  },
  {
   "cell_type": "code",
   "execution_count": null,
   "id": "6d8c8280",
   "metadata": {},
   "outputs": [],
   "source": [
    "rankings_by_sector = dict()\n",
    "for sector in rankings_by_sector_dict.keys():\n",
    "    rankings_by_sector[sector] = pd.DataFrame.from_dict(rankings_by_sector_dict[sector], orient='index', columns=['ranking'])"
   ]
  },
  {
   "cell_type": "code",
   "execution_count": null,
   "id": "28a56eac",
   "metadata": {},
   "outputs": [],
   "source": [
    "rankings_by_sector['Industrials']"
   ]
  }
 ],
 "metadata": {
  "kernelspec": {
   "display_name": "Python 3 (ipykernel)",
   "language": "python",
   "name": "python3"
  },
  "language_info": {
   "codemirror_mode": {
    "name": "ipython",
    "version": 3
   },
   "file_extension": ".py",
   "mimetype": "text/x-python",
   "name": "python",
   "nbconvert_exporter": "python",
   "pygments_lexer": "ipython3",
   "version": "3.9.7"
  }
 },
 "nbformat": 4,
 "nbformat_minor": 5
}
