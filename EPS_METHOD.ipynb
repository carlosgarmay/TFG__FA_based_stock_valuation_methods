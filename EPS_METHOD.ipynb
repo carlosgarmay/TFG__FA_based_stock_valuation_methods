{
 "cells": [
  {
   "cell_type": "markdown",
   "id": "8cb9f5ff",
   "metadata": {},
   "source": [
    "**Imports**"
   ]
  },
  {
   "cell_type": "code",
   "execution_count": 1,
   "id": "8f166183",
   "metadata": {},
   "outputs": [
    {
     "name": "stdout",
     "output_type": "stream",
     "text": [
      "importing Jupyter notebook from UTILS.ipynb\n"
     ]
    }
   ],
   "source": [
    "import pandas as pd\n",
    "import numpy as np\n",
    "import seaborn as sns\n",
    "import matplotlib.pyplot as plt\n",
    "from datetime import datetime\n",
    "import pickle\n",
    "import missingno as msno\n",
    "from scipy import stats\n",
    "from statistics import mean\n",
    "from collections import Counter, OrderedDict\n",
    "import import_ipynb\n",
    "import UTILS as utils\n",
    "\n",
    "import FundamentalAnalysis as fa"
   ]
  },
  {
   "cell_type": "code",
   "execution_count": 2,
   "id": "0e6f7acd",
   "metadata": {},
   "outputs": [],
   "source": [
    "pd.set_option(\"display.max_rows\", None, \"display.max_columns\", None)"
   ]
  },
  {
   "cell_type": "code",
   "execution_count": 3,
   "id": "52eac74f",
   "metadata": {},
   "outputs": [],
   "source": [
    "api_key = \"Here would go my personal API key\""
   ]
  },
  {
   "cell_type": "markdown",
   "id": "169df3ba",
   "metadata": {},
   "source": [
    "------------"
   ]
  },
  {
   "cell_type": "markdown",
   "id": "4adcf8ea",
   "metadata": {},
   "source": [
    "**Load data**"
   ]
  },
  {
   "cell_type": "markdown",
   "id": "2e7989f1",
   "metadata": {},
   "source": [
    "Files with data from year with displacement -X"
   ]
  },
  {
   "cell_type": "code",
   "execution_count": null,
   "id": "3fdf9e06",
   "metadata": {},
   "outputs": [],
   "source": [
    "file1 = 'DATA_ttm/S_P500_data_ttm_Xyeardisp/S_P500_dataframe_with_ratios_ttm_Xyeardisp.csv'\n",
    "file2 = 'DATA_ttm/S_P500_data_ttm_Xyeardisp/S_P500_companies_financials_data_ttm_Xyeardisp.pickle'"
   ]
  },
  {
   "cell_type": "code",
   "execution_count": null,
   "id": "18642db3",
   "metadata": {},
   "outputs": [],
   "source": [
    "data_loaded = utils.data_loading(file1, file2)"
   ]
  },
  {
   "cell_type": "code",
   "execution_count": null,
   "id": "15c5d9d2",
   "metadata": {},
   "outputs": [],
   "source": [
    "df = data_loaded[0]\n",
    "dict_companies = data_loaded[1]"
   ]
  },
  {
   "cell_type": "code",
   "execution_count": 92,
   "id": "18e3ff5e",
   "metadata": {},
   "outputs": [
    {
     "data": {
      "text/html": [
       "<div>\n",
       "<style scoped>\n",
       "    .dataframe tbody tr th:only-of-type {\n",
       "        vertical-align: middle;\n",
       "    }\n",
       "\n",
       "    .dataframe tbody tr th {\n",
       "        vertical-align: top;\n",
       "    }\n",
       "\n",
       "    .dataframe thead th {\n",
       "        text-align: right;\n",
       "    }\n",
       "</style>\n",
       "<table border=\"1\" class=\"dataframe\">\n",
       "  <thead>\n",
       "    <tr style=\"text-align: right;\">\n",
       "      <th></th>\n",
       "      <th>_PAT_margin</th>\n",
       "      <th>_EBITDA_margin</th>\n",
       "      <th>_return_on_equity</th>\n",
       "      <th>_return_on_assets</th>\n",
       "      <th>_return_on_capital_employed</th>\n",
       "      <th>_gross_margin</th>\n",
       "      <th>_operating_margin</th>\n",
       "      <th>_operating_cash_flow_ratio</th>\n",
       "      <th>_return_on_invested_capital</th>\n",
       "      <th>_return_on_sales</th>\n",
       "      <th>_fixed_asset_turnover</th>\n",
       "      <th>_working_capital_turnover</th>\n",
       "      <th>_total_asset_turnover</th>\n",
       "      <th>_inventory_turnover</th>\n",
       "      <th>_days_of_inventory_on_hand</th>\n",
       "      <th>_accounts_receivables_turnover</th>\n",
       "      <th>_payables_turnover</th>\n",
       "      <th>_debt_to_assets</th>\n",
       "      <th>_interest_coverage</th>\n",
       "      <th>_asset_to_equity</th>\n",
       "      <th>_debt_to_equity</th>\n",
       "      <th>_equity_multiplier</th>\n",
       "      <th>_total_debt_to_capitalization</th>\n",
       "      <th>_total_debt_to_capital</th>\n",
       "      <th>_net_debt_to_EBITDA</th>\n",
       "      <th>_degree_financial_leverage</th>\n",
       "      <th>_earnings_per_share</th>\n",
       "      <th>_book_value_per_share</th>\n",
       "      <th>_cash_earnings_per_share</th>\n",
       "      <th>_price_to_earnings</th>\n",
       "      <th>_price_to_book_value</th>\n",
       "      <th>_price_to_sales</th>\n",
       "      <th>_price_to_free_cash_flow</th>\n",
       "      <th>_price_earnings_to_growth</th>\n",
       "      <th>_dividend_yield</th>\n",
       "      <th>_dividend_payout</th>\n",
       "      <th>_enterprise_value_to_ebitda</th>\n",
       "      <th>_enterprise_value_to_sales</th>\n",
       "      <th>_current_ratio</th>\n",
       "      <th>_quick_ratio</th>\n",
       "      <th>_cash_ratio</th>\n",
       "      <th>_days_of_sales_outstanding</th>\n",
       "      <th>_days_of_sales_in_inventory</th>\n",
       "      <th>_days_of_payables_outstanding</th>\n",
       "      <th>_operating_cycle</th>\n",
       "      <th>_cash_conversion_cycle</th>\n",
       "    </tr>\n",
       "    <tr>\n",
       "      <th>ticker</th>\n",
       "      <th></th>\n",
       "      <th></th>\n",
       "      <th></th>\n",
       "      <th></th>\n",
       "      <th></th>\n",
       "      <th></th>\n",
       "      <th></th>\n",
       "      <th></th>\n",
       "      <th></th>\n",
       "      <th></th>\n",
       "      <th></th>\n",
       "      <th></th>\n",
       "      <th></th>\n",
       "      <th></th>\n",
       "      <th></th>\n",
       "      <th></th>\n",
       "      <th></th>\n",
       "      <th></th>\n",
       "      <th></th>\n",
       "      <th></th>\n",
       "      <th></th>\n",
       "      <th></th>\n",
       "      <th></th>\n",
       "      <th></th>\n",
       "      <th></th>\n",
       "      <th></th>\n",
       "      <th></th>\n",
       "      <th></th>\n",
       "      <th></th>\n",
       "      <th></th>\n",
       "      <th></th>\n",
       "      <th></th>\n",
       "      <th></th>\n",
       "      <th></th>\n",
       "      <th></th>\n",
       "      <th></th>\n",
       "      <th></th>\n",
       "      <th></th>\n",
       "      <th></th>\n",
       "      <th></th>\n",
       "      <th></th>\n",
       "      <th></th>\n",
       "      <th></th>\n",
       "      <th></th>\n",
       "      <th></th>\n",
       "      <th></th>\n",
       "    </tr>\n",
       "  </thead>\n",
       "  <tbody>\n",
       "    <tr>\n",
       "      <th>MMM</th>\n",
       "      <td>0.167402</td>\n",
       "      <td>0.271661</td>\n",
       "      <td>0.102917</td>\n",
       "      <td>0.031030</td>\n",
       "      <td>0.047709</td>\n",
       "      <td>0.468315</td>\n",
       "      <td>0.208277</td>\n",
       "      <td>2.300579</td>\n",
       "      <td>0.047709</td>\n",
       "      <td>0.208277</td>\n",
       "      <td>0.866823</td>\n",
       "      <td>5.229256</td>\n",
       "      <td>0.185262</td>\n",
       "      <td>0.978114</td>\n",
       "      <td>92.077553</td>\n",
       "      <td>1.813772</td>\n",
       "      <td>1.642398</td>\n",
       "      <td>0.696076</td>\n",
       "      <td>15.093071</td>\n",
       "      <td>3.294063</td>\n",
       "      <td>1.176688</td>\n",
       "      <td>3.309888</td>\n",
       "      <td>0.566805</td>\n",
       "      <td>0.566805</td>\n",
       "      <td>5.917859</td>\n",
       "      <td>2.226105</td>\n",
       "      <td>2.555000</td>\n",
       "      <td>24.922730</td>\n",
       "      <td>3.219128</td>\n",
       "      <td>18.235344</td>\n",
       "      <td>7.483685</td>\n",
       "      <td>12.189879</td>\n",
       "      <td>73.837823</td>\n",
       "      <td>-2.09291</td>\n",
       "      <td>0.007957</td>\n",
       "      <td>0.580389</td>\n",
       "      <td>50.806934</td>\n",
       "      <td>3.449114</td>\n",
       "      <td>1.743940</td>\n",
       "      <td>1.115540</td>\n",
       "      <td>0.515781</td>\n",
       "      <td>49.624411</td>\n",
       "      <td>201.254556</td>\n",
       "      <td>54.859324</td>\n",
       "      <td>141.701964</td>\n",
       "      <td>86.842640</td>\n",
       "    </tr>\n",
       "    <tr>\n",
       "      <th>AOS</th>\n",
       "      <td>0.137160</td>\n",
       "      <td>0.199539</td>\n",
       "      <td>0.065875</td>\n",
       "      <td>0.037287</td>\n",
       "      <td>0.066318</td>\n",
       "      <td>0.370851</td>\n",
       "      <td>0.171587</td>\n",
       "      <td>21.825725</td>\n",
       "      <td>0.066318</td>\n",
       "      <td>0.171587</td>\n",
       "      <td>1.483506</td>\n",
       "      <td>5.073510</td>\n",
       "      <td>0.271250</td>\n",
       "      <td>1.547255</td>\n",
       "      <td>58.337771</td>\n",
       "      <td>1.472644</td>\n",
       "      <td>0.873009</td>\n",
       "      <td>0.431103</td>\n",
       "      <td>143.894444</td>\n",
       "      <td>1.761376</td>\n",
       "      <td>0.082905</td>\n",
       "      <td>1.761376</td>\n",
       "      <td>0.079406</td>\n",
       "      <td>0.079406</td>\n",
       "      <td>-1.930628</td>\n",
       "      <td>1.033130</td>\n",
       "      <td>0.757969</td>\n",
       "      <td>11.493758</td>\n",
       "      <td>1.000958</td>\n",
       "      <td>23.926370</td>\n",
       "      <td>6.235913</td>\n",
       "      <td>13.052287</td>\n",
       "      <td>98.040415</td>\n",
       "      <td>1.01074</td>\n",
       "      <td>0.003732</td>\n",
       "      <td>0.355069</td>\n",
       "      <td>63.643361</td>\n",
       "      <td>3.159238</td>\n",
       "      <td>1.736831</td>\n",
       "      <td>1.302403</td>\n",
       "      <td>0.518312</td>\n",
       "      <td>61.207901</td>\n",
       "      <td>248.232043</td>\n",
       "      <td>103.114310</td>\n",
       "      <td>119.545672</td>\n",
       "      <td>16.431362</td>\n",
       "    </tr>\n",
       "  </tbody>\n",
       "</table>\n",
       "</div>"
      ],
      "text/plain": [
       "        _PAT_margin  _EBITDA_margin  _return_on_equity  _return_on_assets  \\\n",
       "ticker                                                                      \n",
       "MMM        0.167402        0.271661           0.102917           0.031030   \n",
       "AOS        0.137160        0.199539           0.065875           0.037287   \n",
       "\n",
       "        _return_on_capital_employed  _gross_margin  _operating_margin  \\\n",
       "ticker                                                                  \n",
       "MMM                        0.047709       0.468315           0.208277   \n",
       "AOS                        0.066318       0.370851           0.171587   \n",
       "\n",
       "        _operating_cash_flow_ratio  _return_on_invested_capital  \\\n",
       "ticker                                                            \n",
       "MMM                       2.300579                     0.047709   \n",
       "AOS                      21.825725                     0.066318   \n",
       "\n",
       "        _return_on_sales  _fixed_asset_turnover  _working_capital_turnover  \\\n",
       "ticker                                                                       \n",
       "MMM             0.208277               0.866823                   5.229256   \n",
       "AOS             0.171587               1.483506                   5.073510   \n",
       "\n",
       "        _total_asset_turnover  _inventory_turnover  \\\n",
       "ticker                                               \n",
       "MMM                  0.185262             0.978114   \n",
       "AOS                  0.271250             1.547255   \n",
       "\n",
       "        _days_of_inventory_on_hand  _accounts_receivables_turnover  \\\n",
       "ticker                                                               \n",
       "MMM                      92.077553                        1.813772   \n",
       "AOS                      58.337771                        1.472644   \n",
       "\n",
       "        _payables_turnover  _debt_to_assets  _interest_coverage  \\\n",
       "ticker                                                            \n",
       "MMM               1.642398         0.696076           15.093071   \n",
       "AOS               0.873009         0.431103          143.894444   \n",
       "\n",
       "        _asset_to_equity  _debt_to_equity  _equity_multiplier  \\\n",
       "ticker                                                          \n",
       "MMM             3.294063         1.176688            3.309888   \n",
       "AOS             1.761376         0.082905            1.761376   \n",
       "\n",
       "        _total_debt_to_capitalization  _total_debt_to_capital  \\\n",
       "ticker                                                          \n",
       "MMM                          0.566805                0.566805   \n",
       "AOS                          0.079406                0.079406   \n",
       "\n",
       "        _net_debt_to_EBITDA  _degree_financial_leverage  _earnings_per_share  \\\n",
       "ticker                                                                         \n",
       "MMM                5.917859                    2.226105             2.555000   \n",
       "AOS               -1.930628                    1.033130             0.757969   \n",
       "\n",
       "        _book_value_per_share  _cash_earnings_per_share  _price_to_earnings  \\\n",
       "ticker                                                                        \n",
       "MMM                 24.922730                  3.219128           18.235344   \n",
       "AOS                 11.493758                  1.000958           23.926370   \n",
       "\n",
       "        _price_to_book_value  _price_to_sales  _price_to_free_cash_flow  \\\n",
       "ticker                                                                    \n",
       "MMM                 7.483685        12.189879                 73.837823   \n",
       "AOS                 6.235913        13.052287                 98.040415   \n",
       "\n",
       "        _price_earnings_to_growth  _dividend_yield  _dividend_payout  \\\n",
       "ticker                                                                 \n",
       "MMM                      -2.09291         0.007957          0.580389   \n",
       "AOS                       1.01074         0.003732          0.355069   \n",
       "\n",
       "        _enterprise_value_to_ebitda  _enterprise_value_to_sales  \\\n",
       "ticker                                                            \n",
       "MMM                       50.806934                    3.449114   \n",
       "AOS                       63.643361                    3.159238   \n",
       "\n",
       "        _current_ratio  _quick_ratio  _cash_ratio  _days_of_sales_outstanding  \\\n",
       "ticker                                                                          \n",
       "MMM           1.743940      1.115540     0.515781                   49.624411   \n",
       "AOS           1.736831      1.302403     0.518312                   61.207901   \n",
       "\n",
       "        _days_of_sales_in_inventory  _days_of_payables_outstanding  \\\n",
       "ticker                                                               \n",
       "MMM                      201.254556                      54.859324   \n",
       "AOS                      248.232043                     103.114310   \n",
       "\n",
       "        _operating_cycle  _cash_conversion_cycle  \n",
       "ticker                                            \n",
       "MMM           141.701964               86.842640  \n",
       "AOS           119.545672               16.431362  "
      ]
     },
     "execution_count": 92,
     "metadata": {},
     "output_type": "execute_result"
    }
   ],
   "source": [
    "df.head(2)"
   ]
  },
  {
   "cell_type": "markdown",
   "id": "997dee22",
   "metadata": {},
   "source": [
    "----------------"
   ]
  },
  {
   "cell_type": "markdown",
   "id": "b2cdd2a4",
   "metadata": {},
   "source": [
    "**Add sectors and industries information to the dataset**"
   ]
  },
  {
   "cell_type": "code",
   "execution_count": 93,
   "id": "62343b95",
   "metadata": {},
   "outputs": [],
   "source": [
    "sectors_df, industries_df = utils.get_company_sectors_and_industries(df, dict_companies)"
   ]
  },
  {
   "cell_type": "code",
   "execution_count": 94,
   "id": "17d38f77",
   "metadata": {},
   "outputs": [],
   "source": [
    "if set(['sector','industry']).issubset(df.columns) == False:\n",
    "    df.insert(0, \"sector\", sectors_df.sector)\n",
    "    df.insert(1, \"industry\", industries_df.industry)"
   ]
  },
  {
   "cell_type": "markdown",
   "id": "4691b436",
   "metadata": {},
   "source": [
    "-------------------"
   ]
  },
  {
   "cell_type": "markdown",
   "id": "64bad208",
   "metadata": {},
   "source": [
    "**Compute intrinsic value**"
   ]
  },
  {
   "cell_type": "markdown",
   "id": "192d9188",
   "metadata": {},
   "source": [
    "Intrinsic Value = Earnings Per Share (EPS) * (1 + r) * P/E Ratio"
   ]
  },
  {
   "cell_type": "code",
   "execution_count": 11,
   "id": "e1003e47",
   "metadata": {},
   "outputs": [],
   "source": [
    "def compute_expected_earnings_growth_rate(ticker, disp):\n",
    "    \n",
    "    #Get price/earnings to growth  (we have to add a dropna because some stocks like HWM could contain None at some year)\n",
    "    peg = fa.financial_ratios(ticker, api_key, period=\"annual\").iloc[: , disp-1:].loc['priceEarningsToGrowthRatio'].dropna()\n",
    "    \n",
    "    #Remove outliers, since in some recesion years like 2019, the growth has fluctuated a lot and afects much to the mean\n",
    "    #We'll use z-score with a threshold of 1 (being conservative)\n",
    "    \n",
    "    z = np.abs(stats.zscore(pd.Series(peg.values.astype(float))))\n",
    "    threshold = 1\n",
    "    clear_peg_avg = np.delete(peg.values, np.where(z > threshold)[0].tolist()).mean()\n",
    "    \n",
    "    return clear_peg_avg"
   ]
  },
  {
   "cell_type": "code",
   "execution_count": 12,
   "id": "53c14796",
   "metadata": {},
   "outputs": [],
   "source": [
    "def compute_price_to_earnings_intrinsic_value(df, dict_companies, ticker, year_disp=0):\n",
    "\n",
    "    earnings_growth_rate = compute_expected_earnings_growth_rate(ticker, year_disp)\n",
    "    \n",
    "    #We now need the trailing (12 months) eps\n",
    "    \n",
    "    income_statement = dict_companies[ticker]['_Company__income_statement']\n",
    "    #Here we add skipna=False because if the company has at least one quarter of eps without value,\n",
    "    #then we don't want the sum to give a valid result\n",
    "    eps_trailing = income_statement.loc['eps'][4*year_disp:4+(4*year_disp)].sum(skipna=False)\n",
    "    \n",
    "    current_pe = df['_price_to_earnings'][ticker]\n",
    "    \n",
    "    intrinsic_value = eps_trailing * (1+earnings_growth_rate) * current_pe\n",
    "    \n",
    "    try:\n",
    "        date = income_statement.columns[4*year_disp]\n",
    "    except:\n",
    "        return \"Error. No data for this ticker\"\n",
    "    \n",
    "    return intrinsic_value, date"
   ]
  },
  {
   "cell_type": "code",
   "execution_count": 13,
   "id": "4d48f6b8",
   "metadata": {},
   "outputs": [],
   "source": [
    "def stock_price_intrinsic_value_comparator(dict_companies, ticker, intrinsic_value, date):\n",
    "    \n",
    "    stock_data = fa.stock_data(ticker, interval=\"1d\")\n",
    "    stock_data.index = pd.to_datetime(stock_data.index)\n",
    "    \n",
    "    format_date = pd.to_datetime(date+'-01')\n",
    "    stock_price = stock_data.iloc[stock_data.index.get_loc(format_date, method='nearest')].close\n",
    "        \n",
    "    if stock_price == 0:\n",
    "        pr_intrinsic_price = 0\n",
    "    else:\n",
    "        pr_intrinsic_price = intrinsic_value/stock_price\n",
    "    \n",
    "    return pr_intrinsic_price"
   ]
  },
  {
   "cell_type": "code",
   "execution_count": null,
   "id": "aec41ee1",
   "metadata": {},
   "outputs": [],
   "source": [
    "peint_by_sector = dict()\n",
    "sectors = utils.get_sectors_and_industries(df, dict_companies)[0]\n",
    "for sector in sectors:\n",
    "    sector_df = utils.get_sector_companies(df, dict_companies, sector)\n",
    "    peint_by_sector[sector] = dict()\n",
    "    for ticker in sector_df.index:\n",
    "        intrinsic = compute_price_to_earnings_intrinsic_value(df, dict_companies, ticker, year_disp=(X years of disp))\n",
    "        if intrinsic == \"Error. No data for this ticker\":\n",
    "            peint_by_sector[sector][ticker] = [np.nan]\n",
    "            peint_by_sector[sector][ticker].append(np.nan)\n",
    "        else:\n",
    "            peint_by_sector[sector][ticker] = [intrinsic[0]]\n",
    "            peint_by_sector[sector][ticker].append(stock_price_intrinsic_value_comparator(dict_companies, ticker, intrinsic[0], intrinsic[1]))"
   ]
  },
  {
   "cell_type": "code",
   "execution_count": null,
   "id": "5b0ec203",
   "metadata": {},
   "outputs": [],
   "source": [
    "peint_by_sector.keys()"
   ]
  },
  {
   "cell_type": "code",
   "execution_count": 101,
   "id": "a302133b",
   "metadata": {},
   "outputs": [],
   "source": [
    "with open(f'models_outputs/EPS_output/X_year_disp/peint_by_sector_Xyear.pickle', 'wb') as file:\n",
    "    pickle.dump(peint_by_sector, file)"
   ]
  },
  {
   "cell_type": "markdown",
   "id": "07f6d372",
   "metadata": {},
   "source": [
    "**Retrieve the saved dictionary**"
   ]
  },
  {
   "cell_type": "code",
   "execution_count": null,
   "id": "1464e419",
   "metadata": {},
   "outputs": [],
   "source": [
    "peint_by_sector_dict = dict()\n",
    "with open('models_outputs/EPS_output/X_year_disp/peint_by_sector_Xyear.pickle','rb') as file:\n",
    "    raw_data = file.read()\n",
    "    peint_by_sector_dict.update(pickle.loads(raw_data))"
   ]
  },
  {
   "cell_type": "code",
   "execution_count": null,
   "id": "fd276d28",
   "metadata": {},
   "outputs": [],
   "source": [
    "peint_by_sector = dict()\n",
    "for sector in peint_by_sector_dict.keys():\n",
    "    peint_by_sector[sector] = pd.DataFrame.from_dict(peint_by_sector_dict[sector], orient='index', columns=['intrinsic_value', 'intrval_vs_currentprice'])"
   ]
  },
  {
   "cell_type": "code",
   "execution_count": null,
   "id": "3069da56",
   "metadata": {},
   "outputs": [],
   "source": [
    "peint_by_sector['Industrials']"
   ]
  }
 ],
 "metadata": {
  "kernelspec": {
   "display_name": "Python 3 (ipykernel)",
   "language": "python",
   "name": "python3"
  },
  "language_info": {
   "codemirror_mode": {
    "name": "ipython",
    "version": 3
   },
   "file_extension": ".py",
   "mimetype": "text/x-python",
   "name": "python",
   "nbconvert_exporter": "python",
   "pygments_lexer": "ipython3",
   "version": "3.9.7"
  }
 },
 "nbformat": 4,
 "nbformat_minor": 5
}
