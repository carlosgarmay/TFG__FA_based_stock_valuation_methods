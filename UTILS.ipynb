{
 "cells": [
  {
   "cell_type": "markdown",
   "id": "89a2ac66",
   "metadata": {},
   "source": [
    "**Imports**"
   ]
  },
  {
   "cell_type": "code",
   "execution_count": null,
   "id": "59e6caf4",
   "metadata": {},
   "outputs": [],
   "source": [
    "import pandas as pd\n",
    "import pickle"
   ]
  },
  {
   "cell_type": "markdown",
   "id": "9cb79aa0",
   "metadata": {},
   "source": [
    "**Useful Functions**"
   ]
  },
  {
   "cell_type": "code",
   "execution_count": null,
   "id": "7e0d7392",
   "metadata": {},
   "outputs": [],
   "source": [
    "def ratios_data_processing(file_name):\n",
    "    try:\n",
    "        df = pd.read_csv(filepath_or_buffer=file_name, index_col=0)\n",
    "        if 'ticker' in df.columns:\n",
    "            df.set_index('ticker', inplace=True)\n",
    "        df.drop('ttm', inplace=True, axis=1)\n",
    "        prefix = '_'\n",
    "        df = df.add_prefix(prefix)\n",
    "        return df\n",
    "    except:\n",
    "        print('An error ocurred. Check the file name or its path')\n",
    "        return 0"
   ]
  },
  {
   "cell_type": "code",
   "execution_count": null,
   "id": "72d5d989",
   "metadata": {},
   "outputs": [],
   "source": [
    "def companies_data_processing(file_name):\n",
    "    try:\n",
    "        with open(file_name,'rb') as file:\n",
    "            raw_data = file.read()\n",
    "            dict_companies = pickle.loads(raw_data)\n",
    "        return dict_companies\n",
    "    except:\n",
    "        print('An error ocurred. Check the file name or its path')\n",
    "        return 0"
   ]
  },
  {
   "cell_type": "code",
   "execution_count": null,
   "id": "b296934e",
   "metadata": {},
   "outputs": [],
   "source": [
    "#Load the csv and pickle files\n",
    "\n",
    "def data_loading(*file_names):\n",
    "    \n",
    "    loaded_data = []\n",
    "    for name in file_names:\n",
    "        if name[-3:] == 'csv':\n",
    "            loaded_data.append(ratios_data_processing(name))\n",
    "        elif name[-6:] == 'pickle':\n",
    "            loaded_data.append(companies_data_processing(name))\n",
    "        else:\n",
    "            continue\n",
    "    \n",
    "    return loaded_data"
   ]
  },
  {
   "cell_type": "code",
   "execution_count": null,
   "id": "9ef9990b",
   "metadata": {},
   "outputs": [],
   "source": [
    "#Get sector and industry for each ticker\n",
    "\n",
    "def get_company_sectors_and_industries(df, dict_companies):\n",
    "    sector_dict = dict()\n",
    "    industry_dict = dict()\n",
    "    for ticker in df.index:\n",
    "        company_profile = dict_companies[ticker]['_Company__profile']\n",
    "        sector_dict[ticker] = company_profile.loc['sector', 0]\n",
    "        industry_dict[ticker] = company_profile.loc['industry', 0]\n",
    "\n",
    "    #Convert the dictionaries to dataframe to ease the analysis\n",
    "    sectors_df = pd.DataFrame(list(sector_dict.items()), columns=['ticker', 'sector']).set_index('ticker')\n",
    "    industries_df = pd.DataFrame(list(industry_dict.items()), columns=['ticker', 'industry']).set_index('ticker')\n",
    "    \n",
    "    return sectors_df, industries_df"
   ]
  },
  {
   "cell_type": "code",
   "execution_count": null,
   "id": "28e33257",
   "metadata": {},
   "outputs": [],
   "source": [
    "def get_sectors_and_industries(df, dict_companies):\n",
    "    sectors_df, industries_df = get_company_sectors_and_industries(df, dict_companies)\n",
    "    \n",
    "    sectors = list(sectors_df.sector.unique())\n",
    "    industries = list(industries_df.industry.unique())\n",
    "\n",
    "    return sectors, industries"
   ]
  },
  {
   "cell_type": "code",
   "execution_count": null,
   "id": "4907ce1f",
   "metadata": {},
   "outputs": [],
   "source": [
    "#Get only ratios of companies that belong to the specified sector\n",
    "\n",
    "def get_sector_companies(df, dict_companies, sector):\n",
    "    sectors_df, industries_df = get_company_sectors_and_industries(df, dict_companies)\n",
    "    sector_df = df.loc[list(sectors_df.loc[sectors_df.sector == sector].index)]\n",
    "    \n",
    "    return sector_df"
   ]
  }
 ],
 "metadata": {
  "kernelspec": {
   "display_name": "Python 3 (ipykernel)",
   "language": "python",
   "name": "python3"
  },
  "language_info": {
   "codemirror_mode": {
    "name": "ipython",
    "version": 3
   },
   "file_extension": ".py",
   "mimetype": "text/x-python",
   "name": "python",
   "nbconvert_exporter": "python",
   "pygments_lexer": "ipython3",
   "version": "3.9.7"
  }
 },
 "nbformat": 4,
 "nbformat_minor": 5
}
