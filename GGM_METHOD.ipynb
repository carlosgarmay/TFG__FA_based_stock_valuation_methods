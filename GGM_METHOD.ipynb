{
 "cells": [
  {
   "cell_type": "markdown",
   "id": "8cb9f5ff",
   "metadata": {},
   "source": [
    "**Imports**"
   ]
  },
  {
   "cell_type": "code",
   "execution_count": 195,
   "id": "8f166183",
   "metadata": {},
   "outputs": [],
   "source": [
    "import pandas as pd\n",
    "import numpy as np\n",
    "import seaborn as sns\n",
    "import matplotlib.pyplot as plt\n",
    "from datetime import datetime\n",
    "import pickle\n",
    "import missingno as msno\n",
    "from scipy import stats\n",
    "from datetime import date\n",
    "from statistics import mean\n",
    "from collections import Counter, OrderedDict\n",
    "import import_ipynb\n",
    "import UTILS as utils\n",
    "from time import sleep\n",
    "\n",
    "import FundamentalAnalysis as fa"
   ]
  },
  {
   "cell_type": "code",
   "execution_count": 2,
   "id": "0e6f7acd",
   "metadata": {},
   "outputs": [],
   "source": [
    "pd.set_option(\"display.max_rows\", None, \"display.max_columns\", None)"
   ]
  },
  {
   "cell_type": "code",
   "execution_count": 3,
   "id": "52eac74f",
   "metadata": {},
   "outputs": [],
   "source": [
    "api_key = \"Here would go my personal API key\""
   ]
  },
  {
   "cell_type": "markdown",
   "id": "169df3ba",
   "metadata": {},
   "source": [
    "------------"
   ]
  },
  {
   "cell_type": "markdown",
   "id": "4adcf8ea",
   "metadata": {},
   "source": [
    "**Load data**"
   ]
  },
  {
   "cell_type": "markdown",
   "id": "6c22fd15",
   "metadata": {},
   "source": [
    "*Files with data from year with displacement -X*"
   ]
  },
  {
   "cell_type": "code",
   "execution_count": null,
   "id": "1b734a97",
   "metadata": {},
   "outputs": [],
   "source": [
    "file1 = 'DATA_ttm/S_P500_data_ttm_Xyeardisp/S_P500_dataframe_with_ratios_ttm_Xyeardisp.csv'\n",
    "file2 = 'DATA_ttm/S_P500_data_ttm_Xyeardisp/S_P500_companies_financials_data_ttm_Xyeardisp.pickle'"
   ]
  },
  {
   "cell_type": "code",
   "execution_count": 275,
   "id": "01d2a006",
   "metadata": {},
   "outputs": [],
   "source": [
    "data_loaded = utils.data_loading(file1, file2)"
   ]
  },
  {
   "cell_type": "code",
   "execution_count": 276,
   "id": "9592d85c",
   "metadata": {},
   "outputs": [],
   "source": [
    "df = data_loaded[0]\n",
    "dict_companies = data_loaded[1]"
   ]
  },
  {
   "cell_type": "code",
   "execution_count": null,
   "id": "b8cc7d4d",
   "metadata": {},
   "outputs": [],
   "source": [
    "df.head(2)"
   ]
  },
  {
   "cell_type": "markdown",
   "id": "3b316e22",
   "metadata": {},
   "source": [
    "---------"
   ]
  },
  {
   "cell_type": "markdown",
   "id": "b2cdd2a4",
   "metadata": {},
   "source": [
    "**Add sectors and industries info to the dataset**"
   ]
  },
  {
   "cell_type": "code",
   "execution_count": 277,
   "id": "62343b95",
   "metadata": {},
   "outputs": [],
   "source": [
    "sectors_df, industries_df = utils.get_company_sectors_and_industries(df, dict_companies)"
   ]
  },
  {
   "cell_type": "code",
   "execution_count": 278,
   "id": "17d38f77",
   "metadata": {},
   "outputs": [],
   "source": [
    "if set(['sector','industry']).issubset(df.columns) == False:\n",
    "    df.insert(0, \"sector\", sectors_df.sector)\n",
    "    df.insert(1, \"industry\", industries_df.industry)"
   ]
  },
  {
   "cell_type": "markdown",
   "id": "4691b436",
   "metadata": {},
   "source": [
    "-------------------"
   ]
  },
  {
   "cell_type": "markdown",
   "id": "c021e33c",
   "metadata": {},
   "source": [
    "**Compute the intrinsic value**"
   ]
  },
  {
   "cell_type": "markdown",
   "id": "aa7d2ab6",
   "metadata": {},
   "source": [
    "For GGM:\n",
    "<br>\n",
    "<br>\n",
    "**Intrinsic Value = EDPS / (CCE-DGR)** <br>\n",
    "where:<br>\n",
    "EDPS = Expected Dividend per Share for the next year = Dividends * (1 + DGR)<br>\n",
    "CCE = Cost of Capital Equity<br>\n",
    "DGR = Dividend Growth Rate"
   ]
  },
  {
   "cell_type": "code",
   "execution_count": 133,
   "id": "03e13106",
   "metadata": {},
   "outputs": [],
   "source": [
    "def compute_cost_of_equity(ticker, dict_companies, average_market_return, date):\n",
    "    \n",
    "    #Using the CAPM model\n",
    "\n",
    "    ten_year_bond_rate = pd.read_csv(filepath_or_buffer='10-year-treasury-bond-rate-yield-chart.csv', index_col=0)\n",
    "    risk_free_rate = ten_year_bond_rate.loc[ten_year_bond_rate.index.str.contains(date)].iloc[0].value / 100\n",
    "\n",
    "    beta = dict_companies[ticker]['_Company__profile'].loc['beta'][0]\n",
    "\n",
    "    #We'll take the average return of the market from the average return of S&P500 which is 10,5% but being conservative, we'll leave it at 10%\n",
    "    average_market_return = 0.1\n",
    "\n",
    "    cost_of_equity = risk_free_rate+beta*(average_market_return-risk_free_rate)\n",
    "    \n",
    "    return cost_of_equity"
   ]
  },
  {
   "cell_type": "code",
   "execution_count": 134,
   "id": "a068b77d",
   "metadata": {},
   "outputs": [],
   "source": [
    "def compute_dividend_growth_rate(ticker, dict_companies, disp):\n",
    "\n",
    "    key_metrics = dict_companies[ticker]['_Company__key_metrics']\n",
    "    dividend_growth_rate = key_metrics.loc['roe', key_metrics.columns[4*disp:4+(4*disp)]].sum() * (1-key_metrics.loc['payoutRatio', key_metrics.columns[4*disp:4+(4*disp)]].mean())\n",
    "    \n",
    "    return dividend_growth_rate"
   ]
  },
  {
   "cell_type": "code",
   "execution_count": 135,
   "id": "d70d4164",
   "metadata": {},
   "outputs": [],
   "source": [
    "def compute_dividend_per_share(ticker, dict_companies, dividend_growth_rate, date):\n",
    "\n",
    "    #Get dividends of the last year\n",
    "    #Note: We'll take ttm dividends paid until the date in our key_metrics data\n",
    "        \n",
    "    dividends = dict_companies[ticker]['_Company__dividends']\n",
    "    if isinstance(dividends, pd.DataFrame):\n",
    "        dividends.index = pd.to_datetime(dividends.index, format='%Y-%m-%d')\n",
    "        format_date = pd.to_datetime(date+'-01') \n",
    "        comparing_dates_arr = dividends.index < format_date\n",
    "        if not any(list(comparing_dates_arr)):\n",
    "            dividend_per_share = 0\n",
    "            return dividend_per_share\n",
    "        dividends_last_year = dividends.loc[dividends.index.year \n",
    "                                            == dividends.iloc[[np.where(comparing_dates_arr==True)[0][0]]].index.year[0]].dividend.sum()\n",
    "        dividend_per_share = dividends_last_year * (1 + dividend_growth_rate)\n",
    "    else:\n",
    "        dividend_per_share = 0\n",
    "\n",
    "    return dividend_per_share"
   ]
  },
  {
   "cell_type": "code",
   "execution_count": 136,
   "id": "d708a867",
   "metadata": {},
   "outputs": [],
   "source": [
    "def compute_intrinsic_value_ggm(ticker, dict_companies, average_market_return=0.1, year_disp=0):\n",
    "    \n",
    "    try:\n",
    "        key_metrics = dict_companies[ticker]['_Company__key_metrics']\n",
    "        date = key_metrics.columns[4*year_disp]\n",
    "        check_all_quarters = key_metrics.columns[4*year_disp:4+(4*year_disp)]\n",
    "    except:\n",
    "        return \"Error. No data for this ticker\"\n",
    "    \n",
    "    cost_of_equity = compute_cost_of_equity(ticker, dict_companies, average_market_return, date)\n",
    "    dividend_growth_rate = compute_dividend_growth_rate(ticker, dict_companies, year_disp)\n",
    "    dividend_per_share = compute_dividend_per_share(ticker, dict_companies, dividend_growth_rate, date)\n",
    "    \n",
    "    intrinsic_value = dividend_per_share / (cost_of_equity - dividend_growth_rate)\n",
    "    \n",
    "    return intrinsic_value, date"
   ]
  },
  {
   "cell_type": "code",
   "execution_count": 137,
   "id": "47cf151f",
   "metadata": {},
   "outputs": [],
   "source": [
    "def stock_price_intrinsic_value_comparator(dict_companies, ticker, intrinsic_value, date):\n",
    "    \n",
    "    stock_data = fa.stock_data(ticker, interval=\"1d\")\n",
    "    stock_data.index = pd.to_datetime(stock_data.index)\n",
    "    \n",
    "    format_date = pd.to_datetime(date+'-01')\n",
    "    stock_price = stock_data.iloc[stock_data.index.get_loc(format_date, method='nearest')].close\n",
    "    \n",
    "    if stock_price == 0:\n",
    "        pr_intrinsic_price = 0\n",
    "    else:\n",
    "        pr_intrinsic_price = intrinsic_value/stock_price \n",
    "    \n",
    "    return pr_intrinsic_price"
   ]
  },
  {
   "cell_type": "code",
   "execution_count": null,
   "id": "cbbe4eac",
   "metadata": {},
   "outputs": [],
   "source": [
    "ggm_by_sector = dict()\n",
    "sectors = utils.get_sectors_and_industries(df, dict_companies)[0]\n",
    "for sector in sectors:\n",
    "    sector_df = utils.get_sector_companies(df, dict_companies, sector)\n",
    "    ggm_by_sector[sector] = dict()\n",
    "    for ticker in sector_df.index:\n",
    "        #We'll take the average return of the market from the average return of S&P500 which is 10,5% but being conservative, we'll leave it at 10%\n",
    "        intrinsic = compute_intrinsic_value_ggm(ticker, dict_companies, average_market_return=0.1, year_disp=(X years of disp))\n",
    "        if intrinsic == \"Error. No data for this ticker\":\n",
    "            ggm_by_sector[sector][ticker] = [np.nan]\n",
    "            ggm_by_sector[sector][ticker].append(np.nan)\n",
    "        else:\n",
    "            ggm_by_sector[sector][ticker] = [intrinsic[0]]\n",
    "            ggm_by_sector[sector][ticker].append(stock_price_intrinsic_value_comparator(dict_companies, ticker, intrinsic[0], intrinsic[1]))"
   ]
  },
  {
   "cell_type": "code",
   "execution_count": null,
   "id": "0f9c0272",
   "metadata": {},
   "outputs": [],
   "source": [
    "ggm_by_sector.keys()"
   ]
  },
  {
   "cell_type": "code",
   "execution_count": null,
   "id": "0c811b5f",
   "metadata": {},
   "outputs": [],
   "source": [
    "#Save dictionary\n",
    "with open(f'models_outputs/GGM_output/X_year_disp/ggm_by_sector_Xyear.pickle', 'wb') as file:\n",
    "    pickle.dump(ggm_by_sector, file)"
   ]
  },
  {
   "cell_type": "markdown",
   "id": "5de8a031",
   "metadata": {},
   "source": [
    "**Retrieve the saved dictionary**"
   ]
  },
  {
   "cell_type": "code",
   "execution_count": null,
   "id": "0c6c3c14",
   "metadata": {},
   "outputs": [],
   "source": [
    "ggm_by_sector_dict = dict()\n",
    "with open('models_outputs/GGM_output/X_year_disp/ggm_by_sector_Xyear.pickle','rb') as file:\n",
    "    raw_data = file.read()\n",
    "    ggm_by_sector_dict.update(pickle.loads(raw_data))"
   ]
  },
  {
   "cell_type": "code",
   "execution_count": null,
   "id": "b44ec3af",
   "metadata": {},
   "outputs": [],
   "source": [
    "ggm_by_sector = dict()\n",
    "for sector in ggm_by_sector_dict.keys():\n",
    "    ggm_by_sector[sector] = pd.DataFrame.from_dict(ggm_by_sector_dict[sector], orient='index', columns=['intrinsic_value', 'intrval_vs_currentprice'])"
   ]
  },
  {
   "cell_type": "code",
   "execution_count": null,
   "id": "acb0af61",
   "metadata": {},
   "outputs": [],
   "source": [
    "ggm_by_sector['Industrials']"
   ]
  },
  {
   "cell_type": "markdown",
   "id": "40288217",
   "metadata": {},
   "source": [
    "## TESTING AN ALTERNATIVE WAY THAT ALSO WORKED\n",
    "(It is not completely refined)"
   ]
  },
  {
   "cell_type": "code",
   "execution_count": null,
   "id": "3b08b758",
   "metadata": {},
   "outputs": [],
   "source": [
    "#Using the CAPM model to compute the cost of equity\n",
    "\n",
    "ten_year_bond_rate = pd.read_csv('10-year-treasury-bond-rate-yield-chart.csv', index_col=0)\n",
    "key_metrics = dict_companies[ticker]['_Company__key_metrics']\n",
    "mrq_date = key_metrics.columns[0]\n",
    "risk_free_rate = ten_year_bond_rate.loc[ten_year_bond_rate.index.str.contains(mrq_date)].iloc[0].value / 100\n",
    "\n",
    "beta = dict_companies[ticker]['_Company__profile'].loc['beta'][0]\n",
    "\n",
    "#We'll take the average return of the market from the average return of S&P500 which is 10,5% but being conservative, we'll leave it at 10%\n",
    "average_market_return = 0.1\n",
    "\n",
    "cost_of_equity = risk_free_rate+beta*(average_market_return-risk_free_rate)\n",
    "cost_of_equity"
   ]
  },
  {
   "cell_type": "code",
   "execution_count": null,
   "id": "e8f0678c",
   "metadata": {},
   "outputs": [],
   "source": [
    "dividend_growth_rate = key_metrics.loc['roe', key_metrics.columns[:4]].sum() * (1-key_metrics.loc['payoutRatio', key_metrics.columns[:4]].mean())\n",
    "dividend_growth_rate   "
   ]
  },
  {
   "cell_type": "code",
   "execution_count": null,
   "id": "c3f18154",
   "metadata": {},
   "outputs": [],
   "source": [
    "stock_data = fa.stock_data(ticker, interval=\"1d\")\n",
    "stock_data.index = pd.to_datetime(stock_data.index)\n",
    "format_date = pd.to_datetime(mrq_date+'-01')\n",
    "stock_price = stock_data.iloc[stock_data.index.get_loc(format_date, method='nearest')].close\n",
    "\n",
    "dividend_per_share = stock_price * key_metrics.loc['dividendYield'][0]\n",
    "dividend_per_share"
   ]
  },
  {
   "cell_type": "code",
   "execution_count": null,
   "id": "7f4e2c85",
   "metadata": {},
   "outputs": [],
   "source": [
    "#Get dividends of the last year\n",
    "#Note: We'll take ttm dividends paid untilt the mrq date in our key_metrics data\n",
    "\n",
    "dividends = dict_companies[ticker]['_Company__dividends']\n",
    "dividends.index = pd.to_datetime(dividends.index, format='%Y-%m-%d')\n",
    "format_mrq_date = pd.to_datetime(mrq_date+'-01') \n",
    "comparing_dates_arr = dividends.index < format_mrq_date\n",
    "dividends_last_year = dividends.loc[dividends.index.year \n",
    "                                    == dividends.iloc[[np.where(comparing_dates_arr==True)[0][0]]].index.year[0]].dividend.sum()\n",
    "dividend_per_share = dividends_last_year * dividend_growth_rate\n",
    "dividend_per_share"
   ]
  },
  {
   "cell_type": "code",
   "execution_count": null,
   "id": "6c9a35e4",
   "metadata": {},
   "outputs": [],
   "source": [
    "intrinsic_value = dividend_per_share / (cost_of_equity - dividend_growth_rate)\n",
    "intrinsic_value"
   ]
  }
 ],
 "metadata": {
  "kernelspec": {
   "display_name": "Python 3 (ipykernel)",
   "language": "python",
   "name": "python3"
  },
  "language_info": {
   "codemirror_mode": {
    "name": "ipython",
    "version": 3
   },
   "file_extension": ".py",
   "mimetype": "text/x-python",
   "name": "python",
   "nbconvert_exporter": "python",
   "pygments_lexer": "ipython3",
   "version": "3.9.7"
  }
 },
 "nbformat": 4,
 "nbformat_minor": 5
}
