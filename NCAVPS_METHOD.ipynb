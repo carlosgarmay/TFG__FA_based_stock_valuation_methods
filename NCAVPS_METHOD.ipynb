{
 "cells": [
  {
   "cell_type": "markdown",
   "id": "8cb9f5ff",
   "metadata": {},
   "source": [
    "**Imports**"
   ]
  },
  {
   "cell_type": "code",
   "execution_count": 1,
   "id": "8f166183",
   "metadata": {},
   "outputs": [
    {
     "name": "stdout",
     "output_type": "stream",
     "text": [
      "importing Jupyter notebook from UTILS.ipynb\n"
     ]
    }
   ],
   "source": [
    "import pandas as pd\n",
    "import numpy as np\n",
    "import seaborn as sns\n",
    "import matplotlib.pyplot as plt\n",
    "from datetime import datetime\n",
    "import pickle\n",
    "import time\n",
    "import missingno as msno\n",
    "from statistics import mean\n",
    "from collections import Counter, OrderedDict\n",
    "from IPython.display import display\n",
    "import import_ipynb\n",
    "import UTILS as utils\n",
    "from time import sleep\n",
    "\n",
    "import FundamentalAnalysis as fa"
   ]
  },
  {
   "cell_type": "code",
   "execution_count": 2,
   "id": "0e6f7acd",
   "metadata": {},
   "outputs": [],
   "source": [
    "pd.set_option(\"display.max_rows\", None, \"display.max_columns\", None)"
   ]
  },
  {
   "cell_type": "code",
   "execution_count": 3,
   "id": "52eac74f",
   "metadata": {},
   "outputs": [],
   "source": [
    "api_key = \"Here would go my personal API key\""
   ]
  },
  {
   "cell_type": "markdown",
   "id": "169df3ba",
   "metadata": {},
   "source": [
    "------------"
   ]
  },
  {
   "cell_type": "markdown",
   "id": "4adcf8ea",
   "metadata": {},
   "source": [
    "**Load data**"
   ]
  },
  {
   "cell_type": "markdown",
   "id": "10eefcad",
   "metadata": {},
   "source": [
    "*Files with data from year with displacement -X*"
   ]
  },
  {
   "cell_type": "code",
   "execution_count": null,
   "id": "d450826a",
   "metadata": {},
   "outputs": [],
   "source": [
    "file1 = 'DATA_ttm/S_P500_data_ttm_Xyeardisp/S_P500_dataframe_with_ratios_ttm_Xyeardisp.csv'\n",
    "file2 = 'DATA_ttm/S_P500_data_ttm_Xyeardisp/S_P500_companies_financials_data_ttm_Xyeardisp.pickle'"
   ]
  },
  {
   "cell_type": "code",
   "execution_count": null,
   "id": "01d2a006",
   "metadata": {},
   "outputs": [],
   "source": [
    "data_loaded = utils.data_loading(file1, file2)"
   ]
  },
  {
   "cell_type": "code",
   "execution_count": null,
   "id": "5ebf0cb1",
   "metadata": {},
   "outputs": [],
   "source": [
    "df = data_loaded[0]\n",
    "dict_companies = data_loaded[1]"
   ]
  },
  {
   "cell_type": "code",
   "execution_count": null,
   "id": "aaebff2f",
   "metadata": {},
   "outputs": [],
   "source": [
    "df.head(2)"
   ]
  },
  {
   "cell_type": "markdown",
   "id": "997dee22",
   "metadata": {},
   "source": [
    "----------------"
   ]
  },
  {
   "cell_type": "markdown",
   "id": "b2cdd2a4",
   "metadata": {},
   "source": [
    "**Add sectors and industries info to the dataset**"
   ]
  },
  {
   "cell_type": "code",
   "execution_count": null,
   "id": "62343b95",
   "metadata": {},
   "outputs": [],
   "source": [
    "sectors_df, industries_df = utils.get_company_sectors_and_industries(df, dict_companies)"
   ]
  },
  {
   "cell_type": "code",
   "execution_count": null,
   "id": "17d38f77",
   "metadata": {},
   "outputs": [],
   "source": [
    "if set(['sector','industry']).issubset(df.columns) == False:\n",
    "    df.insert(0, \"sector\", sectors_df.sector)\n",
    "    df.insert(1, \"industry\", industries_df.industry)"
   ]
  },
  {
   "cell_type": "markdown",
   "id": "4691b436",
   "metadata": {},
   "source": [
    "-------------------"
   ]
  },
  {
   "cell_type": "markdown",
   "id": "779ecc4c",
   "metadata": {},
   "source": [
    "**Compute intrinsic value**"
   ]
  },
  {
   "cell_type": "markdown",
   "id": "7e0477c4",
   "metadata": {},
   "source": [
    "NCAVPS = (Current Assets - Total Liabilities) / Number of Shares"
   ]
  },
  {
   "cell_type": "code",
   "execution_count": null,
   "id": "393cc145",
   "metadata": {},
   "outputs": [],
   "source": [
    "def compute_ncavps_instrinsic_value(dict_companies, ticker, year_disp=0):\n",
    "    \n",
    "    balance_sheet = dict_companies[ticker]['_Company__balance_sheet']\n",
    "    current_assets = balance_sheet.loc['totalCurrentAssets'][4*year_disp:4+(4*year_disp)].mean()\n",
    "    total_liabilities = balance_sheet.loc['totalLiabilities'][4*year_disp:4+(4*year_disp)].mean()\n",
    "    enterprise_value =  dict_companies[ticker]['_Company__enterprise_value']\n",
    "    try:\n",
    "        number_shares = enterprise_value.loc['numberOfShares'][4*year_disp]\n",
    "        date = balance_sheet.columns[4*year_disp]\n",
    "    except:\n",
    "        return \"Error. No data for this ticker\"\n",
    "    \n",
    "    if number_shares == 0:\n",
    "        return 0, date\n",
    "    \n",
    "    intrinsic_value = (current_assets - total_liabilities)/number_shares\n",
    "    \n",
    "    return intrinsic_value, date"
   ]
  },
  {
   "cell_type": "code",
   "execution_count": null,
   "id": "c29b1f1a",
   "metadata": {},
   "outputs": [],
   "source": [
    "def stock_price_intrinsic_value_comparator(dict_companies, ticker, intrinsic_value, date):\n",
    "    \n",
    "    stock_data = fa.stock_data(ticker, interval=\"1d\")\n",
    "    stock_data.index = pd.to_datetime(stock_data.index)\n",
    "    \n",
    "    format_date = pd.to_datetime(date+'-01')\n",
    "    stock_price = stock_data.iloc[stock_data.index.get_loc(format_date, method='nearest')].close\n",
    "        \n",
    "    if stock_price == 0:\n",
    "        pr_intrinsic_price = 0\n",
    "    else:\n",
    "        pr_intrinsic_price = intrinsic_value/stock_price #ALREADY CHANGED, DELETED THE TRAILING -1\n",
    "    \n",
    "    return pr_intrinsic_price"
   ]
  },
  {
   "cell_type": "code",
   "execution_count": null,
   "id": "e32c46f2",
   "metadata": {},
   "outputs": [],
   "source": [
    "ncavps_by_sector = dict()\n",
    "sectors = utils.get_sectors_and_industries(df, dict_companies)[0]\n",
    "for sector in sectors:\n",
    "    sector_df = utils.get_sector_companies(df, dict_companies, sector)\n",
    "    ncavps_by_sector[sector] = dict()\n",
    "    for ticker in sector_df.index:\n",
    "        intrinsic = compute_ncavps_instrinsic_value(dict_companies, ticker, year_disp=(X years of disp))\n",
    "        if intrinsic == \"Error. No data for this ticker\":\n",
    "            ncavps_by_sector[sector][ticker] = [np.nan]\n",
    "            ncavps_by_sector[sector][ticker].append(np.nan)\n",
    "        else:\n",
    "            ncavps_by_sector[sector][ticker] = [intrinsic[0]]\n",
    "            ncavps_by_sector[sector][ticker].append(stock_price_intrinsic_value_comparator(dict_companies, ticker, intrinsic[0], intrinsic[1]))"
   ]
  },
  {
   "cell_type": "code",
   "execution_count": null,
   "id": "fa95d704",
   "metadata": {},
   "outputs": [],
   "source": [
    "ncavps_by_sector.keys()"
   ]
  },
  {
   "cell_type": "code",
   "execution_count": null,
   "id": "375982ce",
   "metadata": {},
   "outputs": [],
   "source": [
    "with open(f'models_outputs/NCAVPS_output/X_year_disp/ncavps_by_sector_Xyear.pickle', 'wb') as file:\n",
    "    pickle.dump(ncavps_by_sector, file)"
   ]
  },
  {
   "cell_type": "markdown",
   "id": "454ff235",
   "metadata": {},
   "source": [
    "**Retrieve the saved dictionary**"
   ]
  },
  {
   "cell_type": "code",
   "execution_count": null,
   "id": "ee635061",
   "metadata": {},
   "outputs": [],
   "source": [
    "ncavps_by_sector_dict = dict()\n",
    "with open('models_outputs/NCAVPS_output/X_year_disp/ncavps_by_sector_Xyear.pickle','rb') as file:\n",
    "    raw_data = file.read()\n",
    "    ncavps_by_sector_dict.update(pickle.loads(raw_data))"
   ]
  },
  {
   "cell_type": "code",
   "execution_count": null,
   "id": "160fc0b3",
   "metadata": {},
   "outputs": [],
   "source": [
    "ncavps_by_sector = dict()\n",
    "for sector in ncavps_by_sector_dict.keys():\n",
    "    ncavps_by_sector[sector] = pd.DataFrame.from_dict(ncavps_by_sector_dict[sector], orient='index', columns=['intrinsic_value', 'intrval_vs_currentprice'])"
   ]
  },
  {
   "cell_type": "code",
   "execution_count": null,
   "id": "a4340e3d",
   "metadata": {},
   "outputs": [],
   "source": [
    "ncavps_by_sector['Industrials']"
   ]
  }
 ],
 "metadata": {
  "kernelspec": {
   "display_name": "Python 3 (ipykernel)",
   "language": "python",
   "name": "python3"
  },
  "language_info": {
   "codemirror_mode": {
    "name": "ipython",
    "version": 3
   },
   "file_extension": ".py",
   "mimetype": "text/x-python",
   "name": "python",
   "nbconvert_exporter": "python",
   "pygments_lexer": "ipython3",
   "version": "3.9.7"
  }
 },
 "nbformat": 4,
 "nbformat_minor": 5
}
