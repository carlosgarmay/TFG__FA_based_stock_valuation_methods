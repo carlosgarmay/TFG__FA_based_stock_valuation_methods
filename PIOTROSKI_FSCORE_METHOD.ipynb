{
 "cells": [
  {
   "cell_type": "markdown",
   "id": "ed6574f0",
   "metadata": {},
   "source": [
    "**Imports**"
   ]
  },
  {
   "cell_type": "code",
   "execution_count": null,
   "id": "f6446d13",
   "metadata": {},
   "outputs": [],
   "source": [
    "import pandas as pd\n",
    "import numpy as np\n",
    "import seaborn as sns\n",
    "import matplotlib.pyplot as plt\n",
    "from datetime import datetime\n",
    "import pickle\n",
    "import time\n",
    "import missingno as msno\n",
    "from statistics import mean\n",
    "from collections import Counter, OrderedDict\n",
    "from IPython.display import display\n",
    "import import_ipynb\n",
    "import UTILS as utils\n",
    "\n",
    "import FundamentalAnalysis as fa"
   ]
  },
  {
   "cell_type": "code",
   "execution_count": null,
   "id": "8cafc064",
   "metadata": {},
   "outputs": [],
   "source": [
    "pd.set_option(\"display.max_rows\", None, \"display.max_columns\", None)"
   ]
  },
  {
   "cell_type": "code",
   "execution_count": null,
   "id": "974c1a1f",
   "metadata": {},
   "outputs": [],
   "source": [
    "api_key = \"Here would go my personal API key\""
   ]
  },
  {
   "cell_type": "markdown",
   "id": "3fe33f29",
   "metadata": {},
   "source": [
    "--------"
   ]
  },
  {
   "cell_type": "markdown",
   "id": "570a2266",
   "metadata": {},
   "source": [
    "**Load data**"
   ]
  },
  {
   "cell_type": "markdown",
   "id": "2f3e10ea",
   "metadata": {},
   "source": [
    "*Files with data from year with displacement -X*"
   ]
  },
  {
   "cell_type": "code",
   "execution_count": 84,
   "id": "53b7bbdc",
   "metadata": {
    "scrolled": true
   },
   "outputs": [],
   "source": [
    "file1 = 'DATA_ttm/S_P500_data_ttm_Xyeardisp/S_P500_dataframe_with_ratios_ttm_Xyeardisp.csv'\n",
    "file2 = 'DATA_ttm/S_P500_data_ttm_Xyeardisp/S_P500_companies_financials_data_ttm_Xyeardisp.pickle'"
   ]
  },
  {
   "cell_type": "markdown",
   "id": "5cd5a497",
   "metadata": {},
   "source": [
    "*Files with data from year with displacement -(X+1) (since in this method we take into account the previous year to do comparisons)*"
   ]
  },
  {
   "cell_type": "code",
   "execution_count": null,
   "id": "447bb7aa",
   "metadata": {},
   "outputs": [],
   "source": [
    "file3 = 'DATA_ttm/S_P500_data_ttm_X+1yeardisp/S_P500_dataframe_with_ratios_ttm_X+1yeardisp.csv'\n",
    "file4 = 'DATA_ttm/S_P500_data_ttm_X+1yeardisp/S_P500_companies_financials_data_ttm_X+1yeardisp.pickle'"
   ]
  },
  {
   "cell_type": "code",
   "execution_count": null,
   "id": "0deb1848",
   "metadata": {},
   "outputs": [],
   "source": [
    "df = data_loaded[0]\n",
    "dict_companies = data_loaded[1]\n",
    "\n",
    "df_1 = data_loaded[2]\n",
    "dict_companies_1 = data_loaded[3]"
   ]
  },
  {
   "cell_type": "markdown",
   "id": "f5622f26",
   "metadata": {},
   "source": [
    "----------"
   ]
  },
  {
   "cell_type": "markdown",
   "id": "e8d158be",
   "metadata": {},
   "source": [
    "*Check if we have all the ratios needed for the computations and make sure they don't have NaN values*"
   ]
  },
  {
   "cell_type": "code",
   "execution_count": 59,
   "id": "90727fd5",
   "metadata": {},
   "outputs": [],
   "source": [
    "necessary_ratios = ['_return_on_assets', '_operating_cash_flow_ratio', '_current_ratio', '_gross_margin', '_total_asset_turnover']"
   ]
  },
  {
   "cell_type": "code",
   "execution_count": 60,
   "id": "65bb13ca",
   "metadata": {},
   "outputs": [
    {
     "name": "stdout",
     "output_type": "stream",
     "text": [
      "CONTINUE\n"
     ]
    }
   ],
   "source": [
    "if not len(set(necessary_ratios).intersection(set(df.columns.to_list()))) == len(necessary_ratios):\n",
    "    raise Exception(\"CAN'T CONTINUE, YOU ARE MISSING SOME NECESSARY RATIO IN YOUR DATA\")\n",
    "else:\n",
    "    print('CONTINUE')"
   ]
  },
  {
   "cell_type": "markdown",
   "id": "cbed7261",
   "metadata": {},
   "source": [
    "-----------------"
   ]
  },
  {
   "cell_type": "markdown",
   "id": "40ccca91",
   "metadata": {},
   "source": [
    "**Compute Piotroski scores**"
   ]
  },
  {
   "cell_type": "code",
   "execution_count": 9,
   "id": "7c7ad6a0",
   "metadata": {},
   "outputs": [],
   "source": [
    "def compute_profitability_scores(df, dict_companies, df_1, dict_companies_1, disp):\n",
    "    \n",
    "    scores = dict()\n",
    "    \n",
    "    return_on_assets_positive = df._return_on_assets > 0\n",
    "    scores['return_on_assets']  = list(return_on_assets_positive[return_on_assets_positive].index)\n",
    "    \n",
    "    operating_cash_flow_positive = df._operating_cash_flow_ratio > 0\n",
    "    scores['operating_cash_flow']  = list(operating_cash_flow_positive[operating_cash_flow_positive].index)\n",
    "    \n",
    "    change_return_on_assets_positive = df._return_on_assets > df_1._return_on_assets\n",
    "    scores['change_return_on_assets'] = list(change_return_on_assets_positive[change_return_on_assets_positive].index)\n",
    "    \n",
    "    accruals_positive = []\n",
    "    for ticker in df.index:\n",
    "        cash_flow_statement = dict_companies[ticker]['_Company__cash_flow_statement']\n",
    "        balance_sheet = dict_companies[ticker]['_Company__balance_sheet']\n",
    "        ocf_ta = cash_flow_statement[list(cash_flow_statement.columns[4*disp:4+(4*disp)])].loc['operatingCashFlow'].mean()/\\\n",
    "        balance_sheet[list(balance_sheet.columns[4*disp:4+(4*disp)])].loc['totalAssets'].mean()\n",
    "        if ocf_ta > df.loc[ticker, '_return_on_assets']: accruals_positive.append(ticker)\n",
    "    scores['accruals'] = accruals_positive\n",
    "        \n",
    "    profitability_scores = {ticker:sum(1 for v in scores.values() if ticker in v) for ticker in df.index}\n",
    "        \n",
    "    return profitability_scores"
   ]
  },
  {
   "cell_type": "raw",
   "id": "795b3456",
   "metadata": {},
   "source": [
    "compute_profitability_scores(sector_df, dict_sector, sector_df_1, dict_sector_1)"
   ]
  },
  {
   "cell_type": "code",
   "execution_count": 10,
   "id": "52ba9996",
   "metadata": {},
   "outputs": [],
   "source": [
    "def compute_leverage_liquidity_scores(df, dict_companies, df_1, dict_companies_1, disp):\n",
    "    \n",
    "    scores = dict()\n",
    "    \n",
    "    change_long_term_positive = []\n",
    "    for ticker in df.index:\n",
    "        #Both balance sheets are equal since we didn't took into consideration the time displacement when storing them\n",
    "        balance_sheet = dict_companies[ticker]['_Company__balance_sheet']\n",
    "        balance_sheet_1 = dict_companies_1[ticker]['_Company__balance_sheet']\n",
    "        if balance_sheet[list(balance_sheet.columns[4*disp:4+(4*disp)])].loc['longTermDebt'].mean() <\\\n",
    "                                        balance_sheet_1[list(balance_sheet_1.columns[4+(4*disp):8+(4*disp)])].loc['longTermDebt'].mean():\n",
    "            change_long_term_positive.append(ticker)\n",
    "    scores['change_long_term'] = change_long_term_positive\n",
    "    \n",
    "    \n",
    "    change_current_ratio_positive = df._current_ratio > df_1._current_ratio\n",
    "    scores['change_return_on_assets'] = list(change_current_ratio_positive[change_current_ratio_positive].index)\n",
    "    \n",
    "    \n",
    "    change_number_shares_positive = []\n",
    "    for ticker in df.index:\n",
    "        enterprise_value = dict_companies[ticker]['_Company__enterprise_value']\n",
    "        enterprise_value_1 = dict_companies_1[ticker]['_Company__enterprise_value']\n",
    "        try:\n",
    "            try:\n",
    "                if enterprise_value.loc['numberOfShares', enterprise_value.columns[4*disp]] <= enterprise_value_1.loc['numberOfShares', enterprise_value_1.columns[4+(4*disp)]]:\n",
    "                    change_number_shares_positive.append(ticker)\n",
    "            except:\n",
    "                if enterprise_value.loc['numberOfShares', enterprise_value.columns[4*disp]] <= enterprise_value_1.loc['numberOfShares', enterprise_value_1.columns[(len(enterprise_value_1.columns)-1)]]:\n",
    "                    change_number_shares_positive.append(ticker)\n",
    "        except: pass\n",
    "    scores['change_number_shares'] = change_number_shares_positive\n",
    "    \n",
    "    \n",
    "    leverage_liquidity_scores = {ticker:sum(1 for v in scores.values() if ticker in v) for ticker in df.index}\n",
    "        \n",
    "    return leverage_liquidity_scores       \n",
    "    "
   ]
  },
  {
   "cell_type": "raw",
   "id": "adcad15e",
   "metadata": {},
   "source": [
    "compute_leverage_liquidity_scores(sector_df, dict_sector, sector_df_1, dict_sector_1)"
   ]
  },
  {
   "cell_type": "code",
   "execution_count": 11,
   "id": "71c2e341",
   "metadata": {},
   "outputs": [],
   "source": [
    "def compute_operating_efficiency_scores(df, dict_companies, df_1, dict_companies_1):\n",
    "    \n",
    "    scores = dict()\n",
    "    \n",
    "    change_gross_margin_positive = df._gross_margin > df_1._gross_margin\n",
    "    scores['change_gross_margin'] = list(change_gross_margin_positive[change_gross_margin_positive].index)\n",
    "    \n",
    "    \n",
    "    change_asset_turnover_positive = df._total_asset_turnover > df_1._total_asset_turnover\n",
    "    scores['change_asset_turnover'] = list(change_asset_turnover_positive[change_asset_turnover_positive].index)\n",
    "\n",
    "    \n",
    "    operating_efficiency_scores = {ticker:sum(1 for v in scores.values() if ticker in v) for ticker in df.index}\n",
    "        \n",
    "    return operating_efficiency_scores   \n",
    "    "
   ]
  },
  {
   "cell_type": "raw",
   "id": "3b7d7bb1",
   "metadata": {},
   "source": [
    "compute_operating_efficiency_scores(sector_df, dict_sector, sector_df_1, dict_sector_1)"
   ]
  },
  {
   "cell_type": "code",
   "execution_count": 12,
   "id": "1afa19bc",
   "metadata": {},
   "outputs": [],
   "source": [
    "def compute_piotroski_f_score(df, dict_companies, df_1, dict_companies_1, sort_by_score=False, year_disp=0):\n",
    "    \n",
    "    profitability_scores = compute_profitability_scores(df, dict_companies, df_1, dict_companies_1, year_disp)\n",
    "    \n",
    "    leverage_liquidity_scores = compute_leverage_liquidity_scores(df, dict_companies, df_1, dict_companies_1, year_disp)\n",
    "    \n",
    "    operating_efficiency_scores = compute_operating_efficiency_scores(df, dict_companies, df_1, dict_companies_1)\n",
    "    \n",
    "    if (profitability_scores.keys()==leverage_liquidity_scores.keys() and leverage_liquidity_scores.keys()==operating_efficiency_scores.keys()):\n",
    "        piotroski_f_score_dict = dict(Counter(profitability_scores) + Counter(leverage_liquidity_scores) + Counter(operating_efficiency_scores))\n",
    "        '''\n",
    "        piotroski_f_score = pd.DataFrame(piotroski_f_score_dict.items(), columns=['ticker', 'piotroski_f_score']).set_index('ticker')\n",
    "        if sort_by_score:\n",
    "            piotroski_f_score = piotroski_f_score.sort_values('piotroski_f_score', ascending=False)\n",
    "        '''\n",
    "        return piotroski_f_score_dict   #if you uncomment the lines above, you would return piotroski_f_score dataframe\n",
    "    else:\n",
    "        print('An error occurred')"
   ]
  },
  {
   "cell_type": "code",
   "execution_count": 85,
   "id": "aac4bc90",
   "metadata": {},
   "outputs": [],
   "source": [
    "scores_by_sector = dict()\n",
    "sectors = utils.get_sectors_and_industries(df, dict_companies)[0]\n",
    "for sector in sectors:\n",
    "    sector_df = utils.get_sector_companies(df, dict_companies, sector)\n",
    "    sector_df_1 = utils.get_sector_companies(df_1, dict_companies_1, sector)\n",
    "    if len(np.where((sector_df.index == sector_df_1.index)==False)[0])!=0:\n",
    "        raise Exception('PROBLEM!!! Tickers of both dataframes should be the same')\n",
    "    dict_sector = {k: v for k, v in dict_companies.items() if k in list(sector_df.index)}\n",
    "    dict_sector_1 = {k: v for k, v in dict_companies.items() if k in list(sector_df_1.index)}\n",
    "    scores_by_sector[sector] = compute_piotroski_f_score(sector_df, dict_sector, sector_df_1, dict_sector_1, True, year_disp=0)"
   ]
  },
  {
   "cell_type": "code",
   "execution_count": null,
   "id": "6b906c30",
   "metadata": {},
   "outputs": [],
   "source": [
    "scores_by_sector.keys()"
   ]
  },
  {
   "cell_type": "code",
   "execution_count": 89,
   "id": "98918ab3",
   "metadata": {},
   "outputs": [],
   "source": [
    "with open(f'models_outputs/piotroskiFscore_output/X_year_disp/scores_by_sector_Xyear.pickle', 'wb') as file:\n",
    "    pickle.dump(scores_by_sector, file)"
   ]
  },
  {
   "cell_type": "markdown",
   "id": "b67b0f48",
   "metadata": {},
   "source": [
    "**Retrieve the saved dictionary**"
   ]
  },
  {
   "cell_type": "code",
   "execution_count": null,
   "id": "d86ab3e0",
   "metadata": {},
   "outputs": [],
   "source": [
    "scores_by_sector_dict = dict()\n",
    "with open('models_outputs/piotroskiFscore_output/X_year_disp/scores_by_sector_Xyear.pickle','rb') as file:\n",
    "    raw_data = file.read()\n",
    "    scores_by_sector_dict.update(pickle.loads(raw_data))"
   ]
  },
  {
   "cell_type": "code",
   "execution_count": null,
   "id": "6cc79969",
   "metadata": {},
   "outputs": [],
   "source": [
    "scores_by_sector = dict()\n",
    "for sector in scores_by_sector_dict.keys():\n",
    "    scores_by_sector[sector] = pd.DataFrame.from_dict(scores_by_sector_dict[sector], orient='index', columns=['piotroski_f_score'])"
   ]
  },
  {
   "cell_type": "code",
   "execution_count": null,
   "id": "e6127e97",
   "metadata": {},
   "outputs": [],
   "source": [
    "scores_by_sector['Industrials']"
   ]
  }
 ],
 "metadata": {
  "kernelspec": {
   "display_name": "Python 3 (ipykernel)",
   "language": "python",
   "name": "python3"
  },
  "language_info": {
   "codemirror_mode": {
    "name": "ipython",
    "version": 3
   },
   "file_extension": ".py",
   "mimetype": "text/x-python",
   "name": "python",
   "nbconvert_exporter": "python",
   "pygments_lexer": "ipython3",
   "version": "3.9.7"
  }
 },
 "nbformat": 4,
 "nbformat_minor": 5
}
